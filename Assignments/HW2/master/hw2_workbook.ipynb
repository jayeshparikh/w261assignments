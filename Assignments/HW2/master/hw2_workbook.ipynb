{
 "cells": [
  {
   "cell_type": "markdown",
   "metadata": {},
   "source": [
    "# HW 2 - Naive Bayes in Hadoop MR\n",
    "__`MIDS w261: Machine Learning at Scale | UC Berkeley School of Information | Fall 2018`__\n",
    "\n",
    "In the live sessions for week 2 and week 3 you got some practice designing and debugging Hadoop Streaming jobs. In this homework we'll use Hadoop MapReduce to implement your first parallelized machine learning algorithm: Naive Bayes. As you develop your implementation you'll test it on a small dataset that matches the 'Chinese Example' in the _Manning, Raghavan and Shutze_ reading for Week 2. For the main task in this assignment you'll be working with a small subset of the Enron Spam/Ham Corpus. By the end of this assignment you should be able to:\n",
    "* __... describe__ the Naive Bayes algorithm including both training and inference.\n",
    "* __... perform__ EDA on a corpus using Hadoop MR.\n",
    "* __... implement__ parallelized Naive Bayes.\n",
    "* __... constrast__ partial, unordered and total order sort and their implementations in Hadoop Streaming.\n",
    "* __... explain__ how smoothing affects the bias and variance of a Multinomial Naive Bayes model.\n",
    "\n",
    "As always, your work will be graded both on the correctness of your output and on the clarity and design of your code. __Please refer to the `README` for homework submission instructions.__ "
   ]
  },
  {
   "cell_type": "markdown",
   "metadata": {},
   "source": [
    "## Notebook Setup\n",
    "Before starting, run the following cells to confirm your setup."
   ]
  },
  {
   "cell_type": "code",
   "execution_count": 1,
   "metadata": {},
   "outputs": [],
   "source": [
    "# imports\n",
    "import numpy as np\n",
    "import matplotlib.pyplot as plt\n",
    "%matplotlib inline\n",
    "%reload_ext autoreload\n",
    "%autoreload 2"
   ]
  },
  {
   "cell_type": "code",
   "execution_count": 2,
   "metadata": {},
   "outputs": [],
   "source": [
    "# global vars (paths) - ADJUST AS NEEDED\n",
    "JAR_FILE = \"/usr/lib/hadoop-mapreduce/hadoop-streaming.jar\"\n",
    "HDFS_DIR = \"/user/root/HW2/\"\n",
    "HOME_DIR = \"\" # FILL IN HERE eg. /media/notebooks/Assignments/HW2"
   ]
  },
  {
   "cell_type": "code",
   "execution_count": 3,
   "metadata": {},
   "outputs": [],
   "source": [
    "# <--- SOLUTION --->\n",
    "HOME_DIR = \"/media/notebooks/Assignments/HW2/master\"\n",
    "HOME_DIR = \"/media/notebooks/Instructors/Assignments/HW2/master\" # for Instructors only"
   ]
  },
  {
   "cell_type": "code",
   "execution_count": 4,
   "metadata": {},
   "outputs": [],
   "source": [
    "# save path for use in Hadoop jobs (-cmdenv PATH={PATH})\n",
    "from os import environ\n",
    "PATH  = environ['PATH']"
   ]
  },
  {
   "cell_type": "code",
   "execution_count": 5,
   "metadata": {},
   "outputs": [],
   "source": [
    "# data path\n",
    "ENRON = \"data/enronemail_1h.txt\""
   ]
  },
  {
   "cell_type": "code",
   "execution_count": 6,
   "metadata": {},
   "outputs": [],
   "source": [
    "# make the HDFS directory if it doesn't already exist\n",
    "!hdfs dfs -ls \n",
    "!hdfs dfs -mkdir {HDFS_DIR}"
   ]
  },
  {
   "cell_type": "markdown",
   "metadata": {},
   "source": [
    "# Question 1: Hadoop MapReduce Key Takeaways.  \n",
    "\n",
    "This assignment will be the only one in which you use Hadoop Streaming to implement a distributed algorithm. The key reason we continue to teach Hadoop streaming is because of the way it forces the programmer to think carefully about what is happening under the hood when you parallelize a calculation. This question will briefly highlight some of the most important concepts that you need to understand about Hadoop Streaming and MapReduce before we move on to Spark next week.   \n",
    "\n",
    "### Q1 Tasks:\n",
    "\n",
    "* __a) short response:__ What \"programming paradigm\" is Hadoop MapReduce based on? What are the main ideas of this programming paradigm and how does MapReduce exemplify these ideas?\n",
    "\n",
    "* __b) short response:__ What is the Hadoop Shuffle? When does it happen? Why is it potentially costly? Describe one specific thing we can we do to mitigate the cost associated with this stage of our Hadoop Streaming jobs.\n",
    "\n",
    "* __c) short response:__ In Hadoop Streaming why do the input and output record format of a combiner script have to be the same? [__`HINT`__ _what level of combining does the framework guarantee? what is the relationship between the record format your mapper emits and the format your reducer expects to receive?_]\n",
    "\n",
    "* __d) short response:__ To what extent can you control the level of parallelization of your Hadoop Streaming jobs? Please be specific.\n",
    "\n",
    "* __e) short response:__ What change in the kind of computing resources available prompted the creation of parallel computation frameworks like Hadoop? "
   ]
  },
  {
   "cell_type": "markdown",
   "metadata": {},
   "source": [
    "### Q1 Student Answers:\n",
    "\n",
    "> __a)__ Type your answer here!  \n",
    "\n",
    "> __b)__ Type your answer here!  \n",
    "\n",
    "> __c)__ Type your answer here!  \n",
    "\n",
    "> __d)__ Type your answer here!  \n",
    "\n",
    "> __e)__ Type your answer here!  "
   ]
  },
  {
   "cell_type": "markdown",
   "metadata": {},
   "source": [
    "### <--- SOLUTION --->\n",
    "__SOLUTION__\n",
    "\n",
    "> __a)__ Hadoop MapReduce is based on the functional programing paradigm. It is a declarative programming paradigm, which means programming is done with expressions. In functional code, the output value of a function depends only on the arguments that are input to the function. Key ideas in this paradigm include avoiding state changes/mutable data, and using higher-order functions (functions which take other functions as inputs). Map and reduce are examples of higher-order functions. \n",
    "\n",
    "> __b)__ The 'shuffle' is where Hadoop partitions, sorts, and copies data over the network to reducer nodes. Partitioning of the mapper output gurantees that records with the same key will be processed by the same reducer task. This is costly because of the network transfer required & the time complexity of doing a merge sort at scale. The key to mitigating the time/space cost of the shuffle is performing local aggregation either in memory in our mappers or by using a combiner.\n",
    "\n",
    "> __c)__ Since Hadoop does not guarantee that a combiner will be executed, our record format has to work whether or not it goes through the combiner. In other words, the signature of the input and output of the combiner must match the signature of the input to the reducer. \n",
    "\n",
    "> __d)__ We can explicitly control the number of reducers used (for example by setting the `-numReduceTasks` parameter). But we can't force Hadoop to use the number of mappers we desire.\n",
    "\n",
    "> __e)__ The rise of parallel computing frameworks was made possible by an increase in the availablility of cheap comodity hardware -- instead of investing in super computers the idea is to link together a lot of less powerful machines."
   ]
  },
  {
   "cell_type": "markdown",
   "metadata": {},
   "source": [
    "# Question 2: MapReduce Design Patterns.  \n",
    "\n",
    "In the last two live sessions and in your readings from Lin & Dyer you encountered a number of techniques for manipulating the logistics of a MapReduce implementation to ensure that the right information is available at the right time and location. In this question we'll review a few of the key techniques you learned.   \n",
    "\n",
    "### Q2 Tasks:\n",
    "\n",
    "* __a) short response:__ What are counters (in the context of Hadoop Streaming)? How are they useful? What kinds of counters does Hadoop provide for you? How do you create your own custom counter?\n",
    "\n",
    "* __b) short response:__ What are composite keys? How are they useful? How are they related to the idea of custom partitioning?\n",
    "\n",
    "* __c) short response:__ What is the order inversion pattern? What problem does it help solve? How do we implement it? "
   ]
  },
  {
   "cell_type": "markdown",
   "metadata": {},
   "source": [
    "### Q2 Student Answers:\n",
    "\n",
    "> __a)__ Type your answer here!  \n",
    "\n",
    "> __b)__ Type your answer here!  \n",
    "\n",
    "> __c)__ Type your answer here!  \n"
   ]
  },
  {
   "cell_type": "markdown",
   "metadata": {},
   "source": [
    "### <--- SOLUTION --->\n",
    "__SOLUTIONS__\n",
    "> __a)__  Counters are a shared variable that is incremented and decremented atomically by the Hadoop framework. This means that all running instances within a job can update this variable to get a total count at the end. This is a departure from the principle of statelessness but is very useful for confirming that your jobs are running properly or aggregating summary statistics while performing other computations. The built in counters tell us information about IO, timing, and job orchestration. These are useful because such information can help you optimize your jobs. Especially useful are the Job Counters that tell you how many map, combine, and reduce tasks were run as well as the Map-Reduce Framework counters that tell you how many lines were input and output from your tasks. To create a custom counter we just write to standard output. For example:\n",
    " `sys.stderr.write(\"reporter:counter:MyWordCounter,count,1\\n\")`. It is important to keep in mind that counter values are not available to mapper and reducer functions, and are only exposed after the job has finished.\n",
    " \n",
    "    \n",
    "> __b)__ A composite key is when we package two pieces of information together to form the key that Hadoop will shuffle. This can be done by literally combining them as a string or by specifying that Hadoop should pay attention to two fields when shuffling. Composite keys are primarily useful when we want to control which sets of keys are shuffled to the same reducer node. In that scenario we  would 'combine' a partition key with our regular key to customize which records end up together.\n",
    "\n",
    "\n",
    "> __c)__ The order inversion pattern is when we use a special key to ensure that some piece of information is processed before everthing else at the reduce stage. In some situations this can help us avoid a second shuffle, for example if you want to normalize values by a total but won't have access to the total until your sub-tallies are shuffled together."
   ]
  },
  {
   "cell_type": "markdown",
   "metadata": {},
   "source": [
    "# Question 3: Understanding Total Order Sort\n",
    "\n",
    "The key challenge in distributed computing is to break a problem into a set of sub-problems that can be performed without communicating with each other. Ideally, we should be able to define an arbirtary number of splits and still get the right result, but that is not always possible. Parallelization becomes particularly challenging when we need to make comparisons between records, for example when sorting. Total Order Sort allows us to order large datasets in a way that enables efficient retrieval of results. Before beginning this assignment, make sure you have read and understand the [Total Order Sort Notebook](https://github.com/UCB-w261/main/tree/master/HelpfulResources/TotalSortGuide/_total-sort-guide-spark2.01-JAN27-2017.ipynb). You can skip the first two MRJob sections, but the rest of section III and all of section IV are **very** important (and apply to Hadoop Streaming) so make sure to read them closely. Feel free to read the Spark sections as well but you won't be responsible for that material until later in the course. To verify your understanding, answer the following questions.\n",
    "\n",
    "### Q3 Tasks:\n",
    "\n",
    "* __a) short response:__ What is the difference between a partial sort, an unordered total sort, and a total order sort? From the programmer's perspective, what does total order sort allow us to do that we can't with unordered total? Why is this important with large datasets?\n",
    "\n",
    "* __b) short response:__ Which phase of a MapReduce job is leveraged to implement Total Order Sort? Which default behaviors must be changed. Why must they be changed?\n",
    "\n",
    "* __c) short response:__ Describe in words how to configure a Hadoop Streaming job for the custom sorting and partitioning that is required for Total Order Sort.  \n",
    "\n",
    "* __d) short response:__ Explain why we need to use an inverse hash code function.\n",
    "\n",
    "* __e) short response:__ Where does this function need to be located so that a Total Order Sort can be performed?"
   ]
  },
  {
   "cell_type": "markdown",
   "metadata": {},
   "source": [
    "### Q3 Student Answers:\n",
    "\n",
    "> __a)__ Type your answer here!  \n",
    "\n",
    "> __b)__ Type your answer here!  \n",
    "\n",
    "> __c)__ Type your answer here!  \n",
    "\n",
    "> __d)__ Type your answer here!  \n",
    "\n",
    "> __e)__ Type your answer here!  "
   ]
  },
  {
   "cell_type": "markdown",
   "metadata": {},
   "source": [
    "### <--- SOLUTION --->\n",
    "\n",
    "__ SOLUTIONS __\n",
    "\n",
    "> __a)__  The key thing that total order sort facillitates is the ability to sort with multiple reducers and the guarantee that the top N results will end up in the first partition. This is key because for really large data sets it would be time consuming to check all of the paritions to find the subset of the results you need.\n",
    ">    - partial sort: Each partition file is sorted independently of each other. Concatentating such partitions would result in an unsorted file.\n",
    ">    - unordered total sort: Partition files are all sorted according to the same key but there is no guarantee about which chunk of output is where. Concatenating these files would only result in a sorted file if the partitions were appropriately reordered.\n",
    ">    - total ordered sort: An unordered total sort where a custom partitioner was used so that the output files are sorted in order according to output filename. Concatentaing these files would result in a single completely sorted file witout any further intervention.\n",
    "\n",
    "> __b)__ The shuffle/sort phase is where the sorting functionality takes place. To implement Total Order Sort, we must override the default partitioning behavior. By default, Hadoop does an alphanumerically increasing sort on a single key field within each partition resulting in partial order sort.\n",
    "\n",
    "> __c)__  The Hadoop Streaming job is configured via several command line options. To perform custom operations, the number of fields to consider for the key and the separator token between key fields must be specified if they are different from the default. For custom sorting, we must also speficy the comparator class along with the comparator options that control how each key field will be sorted, ie the order to consider fields and if they should be sorted numerically or in reverse. For custom partitioning, we must also specify the custom partitioner class along with which key field(s) to partition on.\n",
    "\n",
    "> __d)__  The inverse hash code lets us know the actual key that Hadoop will use for partitioning. By knowing this, we can reorder the partition keys that we are using according to the order that they will be sorted in after being hashed. Without this, we cannot know which partition key to use for which partition so that they end result is ordered by file name.\n",
    "\n",
    "> __e)__  The inverse hash function must be accesible before partitioning takes place. Hense, it needs to reside inside the mapper function.\n"
   ]
  },
  {
   "cell_type": "markdown",
   "metadata": {},
   "source": [
    "# About the Data\n",
    "For the main task in this portion of the homework you will train a classifier to determine whether an email represents spam or not. You will train your Naive Bayes model on a 100 record subset of the Enron Spam/Ham corpus available in the HW2 data directory (__`HW2/data/enronemail_1h.txt`__).\n",
    "\n",
    "__Source:__   \n",
    "The original data included about 93,000 emails which were made public after the company's collapse. There have been a number raw and preprocessed versions of this corpus (including those available [here](http://www.aueb.gr/users/ion/data/enron-spam/index.html) and [here](http://www.aueb.gr/users/ion/publications.html)). The subset we will use is limited to emails from 6 Enron employees and a number of spam sources. It is part of [this data set](http://www.aueb.gr/users/ion/data/enron-spam/) which was created by researchers working on personlized Bayesian spam filters. Their original publication is [available here](http://www.aueb.gr/users/ion/docs/ceas2006_paper.pdf). __`IMPORTANT!`__ _For this homework please limit your analysis to the 100 email subset which we provide. No need to download or run your analysis on any of the original datasets, those links are merely provided as context._\n",
    "\n",
    "__Preprocessing:__  \n",
    "For their work, Metsis et al. (the authors) appeared to have pre-processed the data, not only collapsing all text to lower-case, but additionally separating \"words\" by spaces, where \"words\" unfortunately include punctuation. As a concrete example, the sentence:  \n",
    ">  `Hey Jon, I hope you don't get lost out there this weekend!`  \n",
    "\n",
    "... would have been reduced by Metsis et al. to the form:  \n",
    "> `hey jon , i hope you don ' t get lost out there this weekend !` \n",
    "\n",
    "... so we have reverted the data back toward its original state, removing spaces so that our sample sentence would now look like:\n",
    "> `hey jon, i hope you don't get lost out there this weekend!`  \n",
    "\n",
    "Thus we have at least preserved contractions and other higher-order lexical forms. However, one must be aware that this reversion is not complete, and that some object (specifically web sites) will be ill-formatted, and that all text is still lower-cased.\n",
    "\n",
    "\n",
    "__Format:__   \n",
    "All messages are collated to a tab-delimited format:  \n",
    "\n",
    ">    `ID \\t SPAM \\t SUBJECT \\t CONTENT \\n`  \n",
    "\n",
    "where:  \n",
    ">    `ID = string; unique message identifier`  \n",
    "    `SPAM = binary; with 1 indicating a spam message`  \n",
    "    `SUBJECT = string; title of the message`  \n",
    "    `CONTENT = string; content of the message`   \n",
    "    \n",
    "Note that either of `SUBJECT` or `CONTENT` may be \"NA\", and that all tab (\\t) and newline (\\n) characters have been removed from both of the `SUBJECT` and `CONTENT` columns.  "
   ]
  },
  {
   "cell_type": "code",
   "execution_count": 6,
   "metadata": {},
   "outputs": [
    {
     "name": "stdout",
     "output_type": "stream",
     "text": [
      "/media/notebooks/Assignments/HW2/master\n"
     ]
    }
   ],
   "source": [
    "!pwd"
   ]
  },
  {
   "cell_type": "code",
   "execution_count": 7,
   "metadata": {},
   "outputs": [
    {
     "name": "stdout",
     "output_type": "stream",
     "text": [
      "0001.1999-12-10.farmer\t0\t christmas tree farm pictures\tNA\n",
      "0001.1999-12-10.kaminski\t0\t re: rankings\t thank you.\n",
      "0001.2000-01-17.beck\t0\t leadership development pilot\t\" sally:  what timing, ask and you shall receiv\n",
      "0001.2000-06-06.lokay\t0\t\" key dates and impact of upcoming sap implementation over the next few week\n",
      "0001.2001-02-07.kitchen\t0\t key hr issues going forward\t a) year end reviews-report needs generating \n"
     ]
    }
   ],
   "source": [
    "# take a look at the first 100 characters of the first 5 records (RUN THIS CELL AS IS)\n",
    "!head -n 5 /media/notebooks/Assignments/HW2/master/{ENRON} | cut -c-100"
   ]
  },
  {
   "cell_type": "code",
   "execution_count": 8,
   "metadata": {},
   "outputs": [
    {
     "name": "stdout",
     "output_type": "stream",
     "text": [
      "100 /media/notebooks/Assignments/HW2/master/data/enronemail_1h.txt\n"
     ]
    }
   ],
   "source": [
    "# see how many messages/lines are in the file \n",
    "#(this number may be off by 1 if the last line doesn't end with a newline)\n",
    "!wc -l /media/notebooks/Assignments/HW2/master/{ENRON}"
   ]
  },
  {
   "cell_type": "code",
   "execution_count": 8,
   "metadata": {},
   "outputs": [
    {
     "name": "stdout",
     "output_type": "stream",
     "text": [
      "mkdir: `/user/root/HW2': File exists\n"
     ]
    }
   ],
   "source": [
    "# make the HDFS directory if it doesn't already exist\n",
    "!hdfs dfs -mkdir {HDFS_DIR}"
   ]
  },
  {
   "cell_type": "code",
   "execution_count": 9,
   "metadata": {},
   "outputs": [],
   "source": [
    "# load the data into HDFS (RUN THIS CELL AS IS)\n",
    "!hdfs dfs -copyFromLocal /media/notebooks/Assignments/HW2/master/{ENRON} {HDFS_DIR}/enron.txt"
   ]
  },
  {
   "cell_type": "code",
   "execution_count": 10,
   "metadata": {},
   "outputs": [
    {
     "name": "stdout",
     "output_type": "stream",
     "text": [
      "Found 1 items\n",
      "-rw-r--r--   1 root supergroup     204559 2020-01-02 16:08 /user/root/HW2/enron.txt\n"
     ]
    }
   ],
   "source": [
    "!hdfs dfs -ls {HDFS_DIR}"
   ]
  },
  {
   "cell_type": "markdown",
   "metadata": {},
   "source": [
    "# Question 4:  Enron Ham/Spam EDA.\n",
    "Before building our classifier, lets get aquainted with our data. In particular, we're interested in which words occur more in spam emails than in legitimate (\"ham\") emails. In this question you'll implement two Hadoop MapReduce jobs to count and sort word occurrences by document class. You'll also learn about two new Hadoop streaming parameters that will allow you to control how the records output from your mappers are partitioned for reducing on separate nodes. \n",
    "\n",
    "__`IMPORTANT NOTE:`__ For this question and all subsequent items, you should include both the subject and the body of the email in your analysis (i.e. concatetate them to get the 'text' of the document).\n",
    "\n",
    "### Q4 Tasks:\n",
    "* __a) code:__ Complete the missing components of the code in __`EnronEDA/mapper.py`__ and __`EnronEDA/reducer.py`__ to create a Hadoop  MapReduce job that counts how many times each word in the corpus occurs in an email for each class. Pay close attention to the data format specified in the docstrings of these scripts _-- there are a number of ways to accomplish this task, we've chosen this format to help illustrate a technique in `part e`_. Run the provided unit tests to confirm that your code works as expected, then run the provided Hadoop Streaming command to apply your analysis to the Enron data.\n",
    "\n",
    "\n",
    "* __b) code + short response:__ How many times does the word \"__assistance__\" occur in each class? (`HINT:` Use a `grep` command to read from the results file you generated in '`a`' and then report the answer in the space provided.)\n",
    "\n",
    "\n",
    "* __c) short response:__ Would it have been possible to add some sorting parameters to the Hadoop streaming command that would cause our `part a` results to be sorted by count? Explain why or why not. (`HINT:` This question demands an understanding of the sequence of the phases of MapReduce.)\n",
    "\n",
    "\n",
    "* __d) code + short response:__ Write a second Hadoop MapReduce job to sort the output of `part a` first by class and then by count. Run your job and save the results to a local file. Then describe in words how you would go about printing the top 10 words in each class given this sorted output. (`HINT 1:` _remember that you can simply pass the `part a` output directory to the input field of this job; `HINT 2:` since this task is just reodering the records from `part a` we don't need to write a mapper or reducer, just use `/bin/cat` for both_)\n",
    "\n",
    "\n",
    "* __e) code:__ A more efficient alternative to '`grep`-ing' for the top 10 words in each class would be to use the Hadoop framework to separate records from each class into its own partition so that we can just read the top lines in each. Rewrite your job from ` part d` to specify 2 reduce tasks and to tell Hadoop to partition based on the second field (which indicates spam/ham in our data). Your code should maintain the secondary sort -- that is each partition should list words from most to least frequent."
   ]
  },
  {
   "cell_type": "markdown",
   "metadata": {},
   "source": [
    "### Q4 Student Answers:\n",
    "> __b)__ Type your answer here!  \n",
    "\n",
    "> __c)__ Type your answer here!  \n",
    "\n",
    "> __d)__ Type your answer here!  "
   ]
  },
  {
   "cell_type": "markdown",
   "metadata": {},
   "source": [
    "### <--- SOLUTION --->\n",
    "\n",
    "__ SOLUTIONS __\n",
    "> __b)__ 'assistance' occurs 8 times in Spam emails and only 2 times in real emails.  \n",
    "\n",
    "> __c)__ No, we can't sort on counts in the original job because Hadoop's sorting occurs in the phase between the mapper and reducer but our counts aren't tallied up until after the reducer.\n",
    "\n",
    "> __d)__ The result of this job is sorted by count with each word getting two records (one for 'spam' and one for 'ham'). To get the top counts in each class we could grep for the class marker that is listed in the second field. This is an non-ideal solution because the class markers (0 and 1) will also occur inside counts for other words)."
   ]
  },
  {
   "cell_type": "code",
   "execution_count": 11,
   "metadata": {},
   "outputs": [],
   "source": [
    "# part a - do your work in the provided scripts then RUN THIS CELL AS IS\n",
    "!chmod a+x EnronEDA/mapper.py\n",
    "!chmod a+x EnronEDA/reducer.py"
   ]
  },
  {
   "cell_type": "code",
   "execution_count": 13,
   "metadata": {},
   "outputs": [
    {
     "name": "stdout",
     "output_type": "stream",
     "text": [
      "title\t1\t1\n",
      "body\t1\t1\n",
      "title\t0\t1\n",
      "body\t0\t1\n"
     ]
    }
   ],
   "source": [
    "# part a - unit test EnronEDA/mapper.py (RUN THIS CELL AS IS)\n",
    "!echo -e \"d1\t1\ttitle\tbody\\nd2\t0\ttitle\tbody\" | EnronEDA/mapper.py"
   ]
  },
  {
   "cell_type": "code",
   "execution_count": 14,
   "metadata": {},
   "outputs": [
    {
     "name": "stdout",
     "output_type": "stream",
     "text": [
      "one\t1\t1\n",
      "one\t0\t2\n",
      "two\t1\t0\n",
      "two\t0\t1\n"
     ]
    }
   ],
   "source": [
    "# part a - unit test EnronEDA/reducer.py (RUN THIS CELL AS IS)\n",
    "!echo -e \"one\t1\t1\\none\t0\t1\\none\t0\t1\\ntwo\t0\t1\" | EnronEDA/reducer.py"
   ]
  },
  {
   "cell_type": "code",
   "execution_count": 15,
   "metadata": {},
   "outputs": [
    {
     "name": "stdout",
     "output_type": "stream",
     "text": [
      "rm: `/user/root/HW2/eda-output': No such file or directory\n"
     ]
    }
   ],
   "source": [
    "# part a - clear output directory in HDFS (RUN THIS CELL AS IS)\n",
    "!hdfs dfs -rm -r {HDFS_DIR}/eda-output"
   ]
  },
  {
   "cell_type": "code",
   "execution_count": 16,
   "metadata": {},
   "outputs": [
    {
     "name": "stdout",
     "output_type": "stream",
     "text": [
      "packageJobJar: [] [/usr/lib/hadoop-mapreduce/hadoop-streaming-2.6.0-cdh5.15.1.jar] /tmp/streamjob8593711182674269150.jar tmpDir=null\n",
      "19/08/23 15:37:39 INFO client.RMProxy: Connecting to ResourceManager at /0.0.0.0:8032\n",
      "19/08/23 15:37:39 INFO client.RMProxy: Connecting to ResourceManager at /0.0.0.0:8032\n",
      "19/08/23 15:37:40 INFO mapred.FileInputFormat: Total input paths to process : 1\n",
      "19/08/23 15:37:40 INFO mapreduce.JobSubmitter: number of splits:2\n",
      "19/08/23 15:37:40 INFO mapreduce.JobSubmitter: Submitting tokens for job: job_1566574597904_0001\n",
      "19/08/23 15:37:41 INFO impl.YarnClientImpl: Submitted application application_1566574597904_0001\n",
      "19/08/23 15:37:41 INFO mapreduce.Job: The url to track the job: http://docker.w261:8088/proxy/application_1566574597904_0001/\n",
      "19/08/23 15:37:41 INFO mapreduce.Job: Running job: job_1566574597904_0001\n",
      "19/08/23 15:37:50 INFO mapreduce.Job: Job job_1566574597904_0001 running in uber mode : false\n",
      "19/08/23 15:37:50 INFO mapreduce.Job:  map 0% reduce 0%\n",
      "19/08/23 15:38:05 INFO mapreduce.Job:  map 100% reduce 0%\n",
      "19/08/23 15:38:13 INFO mapreduce.Job:  map 100% reduce 50%\n",
      "19/08/23 15:38:14 INFO mapreduce.Job:  map 100% reduce 100%\n",
      "19/08/23 15:38:14 INFO mapreduce.Job: Job job_1566574597904_0001 completed successfully\n",
      "19/08/23 15:38:14 INFO mapreduce.Job: Counters: 50\n",
      "\tFile System Counters\n",
      "\t\tFILE: Number of bytes read=369010\n",
      "\t\tFILE: Number of bytes written=1335754\n",
      "\t\tFILE: Number of read operations=0\n",
      "\t\tFILE: Number of large read operations=0\n",
      "\t\tFILE: Number of write operations=0\n",
      "\t\tHDFS: Number of bytes read=217061\n",
      "\t\tHDFS: Number of bytes written=119173\n",
      "\t\tHDFS: Number of read operations=12\n",
      "\t\tHDFS: Number of large read operations=0\n",
      "\t\tHDFS: Number of write operations=4\n",
      "\tJob Counters \n",
      "\t\tKilled reduce tasks=1\n",
      "\t\tLaunched map tasks=2\n",
      "\t\tLaunched reduce tasks=2\n",
      "\t\tData-local map tasks=2\n",
      "\t\tTotal time spent by all maps in occupied slots (ms)=20554\n",
      "\t\tTotal time spent by all reduces in occupied slots (ms)=8106\n",
      "\t\tTotal time spent by all map tasks (ms)=20554\n",
      "\t\tTotal time spent by all reduce tasks (ms)=8106\n",
      "\t\tTotal vcore-milliseconds taken by all map tasks=20554\n",
      "\t\tTotal vcore-milliseconds taken by all reduce tasks=8106\n",
      "\t\tTotal megabyte-milliseconds taken by all map tasks=21047296\n",
      "\t\tTotal megabyte-milliseconds taken by all reduce tasks=8300544\n",
      "\tMap-Reduce Framework\n",
      "\t\tMap input records=100\n",
      "\t\tMap output records=31490\n",
      "\t\tMap output bytes=306018\n",
      "\t\tMap output materialized bytes=369022\n",
      "\t\tInput split bytes=214\n",
      "\t\tCombine input records=0\n",
      "\t\tCombine output records=0\n",
      "\t\tReduce input groups=5065\n",
      "\t\tReduce shuffle bytes=369022\n",
      "\t\tReduce input records=31490\n",
      "\t\tReduce output records=10130\n",
      "\t\tSpilled Records=62980\n",
      "\t\tShuffled Maps =4\n",
      "\t\tFailed Shuffles=0\n",
      "\t\tMerged Map outputs=4\n",
      "\t\tGC time elapsed (ms)=188\n",
      "\t\tCPU time spent (ms)=5820\n",
      "\t\tPhysical memory (bytes) snapshot=1015177216\n",
      "\t\tVirtual memory (bytes) snapshot=5484015616\n",
      "\t\tTotal committed heap usage (bytes)=1108344832\n",
      "\tShuffle Errors\n",
      "\t\tBAD_ID=0\n",
      "\t\tCONNECTION=0\n",
      "\t\tIO_ERROR=0\n",
      "\t\tWRONG_LENGTH=0\n",
      "\t\tWRONG_MAP=0\n",
      "\t\tWRONG_REDUCE=0\n",
      "\tFile Input Format Counters \n",
      "\t\tBytes Read=216847\n",
      "\tFile Output Format Counters \n",
      "\t\tBytes Written=119173\n",
      "19/08/23 15:38:14 INFO streaming.StreamJob: Output directory: /user/root/HW2/eda-output\n"
     ]
    }
   ],
   "source": [
    "# part a - Hadoop streaming job (RUN THIS CELL AS IS)\n",
    "!hadoop jar {JAR_FILE} \\\n",
    "  -files EnronEDA/reducer.py,EnronEDA/mapper.py \\\n",
    "  -mapper mapper.py \\\n",
    "  -reducer reducer.py \\\n",
    "  -input {HDFS_DIR}/enron.txt \\\n",
    "  -output {HDFS_DIR}/eda-output \\\n",
    "  -numReduceTasks 2 \\\n",
    "  -cmdenv PATH={PATH}"
   ]
  },
  {
   "cell_type": "code",
   "execution_count": 17,
   "metadata": {},
   "outputs": [],
   "source": [
    "# part a - retrieve results from HDFS & copy them into a local file (RUN THIS CELL AS IS)\n",
    "!hdfs dfs -cat {HDFS_DIR}/eda-output/part-0000* > EnronEDA/results.txt"
   ]
  },
  {
   "cell_type": "code",
   "execution_count": 18,
   "metadata": {},
   "outputs": [],
   "source": [
    "# part b - write your grep command here"
   ]
  },
  {
   "cell_type": "code",
   "execution_count": 19,
   "metadata": {},
   "outputs": [
    {
     "name": "stdout",
     "output_type": "stream",
     "text": [
      "assistance\t1\t8\n",
      "assistance\t0\t2\n"
     ]
    }
   ],
   "source": [
    "# <--- SOLUTION --->\n",
    "# part b - write your grep command here\n",
    "!grep assistance EnronEDA/results.txt"
   ]
  },
  {
   "cell_type": "code",
   "execution_count": 20,
   "metadata": {},
   "outputs": [
    {
     "name": "stdout",
     "output_type": "stream",
     "text": [
      "rm: `/user/root/HW2/eda-sort-output': No such file or directory\n"
     ]
    }
   ],
   "source": [
    "# part d - clear the output directory in HDFS (RUN THIS CELL AS IS)\n",
    "!hdfs dfs -rm -r {HDFS_DIR}/eda-sort-output"
   ]
  },
  {
   "cell_type": "code",
   "execution_count": 70,
   "metadata": {},
   "outputs": [],
   "source": [
    "# part d - write your Hadoop streaming job here"
   ]
  },
  {
   "cell_type": "code",
   "execution_count": 21,
   "metadata": {},
   "outputs": [
    {
     "name": "stdout",
     "output_type": "stream",
     "text": [
      "packageJobJar: [] [/usr/lib/hadoop-mapreduce/hadoop-streaming-2.6.0-cdh5.15.1.jar] /tmp/streamjob851423651156958352.jar tmpDir=null\n",
      "19/08/23 15:38:35 INFO client.RMProxy: Connecting to ResourceManager at /0.0.0.0:8032\n",
      "19/08/23 15:38:35 INFO client.RMProxy: Connecting to ResourceManager at /0.0.0.0:8032\n",
      "19/08/23 15:38:36 INFO mapred.FileInputFormat: Total input paths to process : 2\n",
      "19/08/23 15:38:36 INFO mapreduce.JobSubmitter: number of splits:2\n",
      "19/08/23 15:38:36 INFO mapreduce.JobSubmitter: Submitting tokens for job: job_1566574597904_0002\n",
      "19/08/23 15:38:36 INFO impl.YarnClientImpl: Submitted application application_1566574597904_0002\n",
      "19/08/23 15:38:36 INFO mapreduce.Job: The url to track the job: http://docker.w261:8088/proxy/application_1566574597904_0002/\n",
      "19/08/23 15:38:36 INFO mapreduce.Job: Running job: job_1566574597904_0002\n",
      "19/08/23 15:38:42 INFO mapreduce.Job: Job job_1566574597904_0002 running in uber mode : false\n",
      "19/08/23 15:38:42 INFO mapreduce.Job:  map 0% reduce 0%\n",
      "19/08/23 15:38:49 INFO mapreduce.Job:  map 100% reduce 0%\n",
      "19/08/23 15:38:55 INFO mapreduce.Job:  map 100% reduce 100%\n",
      "19/08/23 15:38:55 INFO mapreduce.Job: Job job_1566574597904_0002 completed successfully\n",
      "19/08/23 15:38:55 INFO mapreduce.Job: Counters: 49\n",
      "\tFile System Counters\n",
      "\t\tFILE: Number of bytes read=149575\n",
      "\t\tFILE: Number of bytes written=894372\n",
      "\t\tFILE: Number of read operations=0\n",
      "\t\tFILE: Number of large read operations=0\n",
      "\t\tFILE: Number of write operations=0\n",
      "\t\tHDFS: Number of bytes read=119411\n",
      "\t\tHDFS: Number of bytes written=129303\n",
      "\t\tHDFS: Number of read operations=12\n",
      "\t\tHDFS: Number of large read operations=0\n",
      "\t\tHDFS: Number of write operations=4\n",
      "\tJob Counters \n",
      "\t\tLaunched map tasks=2\n",
      "\t\tLaunched reduce tasks=2\n",
      "\t\tData-local map tasks=2\n",
      "\t\tTotal time spent by all maps in occupied slots (ms)=6758\n",
      "\t\tTotal time spent by all reduces in occupied slots (ms)=7517\n",
      "\t\tTotal time spent by all map tasks (ms)=6758\n",
      "\t\tTotal time spent by all reduce tasks (ms)=7517\n",
      "\t\tTotal vcore-milliseconds taken by all map tasks=6758\n",
      "\t\tTotal vcore-milliseconds taken by all reduce tasks=7517\n",
      "\t\tTotal megabyte-milliseconds taken by all map tasks=6920192\n",
      "\t\tTotal megabyte-milliseconds taken by all reduce tasks=7697408\n",
      "\tMap-Reduce Framework\n",
      "\t\tMap input records=10130\n",
      "\t\tMap output records=10130\n",
      "\t\tMap output bytes=129303\n",
      "\t\tMap output materialized bytes=149587\n",
      "\t\tInput split bytes=238\n",
      "\t\tCombine input records=0\n",
      "\t\tCombine output records=0\n",
      "\t\tReduce input groups=10130\n",
      "\t\tReduce shuffle bytes=149587\n",
      "\t\tReduce input records=10130\n",
      "\t\tReduce output records=10130\n",
      "\t\tSpilled Records=20260\n",
      "\t\tShuffled Maps =4\n",
      "\t\tFailed Shuffles=0\n",
      "\t\tMerged Map outputs=4\n",
      "\t\tGC time elapsed (ms)=134\n",
      "\t\tCPU time spent (ms)=4720\n",
      "\t\tPhysical memory (bytes) snapshot=1015029760\n",
      "\t\tVirtual memory (bytes) snapshot=5544554496\n",
      "\t\tTotal committed heap usage (bytes)=1042284544\n",
      "\tShuffle Errors\n",
      "\t\tBAD_ID=0\n",
      "\t\tCONNECTION=0\n",
      "\t\tIO_ERROR=0\n",
      "\t\tWRONG_LENGTH=0\n",
      "\t\tWRONG_MAP=0\n",
      "\t\tWRONG_REDUCE=0\n",
      "\tFile Input Format Counters \n",
      "\t\tBytes Read=119173\n",
      "\tFile Output Format Counters \n",
      "\t\tBytes Written=129303\n",
      "19/08/23 15:38:55 INFO streaming.StreamJob: Output directory: /user/root/HW2/eda-sort-output\n"
     ]
    }
   ],
   "source": [
    "# <--- SOLUTION --->\n",
    "# part d - write your Hadoop streaming job here\n",
    "!hadoop jar {JAR_FILE} \\\n",
    "  -D stream.num.map.output.key.fields=3 \\\n",
    "  -D mapreduce.job.output.key.comparator.class=org.apache.hadoop.mapred.lib.KeyFieldBasedComparator \\\n",
    "  -D mapreduce.partition.keycomparator.options=\"-k2,2 -k3,3nr\" \\\n",
    "  -mapper /bin/cat \\\n",
    "  -reducer /bin/cat \\\n",
    "  -input {HDFS_DIR}/eda-output \\\n",
    "  -output {HDFS_DIR}/eda-sort-output \\\n",
    "  -numReduceTasks 1 \\\n",
    "  -cmdenv PATH={PATH}"
   ]
  },
  {
   "cell_type": "code",
   "execution_count": null,
   "metadata": {},
   "outputs": [],
   "source": [
    "# part e - clear the output directory in HDFS (RUN THIS CELL AS IS)\n",
    "!hdfs dfs -rm -r {HDFS_DIR}/eda-sort-output"
   ]
  },
  {
   "cell_type": "code",
   "execution_count": null,
   "metadata": {},
   "outputs": [],
   "source": [
    "# part e - write your Hadoop streaming job here"
   ]
  },
  {
   "cell_type": "code",
   "execution_count": null,
   "metadata": {},
   "outputs": [],
   "source": [
    "# <--- SOLUTION --->\n",
    "# part e - write your Hadoop streaming job here\n",
    "!hadoop jar {JAR_FILE} \\\n",
    "  -D stream.num.map.output.key.fields=3 \\\n",
    "  -D mapreduce.job.output.key.comparator.class=org.apache.hadoop.mapred.lib.KeyFieldBasedComparator \\\n",
    "  -D mapreduce.partition.keycomparator.options=\"-k3,3nr\" \\\n",
    "  -D mapreduce.partition.keypartitioner.options=\"-k2,2\" \\\n",
    "  -mapper /bin/cat \\\n",
    "  -reducer /bin/cat \\\n",
    "  -input {HDFS_DIR}/eda-output \\\n",
    "  -output {HDFS_DIR}/eda-sort-output \\\n",
    "  -partitioner org.apache.hadoop.mapred.lib.KeyFieldBasedPartitioner \\\n",
    "  -numReduceTasks 2 \\\n",
    "  -cmdenv PATH={PATH}"
   ]
  },
  {
   "cell_type": "code",
   "execution_count": 22,
   "metadata": {},
   "outputs": [
    {
     "name": "stdout",
     "output_type": "stream",
     "text": [
      "\n",
      "===== part-00000=====\n",
      "\n",
      "the\t0\t549\t\n",
      "to\t0\t398\t\n",
      "ect\t0\t382\t\n",
      "and\t0\t278\t\n",
      "of\t0\t230\t\n",
      "hou\t0\t206\t\n",
      "a\t0\t196\t\n",
      "in\t0\t182\t\n",
      "for\t0\t170\t\n",
      "on\t0\t135\t\n",
      "cat: Unable to write to output stream.\n",
      "\n",
      "===== part-00001=====\n",
      "\n",
      "the\t1\t698\t\n",
      "to\t1\t566\t\n",
      "and\t1\t392\t\n",
      "your\t1\t357\t\n",
      "a\t1\t347\t\n",
      "you\t1\t345\t\n",
      "of\t1\t336\t\n",
      "in\t1\t236\t\n",
      "for\t1\t204\t\n",
      "com\t1\t153\t\n",
      "cat: Unable to write to output stream.\n"
     ]
    }
   ],
   "source": [
    "# part e - view the top 10 records from each partition (RUN THIS CELL AS IS)\n",
    "for idx in range(2):\n",
    "    print(f\"\\n===== part-0000{idx}=====\\n\")\n",
    "    !hdfs dfs -cat {HDFS_DIR}/eda-sort-output/part-0000{idx} | head"
   ]
  },
  {
   "cell_type": "markdown",
   "metadata": {},
   "source": [
    "__Expected output:__\n",
    "<table>\n",
    "<th>part-00000:</th>\n",
    "<th>part-00001:</th>\n",
    "<tr><td><pre>\n",
    "the\t0\t549\t\n",
    "to\t0\t398\t\n",
    "ect\t0\t382\t\n",
    "and\t0\t278\t\n",
    "of\t0\t230\t\n",
    "hou\t0\t206\t\n",
    "a\t0\t196\t\n",
    "in\t0\t182\t\n",
    "for\t0\t170\t\n",
    "on\t0\t135\n",
    "</pre></td>\n",
    "<td><pre>\n",
    "the\t1\t698\t\n",
    "to\t1\t566\t\n",
    "and\t1\t392\t\n",
    "your\t1\t357\t\n",
    "a\t1\t347\t\n",
    "you\t1\t345\t\n",
    "of\t1\t336\t\n",
    "in\t1\t236\t\n",
    "for\t1\t204\t\n",
    "com\t1\t153\n",
    "</pre></td></tr>\n",
    "</table>"
   ]
  },
  {
   "cell_type": "markdown",
   "metadata": {},
   "source": [
    "# Question 5: Counters and Combiners.\n",
    "Tuning the number of mappers & reducers is helpful to optimize very large distributed computations. Doing so successfully requires a thorough understanding of the data size at each stage of the job. As you learned in the week3 live session, counters are an invaluable resource for understanding this kind of detail. In this question, we will take the EDA performed in Question 4 as an opportunity to illustrate some related concepts.\n",
    "\n",
    "### Q5 Tasks:\n",
    "* __a) short response:__ Read the Hadoop output from your job in Question 4a to report how many records are emitted by the mappers and how many records are received be the reducers. In the context of word counting what does this number represent practically?\n",
    "\n",
    "* __b) code:__ Note that we wrote the reducer in question 4a such that the input and output record format is identical. This makes it easy to use the same reducer script as a combiner. In the space provided below, write the Hadoop Streaming command to re-run your job from question 4a with this combining added.\n",
    "\n",
    "* __c) short response__: Report the number of records emitted by your mappers in part b and the number of records received by your reducers. Compare your results here to what you saw in part a. Explain.\n",
    "\n",
    "* __d) short response__: Describe a scenario where using a combiner would _NOT_ improve the efficiency of the shuffle stage. Explain. [__`BONUS:`__ how does increasing the number of mappers affect the usefulness of a combiner?]"
   ]
  },
  {
   "cell_type": "markdown",
   "metadata": {},
   "source": [
    "### Q5 Student Answers:\n",
    "> __a)__ Type your answer here!  \n",
    "\n",
    "> __c)__ Type your answer here!  \n",
    "\n",
    "> __d)__ Type your answer here!  "
   ]
  },
  {
   "cell_type": "markdown",
   "metadata": {},
   "source": [
    "### <--- SOLUTION --->\n",
    "__ SOLUTIONS __\n",
    "\n",
    "> __a)__  The mapper output is the same # of records as the reducer input: 31490. This is the total number of words in all documents.\n",
    "\n",
    "\n",
    "> __c)__  Now the mapper output # records (31490) no longer matches the reducer input # of recrods (13096). This is because the combiner reduced the number of records after they were emitted by the mapper. \n",
    "\n",
    "\n",
    "> __d)__  In a scenario where there are no duplicate keys on any given mapper node a combiner wouldn't help reduce the size of the shuffle. (If we have a lot of keys in our data/ they are sparsely distributed in the input then increasing the number of mappers will decrease the amount of duplication and reduce the effectiveness of a combiner)."
   ]
  },
  {
   "cell_type": "code",
   "execution_count": 23,
   "metadata": {},
   "outputs": [
    {
     "name": "stdout",
     "output_type": "stream",
     "text": [
      "Deleted /user/root/HW2/eda-output\n"
     ]
    }
   ],
   "source": [
    "# part b - clear output directory in HDFS (RUN THIS CELL AS IS)\n",
    "!hdfs dfs -rm -r {HDFS_DIR}/eda-output"
   ]
  },
  {
   "cell_type": "code",
   "execution_count": 295,
   "metadata": {},
   "outputs": [],
   "source": [
    "# part b - write your Hadoop streaming job here\n"
   ]
  },
  {
   "cell_type": "code",
   "execution_count": 24,
   "metadata": {},
   "outputs": [
    {
     "name": "stdout",
     "output_type": "stream",
     "text": [
      "packageJobJar: [] [/usr/lib/hadoop-mapreduce/hadoop-streaming-2.6.0-cdh5.15.1.jar] /tmp/streamjob350065371632763548.jar tmpDir=null\n",
      "19/08/23 15:39:16 INFO client.RMProxy: Connecting to ResourceManager at /0.0.0.0:8032\n",
      "19/08/23 15:39:16 INFO client.RMProxy: Connecting to ResourceManager at /0.0.0.0:8032\n",
      "19/08/23 15:39:17 INFO mapred.FileInputFormat: Total input paths to process : 1\n",
      "19/08/23 15:39:17 INFO mapreduce.JobSubmitter: number of splits:2\n",
      "19/08/23 15:39:17 INFO mapreduce.JobSubmitter: Submitting tokens for job: job_1566574597904_0003\n",
      "19/08/23 15:39:17 INFO impl.YarnClientImpl: Submitted application application_1566574597904_0003\n",
      "19/08/23 15:39:17 INFO mapreduce.Job: The url to track the job: http://docker.w261:8088/proxy/application_1566574597904_0003/\n",
      "19/08/23 15:39:17 INFO mapreduce.Job: Running job: job_1566574597904_0003\n",
      "19/08/23 15:39:23 INFO mapreduce.Job: Job job_1566574597904_0003 running in uber mode : false\n",
      "19/08/23 15:39:23 INFO mapreduce.Job:  map 0% reduce 0%\n",
      "19/08/23 15:39:29 INFO mapreduce.Job:  map 50% reduce 0%\n",
      "19/08/23 15:39:30 INFO mapreduce.Job:  map 100% reduce 0%\n",
      "19/08/23 15:39:35 INFO mapreduce.Job:  map 100% reduce 50%\n",
      "19/08/23 15:39:36 INFO mapreduce.Job:  map 100% reduce 100%\n",
      "19/08/23 15:39:36 INFO mapreduce.Job: Job job_1566574597904_0003 completed successfully\n",
      "19/08/23 15:39:36 INFO mapreduce.Job: Counters: 49\n",
      "\tFile System Counters\n",
      "\t\tFILE: Number of bytes read=177959\n",
      "\t\tFILE: Number of bytes written=955076\n",
      "\t\tFILE: Number of read operations=0\n",
      "\t\tFILE: Number of large read operations=0\n",
      "\t\tFILE: Number of write operations=0\n",
      "\t\tHDFS: Number of bytes read=217061\n",
      "\t\tHDFS: Number of bytes written=119173\n",
      "\t\tHDFS: Number of read operations=12\n",
      "\t\tHDFS: Number of large read operations=0\n",
      "\t\tHDFS: Number of write operations=4\n",
      "\tJob Counters \n",
      "\t\tLaunched map tasks=2\n",
      "\t\tLaunched reduce tasks=2\n",
      "\t\tData-local map tasks=2\n",
      "\t\tTotal time spent by all maps in occupied slots (ms)=7979\n",
      "\t\tTotal time spent by all reduces in occupied slots (ms)=6747\n",
      "\t\tTotal time spent by all map tasks (ms)=7979\n",
      "\t\tTotal time spent by all reduce tasks (ms)=6747\n",
      "\t\tTotal vcore-milliseconds taken by all map tasks=7979\n",
      "\t\tTotal vcore-milliseconds taken by all reduce tasks=6747\n",
      "\t\tTotal megabyte-milliseconds taken by all map tasks=8170496\n",
      "\t\tTotal megabyte-milliseconds taken by all reduce tasks=6908928\n",
      "\tMap-Reduce Framework\n",
      "\t\tMap input records=100\n",
      "\t\tMap output records=31490\n",
      "\t\tMap output bytes=306018\n",
      "\t\tMap output materialized bytes=177971\n",
      "\t\tInput split bytes=214\n",
      "\t\tCombine input records=31490\n",
      "\t\tCombine output records=13096\n",
      "\t\tReduce input groups=5065\n",
      "\t\tReduce shuffle bytes=177971\n",
      "\t\tReduce input records=13096\n",
      "\t\tReduce output records=10130\n",
      "\t\tSpilled Records=26192\n",
      "\t\tShuffled Maps =4\n",
      "\t\tFailed Shuffles=0\n",
      "\t\tMerged Map outputs=4\n",
      "\t\tGC time elapsed (ms)=150\n",
      "\t\tCPU time spent (ms)=5060\n",
      "\t\tPhysical memory (bytes) snapshot=1021050880\n",
      "\t\tVirtual memory (bytes) snapshot=5542346752\n",
      "\t\tTotal committed heap usage (bytes)=1108344832\n",
      "\tShuffle Errors\n",
      "\t\tBAD_ID=0\n",
      "\t\tCONNECTION=0\n",
      "\t\tIO_ERROR=0\n",
      "\t\tWRONG_LENGTH=0\n",
      "\t\tWRONG_MAP=0\n",
      "\t\tWRONG_REDUCE=0\n",
      "\tFile Input Format Counters \n",
      "\t\tBytes Read=216847\n",
      "\tFile Output Format Counters \n",
      "\t\tBytes Written=119173\n",
      "19/08/23 15:39:36 INFO streaming.StreamJob: Output directory: /user/root/HW2/eda-output\n"
     ]
    }
   ],
   "source": [
    "# <--- SOLUTION --->\n",
    "# part b - write your Hadoop streaming job here\n",
    "!hadoop jar {JAR_FILE} \\\n",
    "  -files EnronEDA/reducer.py,EnronEDA/mapper.py \\\n",
    "  -mapper mapper.py \\\n",
    "  -combiner reducer.py \\\n",
    "  -reducer reducer.py \\\n",
    "  -input {HDFS_DIR}/enron.txt \\\n",
    "  -output {HDFS_DIR}/eda-output \\\n",
    "  -numReduceTasks 2 \\\n",
    "  -cmdenv PATH={PATH}"
   ]
  },
  {
   "cell_type": "markdown",
   "metadata": {},
   "source": [
    "# Question 6: Document Classification Task Overview.\n",
    "The week 2 assigned reading from Chapter 13 of _Introduction to Information Retrieval_ by Manning, Raghavan and Schutze provides a thorough introduction to the document classification task and the math behind Naive Bayes. In this question we'll use the example from Table 13.1 (reproduced below) to 'train' an unsmoothed Multinomial Naive Bayes model and classify a test document by hand.\n",
    "\n",
    "<table>\n",
    "<th>DocID</th>\n",
    "<th>Class</th>\n",
    "<th>Subject</th>\n",
    "<th>Body</th>\n",
    "<tr><td>Doc1</td><td>1</td><td></td><td>Chinese Beijing Chinese</td></tr>\n",
    "<tr><td>Doc2</td><td>1</td><td></td><td>Chinese Chinese Shanghai</td></tr>\n",
    "<tr><td>Doc3</td><td>1</td><td></td><td>Chinese Macao</td></tr>\n",
    "<tr><td>Doc4</td><td>0</td><td></td><td>Tokyo Japan Chinese</td></tr>\n",
    "</table>\n",
    "\n",
    "### Q6 Tasks:\n",
    "* __a) short response:__ Equation 13.3 in Manning, Raghavan and Shutze shows how a Multinomial Naive Bayes model classifies a document. It predicts the class, $c$, for which the estimated conditional probability of the class given the document's contents,  $\\hat{P}(c|d)$, is greatest. In this equation what two pieces of information are required to calculate  $\\hat{P}(c|d)$? Your answer should include both mathematical notatation and verbal explanation.\n",
    "\n",
    "\n",
    "* __b) short response:__ The Enron data includes two classes of documents: `spam` and `ham` (they're actually labeled `1` and `0`). In plain English, explain what  $\\hat{P}(c)$ and   $\\hat{P}(t_{k} | c)$ mean in the context of this data. How will we would estimate these values from a training corpus? How many passes over the data would we need to make to retrieve this information for all classes and all words?\n",
    "\n",
    "\n",
    "* __c) hand calculations:__ Above we've reproduced the document classification example from the textbook (we added an empty subject field to mimic the Enron data format). Remember that the classes in this \"Chinese Example\" are `1` (about China) and `0` (not about China). Calculate the class priors and the conditional probabilities for an __unsmoothed__ Multinomial Naive Bayes model trained on this data. Show the calculations that lead to your result using markdown and $\\LaTeX$ in the space provided or by embedding an image of your hand written work. [`NOTE:` _Your results should NOT match those in the text -- they are training a model with +1 smoothing you are training a model without smoothing_]\n",
    "\n",
    "\n",
    "* __d) hand calculations:__ Use the model you trained to classify the following test document: `Chinese Chinese Chinese Tokyo Japan`. Show the calculations that lead to your result using markdown and   $\\LaTeX$ in the space provided or by embedding an image of your hand written work.\n",
    "\n",
    "\n",
    "* __e) short response:__ Compare the classification you get from this unsmoothed model in `d`/`e` to the results in the textbook's \"Example 1\" which reflects a model with Laplace plus 1 smoothing. How does smoothing affect our inference?"
   ]
  },
  {
   "cell_type": "markdown",
   "metadata": {},
   "source": [
    "### Q6 Student Answers:\n",
    "> __a)__ Type your answer here!\n",
    "\n",
    "> __b)__ Type your answer here!\n",
    "\n",
    "> __c)__ Show your calculations here using markdown & $\\LaTeX$ or embed them below!\n",
    "\n",
    "> __d)__ Show your calculations here using markdown & $\\LaTeX$ or embed them below!\n",
    "\n",
    "> __e)__ Type your answer here!\n"
   ]
  },
  {
   "cell_type": "markdown",
   "metadata": {},
   "source": [
    "### <--- SOLUTION --->\n",
    "__ SOLUTIONS__  \n",
    "> __a)__ The conditional probability of a class given the document is calculated from the estimated prior probabilty of the class,  $\\hat{P}(c)$, and the estimated conditional probability of the documents' words given the class,  $\\hat{P}(t_k | c)$.\n",
    "\n",
    "> __b)__ In our use case  $\\hat{P}(c)$ represents our assumption of how likely a document is to be `spam` or `ham` given no other information. We'll estimate this as the fraction of `spam`/`ham` documents in our training corpus. Similarly,  $\\hat{P}(t_k | c)$, reflects the relative frequency of a word in `spam`/`ham` documents. We'll estimate that by counting the occurrences of each word in `spam`/`ham` and dividing by the total word count of all the documents in that class. We only need one pass over the data to tally up the information for these prior & conditional probabilities... however after counting each word's occurrences in each class we will need to go on to divide by the class totals which is a little extra work after completing the pass over the data.\n",
    "\n",
    "> __c)__ See image below for hand calculations.\n",
    "\n",
    "> __d)__ Our model would classify this document as 'not about China'. See image below for hand calculations leading to this calculation.\n",
    "\n",
    "> __e)__ The smoothed model in the textbook makes the opposite classification (it thinks Doc 5 is 'about China'). The main reason for this opposite classification is that in our unsmoothed model both `Tokyo` and `Japan` have class conditional probabilities of 0 in the 'about China' class.\n"
   ]
  },
  {
   "cell_type": "code",
   "execution_count": null,
   "metadata": {},
   "outputs": [],
   "source": [
    "# part d/e - if you didn't write out your calcuations above, embed a picture of them here:\n",
    "from IPython.display import Image\n",
    "Image(filename=\"path-to-hand-calulations-image.png\")"
   ]
  },
  {
   "cell_type": "code",
   "execution_count": 37,
   "metadata": {},
   "outputs": [
    {
     "data": {
      "image/png": "[encoded data removed]",
      "text/plain": [
       "<IPython.core.display.Image object>"
      ]
     },
     "execution_count": 37,
     "metadata": {},
     "output_type": "execute_result"
    }
   ],
   "source": [
    "# <--- SOLUTION --->\n",
    "# part d/e - if you didn't write out your calcuations above, embed a picture of them here:\n",
    "from IPython.display import Image\n",
    "Image(filename=\"/media/notebooks/TAship/NaiveBayesHandCalc.png\")"
   ]
  },
  {
   "cell_type": "markdown",
   "metadata": {},
   "source": [
    "# Question 7: Naive Bayes Inference.\n",
    "In the next two questions you'll write code to parallelize the Naive Bayes calculations that you performed above. We'll do this in two phases: one MapReduce job to perform training and a second MapReduce to perform inference. While in practice we'd need to train a model before we can use it to classify documents, for learning purposes we're going to develop our code in the opposite order. By first focusing on the pieces of information/format we need to perform the classification (inference) task you should find it easier to develop a solid implementation for training phase when you get to question 8 below. In both of these questions we'll continue to use the Chinese example corpus from the textbook to help us test our MapReduce code as we develop it. Below we've reproduced the corpus, test set and model in text format that matches the Enron data.\n",
    "\n",
    "### Q7 Tasks:\n",
    "* __a) short response:__ run the provided cells to create the example files and load them in to HDFS. Then take a closer look at __`NBmodel.txt`__. This text file represents a Naive Bayes model trained (with Laplace +1 smoothing) on the example corpus. What are the 'keys' and 'values' in this file? Which record means something slightly different than the rest? The value field of each record includes two numbers which will be helpful for debugging but which we don't actually need to perform inference -- what are they? [`HINT`: _This file represents the model from Example 13.1 in the textbook, if you're having trouble getting oriented try comparing our file to the numbers in that example._]\n",
    "\n",
    "\n",
    "* __b) short response:__ When performing Naive Bayes in practice instead of multiplying the probabilities (as in equation 13.3) we add their logs (as in equation 13.4). Why do we choose to work with log probabilities? If we had an unsmoothed model, what potential error could arise from this transformation?\n",
    "\n",
    "\n",
    "* __c) short response:__ Documents 6 and 8 in the test set include a word that did not appear in the training corpus (and as a result does not appear in the model). What should we do at inference time when we need a class conditional probability for this word?\n",
    "\n",
    "\n",
    "* __d) short response:__ The goal of our MapReduce job is to stream over the test set and classify each document by peforming the calculation from equation 13.4. To do this we'll load the model file (which contains the probabilities for equation 13.4) into memory on the nodes where we do our mapping. This is called an in-memory join. Does loading a model 'state' like this depart from the functional programming principles? Explain why or why not. From a scability perspective when would this kind of memory use be justified? when would it be unwise?\n",
    "\n",
    "\n",
    "* __e) code:__ Complete the code in __`NaiveBayes/classify_mapper.py`__. Read the docstring carefully to understand how this script should work and the format it should return. Run the provided unit tests to confirm that your script works as expected then write a Hadoop streaming job to classify the Chinese example test set. [`HINT 1:` _you shouldn't need a reducer for this one._ `HINT 2:` _Don't forget to add the model file to the_ `-files` _parameter in your Hadoop streaming job so that it gets shipped to the mapper nodes where it will be accessed by your script._]\n",
    "\n",
    "\n",
    "* __f) short response:__ In our test example and in the Enron data set we have fairly short documents. Since these fit fine in memory on a mapper node we didn't need a reducer and could just do all of our calculations in the mapper. However with much longer documents (eg. books) we might want a higher level of parallelization -- for example we might want to process parts of a document on different nodes. In this hypothetical scenario how would our algorithm design change? What could the mappers still do? What key-value structure would they emit? What would the reducers have to do as a last step?"
   ]
  },
  {
   "cell_type": "markdown",
   "metadata": {},
   "source": [
    "### Q7 Student Answers:\n",
    "> __a)__ Type your answer here!\n",
    "\n",
    "> __b)__ Type your answer here!\n",
    "\n",
    "> __c)__ Type your answer here!\n",
    "\n",
    "> __d)__ Type your answer here!\n",
    "\n",
    "> __e)__ Complete the coding portion of this question before answering 'f'.\n",
    "\n",
    "> __f)__ Type your answer here!\n"
   ]
  },
  {
   "cell_type": "markdown",
   "metadata": {},
   "source": [
    "### <--- SOLUTION --->\n",
    "__ SOLUTION __\n",
    "> __a)__ The keys in the model file are words that appear in the training corpus. The values include 4 numbers: count in `class 0`, count in `class 1`, `P(w|class0)`, `P(w|class1)`. The counts are not needed for the Naive Bayes calculation but can be helpful to check for errors in our calculations. The special record is `ClassPriors` whose value includes counts of each type of document and relative frequencies.\n",
    "\n",
    "> __b)__ Log probabilities help us avoid floating point errors but the risk with an unsmoothed model is that we might have words that only occur in one class and have a 0 conditional probability in the other. Since we can't take `log(0)` and would need to handle that case specially.\n",
    "\n",
    "> __c)__ We could either assign the same conditional probability to each class (eg. 0.5 for two classes) or we could simply disregard that word since multiplying the same value for each class won't ultimately affect the argmax determination.\n",
    "\n",
    "> __d)__ Loading the model into memory is a slight departure from statelessness since we're maintaining a model state. This is forgivable since we're not updating that state at all after it gets loaded on each mapper node so there's no risk of a race condition. Furthermore our model is small, however with a really large vocabulary the model could get too large to fit in memory and we might pursue a different solution in that case.\n",
    "\n",
    "\n",
    "> __f)__ If we wanted to process parts of each document in parallel then the mapper should no longer be responsible for adding the log of the class priors (because that would end up getting added multiple times-- once for each mapper that encounters a piece of the same document). Our new mapper could still perform the conditional probability look-ups (emitting  `DocID \\t log(P(word|class0)),log(P(word|class1))`). Then the reducers would add the log probabilities of all the words associated with each document (from all the mappers that processed a piece of that document) and then add the ClassPriors to make a final inference.\n"
   ]
  },
  {
   "cell_type": "markdown",
   "metadata": {},
   "source": [
    "Run these cells to create the example corpus and model."
   ]
  },
  {
   "cell_type": "code",
   "execution_count": 25,
   "metadata": {},
   "outputs": [
    {
     "name": "stdout",
     "output_type": "stream",
     "text": [
      "Overwriting NaiveBayes/chineseTrain.txt\n"
     ]
    }
   ],
   "source": [
    "%%writefile NaiveBayes/chineseTrain.txt\n",
    "D1\t1\t\tChinese Beijing Chinese\n",
    "D2\t1\t\tChinese Chinese Shanghai\n",
    "D3\t1\t\tChinese Macao\n",
    "D4\t0\t\tTokyo Japan Chinese"
   ]
  },
  {
   "cell_type": "code",
   "execution_count": 26,
   "metadata": {},
   "outputs": [
    {
     "name": "stdout",
     "output_type": "stream",
     "text": [
      "Overwriting NaiveBayes/chineseTest.txt\n"
     ]
    }
   ],
   "source": [
    "%%writefile NaiveBayes/chineseTest.txt\n",
    "D5\t1\t\tChinese Chinese Chinese Tokyo Japan\n",
    "D6\t1\t\tBeijing Shanghai Trade\n",
    "D7\t0\t\tJapan Macao Tokyo\n",
    "D8\t0\t\tTokyo Japan Trade"
   ]
  },
  {
   "cell_type": "code",
   "execution_count": 27,
   "metadata": {},
   "outputs": [
    {
     "name": "stdout",
     "output_type": "stream",
     "text": [
      "Overwriting NBmodel.txt\n"
     ]
    }
   ],
   "source": [
    "%%writefile NBmodel.txt\n",
    "beijing\t0.0,1.0,0.111111111111,0.142857142857\n",
    "chinese\t1.0,5.0,0.222222222222,0.428571428571\n",
    "tokyo\t1.0,0.0,0.222222222222,0.0714285714286\n",
    "shanghai\t0.0,1.0,0.111111111111,0.142857142857\n",
    "ClassPriors\t1.0,3.0,0.25,0.75\n",
    "japan\t1.0,0.0,0.222222222222,0.0714285714286\n",
    "macao\t0.0,1.0,0.111111111111,0.142857142857"
   ]
  },
  {
   "cell_type": "code",
   "execution_count": 23,
   "metadata": {},
   "outputs": [],
   "source": [
    "# load the data files into HDFS\n",
    "!hdfs dfs -copyFromLocal NaiveBayes/chineseTrain.txt {HDFS_DIR}\n",
    "!hdfs dfs -copyFromLocal NaiveBayes/chineseTest.txt {HDFS_DIR}"
   ]
  },
  {
   "cell_type": "markdown",
   "metadata": {},
   "source": [
    "Your work for `part e` starts here:"
   ]
  },
  {
   "cell_type": "code",
   "execution_count": 29,
   "metadata": {},
   "outputs": [],
   "source": [
    "# part e - do your work in NaiveBayes/classify_mapper.py first, then run this cell.\n",
    "!chmod a+x NaiveBayes/classify_mapper.py"
   ]
  },
  {
   "cell_type": "code",
   "execution_count": 30,
   "metadata": {},
   "outputs": [
    {
     "name": "stdout",
     "output_type": "stream",
     "text": [
      "d5  1  -8.90668134500626   -8.10769031284611   1\n",
      "d6  1  -5.780743515794329  -4.179502370564408  1\n",
      "d7  0  -6.591673732011658  -7.511706880737811  0\n",
      "d8  0  -4.394449154674438  -5.565796731681498  0\n"
     ]
    }
   ],
   "source": [
    "# part e - unit test NaiveBayes/classify_mapper.py (RUN THIS CELL AS IS)\n",
    "!cat NaiveBayes/chineseTest.txt | NaiveBayes/classify_mapper.py | column -t"
   ]
  },
  {
   "cell_type": "code",
   "execution_count": 39,
   "metadata": {},
   "outputs": [],
   "source": [
    "# part e - clear the output directory in HDFS (RUN THIS CELL AS IS)\n",
    "!hdfs dfs -rm -r {HDFS_DIR}/chinese-output"
   ]
  },
  {
   "cell_type": "code",
   "execution_count": 310,
   "metadata": {},
   "outputs": [],
   "source": [
    "# part e - write your Hadooop streaming job here\n"
   ]
  },
  {
   "cell_type": "code",
   "execution_count": 32,
   "metadata": {},
   "outputs": [
    {
     "name": "stdout",
     "output_type": "stream",
     "text": [
      "packageJobJar: [] [/usr/lib/hadoop-mapreduce/hadoop-streaming-2.6.0-cdh5.15.1.jar] /tmp/streamjob7213300932398322371.jar tmpDir=null\n",
      "19/08/23 15:40:07 INFO client.RMProxy: Connecting to ResourceManager at /0.0.0.0:8032\n",
      "19/08/23 15:40:07 INFO client.RMProxy: Connecting to ResourceManager at /0.0.0.0:8032\n",
      "19/08/23 15:40:08 INFO mapred.FileInputFormat: Total input paths to process : 1\n",
      "19/08/23 15:40:08 INFO mapreduce.JobSubmitter: number of splits:2\n",
      "19/08/23 15:40:08 INFO mapreduce.JobSubmitter: Submitting tokens for job: job_1566574597904_0004\n",
      "19/08/23 15:40:08 INFO impl.YarnClientImpl: Submitted application application_1566574597904_0004\n",
      "19/08/23 15:40:08 INFO mapreduce.Job: The url to track the job: http://docker.w261:8088/proxy/application_1566574597904_0004/\n",
      "19/08/23 15:40:08 INFO mapreduce.Job: Running job: job_1566574597904_0004\n",
      "19/08/23 15:40:14 INFO mapreduce.Job: Job job_1566574597904_0004 running in uber mode : false\n",
      "19/08/23 15:40:14 INFO mapreduce.Job:  map 0% reduce 0%\n",
      "19/08/23 15:40:21 INFO mapreduce.Job:  map 100% reduce 0%\n",
      "19/08/23 15:40:26 INFO mapreduce.Job:  map 100% reduce 100%\n",
      "19/08/23 15:40:26 INFO mapreduce.Job: Job job_1566574597904_0004 completed successfully\n",
      "19/08/23 15:40:26 INFO mapreduce.Job: Counters: 49\n",
      "\tFile System Counters\n",
      "\t\tFILE: Number of bytes read=192\n",
      "\t\tFILE: Number of bytes written=448844\n",
      "\t\tFILE: Number of read operations=0\n",
      "\t\tFILE: Number of large read operations=0\n",
      "\t\tFILE: Number of write operations=0\n",
      "\t\tHDFS: Number of bytes read=403\n",
      "\t\tHDFS: Number of bytes written=178\n",
      "\t\tHDFS: Number of read operations=9\n",
      "\t\tHDFS: Number of large read operations=0\n",
      "\t\tHDFS: Number of write operations=2\n",
      "\tJob Counters \n",
      "\t\tLaunched map tasks=2\n",
      "\t\tLaunched reduce tasks=1\n",
      "\t\tData-local map tasks=2\n",
      "\t\tTotal time spent by all maps in occupied slots (ms)=6113\n",
      "\t\tTotal time spent by all reduces in occupied slots (ms)=2772\n",
      "\t\tTotal time spent by all map tasks (ms)=6113\n",
      "\t\tTotal time spent by all reduce tasks (ms)=2772\n",
      "\t\tTotal vcore-milliseconds taken by all map tasks=6113\n",
      "\t\tTotal vcore-milliseconds taken by all reduce tasks=2772\n",
      "\t\tTotal megabyte-milliseconds taken by all map tasks=6259712\n",
      "\t\tTotal megabyte-milliseconds taken by all reduce tasks=2838528\n",
      "\tMap-Reduce Framework\n",
      "\t\tMap input records=4\n",
      "\t\tMap output records=4\n",
      "\t\tMap output bytes=178\n",
      "\t\tMap output materialized bytes=198\n",
      "\t\tInput split bytes=226\n",
      "\t\tCombine input records=0\n",
      "\t\tCombine output records=0\n",
      "\t\tReduce input groups=4\n",
      "\t\tReduce shuffle bytes=198\n",
      "\t\tReduce input records=4\n",
      "\t\tReduce output records=4\n",
      "\t\tSpilled Records=8\n",
      "\t\tShuffled Maps =2\n",
      "\t\tFailed Shuffles=0\n",
      "\t\tMerged Map outputs=2\n",
      "\t\tGC time elapsed (ms)=80\n",
      "\t\tCPU time spent (ms)=1720\n",
      "\t\tPhysical memory (bytes) snapshot=796909568\n",
      "\t\tVirtual memory (bytes) snapshot=4154195968\n",
      "\t\tTotal committed heap usage (bytes)=817889280\n",
      "\tShuffle Errors\n",
      "\t\tBAD_ID=0\n",
      "\t\tCONNECTION=0\n",
      "\t\tIO_ERROR=0\n",
      "\t\tWRONG_LENGTH=0\n",
      "\t\tWRONG_MAP=0\n",
      "\t\tWRONG_REDUCE=0\n",
      "\tFile Input Format Counters \n",
      "\t\tBytes Read=177\n",
      "\tFile Output Format Counters \n",
      "\t\tBytes Written=178\n",
      "19/08/23 15:40:26 INFO streaming.StreamJob: Output directory: /user/root/HW2/chinese-output\n"
     ]
    }
   ],
   "source": [
    "# <--- SOLUTION --->\n",
    "# part e - write your Hadooop streaming job here\n",
    "!hadoop jar {JAR_FILE} \\\n",
    "  -files NaiveBayes/classify_mapper.py,NBmodel.txt \\\n",
    "  -mapper classify_mapper.py \\\n",
    "  -reducer /bin/cat \\\n",
    "  -input {HDFS_DIR}/chineseTest.txt \\\n",
    "  -output {HDFS_DIR}/chinese-output \\\n",
    "  -cmdenv PATH={PATH}"
   ]
  },
  {
   "cell_type": "code",
   "execution_count": 33,
   "metadata": {},
   "outputs": [],
   "source": [
    "# part e - retrieve test set results from HDFS (RUN THIS CELL AS IS)\n",
    "!hdfs dfs -cat {HDFS_DIR}/chinese-output/part-000* > NaiveBayes/chineseResults.txt"
   ]
  },
  {
   "cell_type": "code",
   "execution_count": 34,
   "metadata": {},
   "outputs": [
    {
     "name": "stdout",
     "output_type": "stream",
     "text": [
      "d5  1  -8.90668134500626   -8.10769031284611   1\n",
      "d6  1  -5.780743515794329  -4.179502370564408  1\n",
      "d7  0  -6.591673732011658  -7.511706880737811  0\n",
      "d8  0  -4.394449154674438  -5.565796731681498  0\n"
     ]
    }
   ],
   "source": [
    "# part e - take a look (RUN THIS CELL AS IS)\n",
    "!cat NaiveBayes/chineseResults.txt | column -t"
   ]
  },
  {
   "cell_type": "markdown",
   "metadata": {},
   "source": [
    "<table>\n",
    "<th> Expected output for the test set:</th>\n",
    "<tr align=Left><td><pre>\n",
    "d5\t1\t-8.90668134\t-8.10769031\t1\n",
    "d6\t1\t-5.78074351\t-4.17950237\t1\n",
    "d7\t0\t-6.59167373\t-7.51170688\t0\n",
    "d8\t0\t-4.39444915\t-5.56579673\t0\n",
    "</pre></td><tr>\n",
    "</table>"
   ]
  },
  {
   "cell_type": "markdown",
   "metadata": {},
   "source": [
    "# Question 8: Naive Bayes Training.\n",
    "In Question 7 we used a model that we had trained by hand. Next we'll develop the code to do that same training in parallel, making it suitable for use with larger corpora (like the Enron emails). The end result of the MapReduce job you write in this question should be a model text file that looks just like the example (`NBmodel.txt`) that we created by hand above.\n",
    "\n",
    "To refresh your memory about the training process take a look at  `6a` and `6b` where you described the pieces of information you'll need to collect in order to encode a Multinomial Naive Bayes model. We now want to retrieve those pieces of information while streaming over a corpus. The bulk of the task will be very similar to the word counting excercises you've already done but you may want to consider a slightly different key-value record structure to efficiently tally counts for each class. \n",
    "\n",
    "The most challenging (interesting?) design question will be how to retrieve the totals (# of documents and # of words in documents for each class). Of course, counting these numbers is easy. The hard part is the timing: you'll need to make sure you have the counts totalled up _before_ you start estimating the class conditional probabilities for each word. It would be best (i.e. most scalable) if we could find a way to do this tallying without storing the whole vocabulary in memory... Use an appropriate MapReduce design pattern to implement this efficiently! \n",
    "\n",
    "\n",
    "### Q8 Tasks:\n",
    "* __a) make a plan:__  Fill in the docstrings for __`NaiveBayes/train_mapper.py`__ and __`NaiveBayes/train_reducer.py`__ to appropriately reflect the format that each script will input/output. [`HINT:` _the input files_ (`enronemail_1h.txt` & `chineseTrain.txt`) _have a prespecified format and your output file should match_ `NBmodel.txt` _so you really only have to decide on an internal format for Hadoop_].\n",
    "\n",
    "\n",
    "* __b) implement it:__ Complete the code in __`NaiveBayes/train_mapper.py`__ and __`NaiveBayes/train_reducer.py`__ so that together they train a Multinomial Naive Bayes model __with no smoothing__. Make sure your end result is formatted correctly (see note above). Test your scripts independently and together (using `chineseTrain.txt` or test input of your own devising). When you are satisfied with your Python code design and run a Hadoop streaming command to run your job in parallel on the __chineseTrain.txt__. Confirm that your trained model matches your hand calculations from Question 5.\n",
    "\n",
    "\n",
    "* __c) short response:__ We saw in Question 6 that adding Laplace +1 smoothing makes our classifications less sensitve to rare words. However implementing this technique requires access to one additional piece of information that we had not previously used in our Naive Bayes training. What is that extra piece of information? [`HINT:` see equation 13.7 in Manning, Raghavan and Schutze].\n",
    "\n",
    "\n",
    "* __d) short response:__ There are a couple of approaches that we could take to handle the extra piece of information you identified in `c`: 1) if we knew this extra information beforehand, we could provide it to our reducer as a configurable parameter for the vocab size dynamically (_where would we get it in the first place?_). Or 2) we could compute it in the reducer without storing any bulky information in memory but then we'd need some postprocessing or a second MapReduce job to complete the calculation (_why?_). Breifly explain what is non-ideal about each of these options. \n",
    "\n",
    "\n",
    "* __e) code + short response:__ Choose one of the 2 options above. State your choice & reasoning in the space below then use that strategy to complete the code in __`NaiveBayes/train_reducer_smooth.py`__. Test this alternate reducer then write and run a Hadoop streaming job to train an MNB model with smoothing on the Chinese example. Your results should match the model that we provided for you above (and the calculations in the textbook example). __IMPORTANT NOTE:__ For full credit on this question, your code must work with multiple reducers. \n",
    "\n",
    "    - [`HINT:` You will need to implement custom partitioning - [Total Order Sort Notebook](https://github.com/UCB-w261/main/tree/master/HelpfulResources/TotalSortGuide/_total-sort-guide-spark2.01-JAN27-2017.ipynb)] \n",
    "    \n",
    "    - [`HINT:` To make your custom partitioning code more flexible, you can read the number of reduce tasks configuration parameter in your mapper code (instead of hard coding it). See pg 204. Hadoop Defintive Guide - Streaming environment variables]\n",
    "\n",
    "    - [`HINT:` Don't start from scratch with this one -- you can just copy over your reducer code from part `b` and make the needed modifications]. \n"
   ]
  },
  {
   "cell_type": "markdown",
   "metadata": {},
   "source": [
    "### Q8 Student Answers:\n",
    "> __c)__ Type your answer here!\n",
    "\n",
    "> __d)__ Type your answer here!\n",
    "\n",
    "> __e)__ Type your answer here!\n"
   ]
  },
  {
   "cell_type": "markdown",
   "metadata": {},
   "source": [
    "### <--- SOLUTION --->\n",
    "\n",
    "__SOLUTIONS__\n",
    "> __c)__ We need the the vocabulary size to add to the denominator of the conditional probabilities.\n",
    "\n",
    "> __d)__ Option 1 would require doing some EDA in advance. We could then provide the count as a parameter to the Hadoop Streaming command (see the docs for details), or we can hard code this value in the reducer code. Option 2 would require that we store all of the partial counts for each word in memory because we wouldn't be able to compute the correct conditional probability (estimates) until the reducer has already parsed all of the records because only then will it know the unique word count. This option is incompatible with using multiple reducers. \n",
    "\n",
    "> __e)__ We'll use the Enron EDA that we've already done to get a word count and just hard code it for simplicity. \n",
    "\n"
   ]
  },
  {
   "cell_type": "code",
   "execution_count": 40,
   "metadata": {},
   "outputs": [
    {
     "name": "stdout",
     "output_type": "stream",
     "text": [
      "=========== MAPPER DOCSTRING ============\n",
      "Mapper reads in text documents and emits word counts by class.\n",
      "INPUT:                                                    \n",
      "    DocID \\t true_class \\t subject \\t body                \n",
      "OUTPUT:                                                   \n",
      "    partitionKey \\t word \\t class0_partialCount,class1_partialCount       \n",
      "    \n",
      "=========== REDUCER DOCSTRING ============\n",
      "Reducer aggregates word counts by class and emits frequencies.\n",
      "INPUT:            \n",
      "    partitionKey \\t word \\t class0_partialCount,class1_partialCount # <--- SOLUTION --->\n",
      "OUTPUT:                                                             # <--- SOLUTION --->\n",
      "    WORD \\t ham_count,spam_count,P(ham|word),P(spam|word)           # <--- SOLUTION --->\n",
      "    \n"
     ]
    }
   ],
   "source": [
    "# part a - do your work in train_mapper.py and train_reducer.py then RUN THIS CELL AS IS\n",
    "!chmod a+x NaiveBayes/train_mapper.py\n",
    "!chmod a+x NaiveBayes/train_reducer.py\n",
    "!echo \"=========== MAPPER DOCSTRING ============\"\n",
    "!head -n 8 NaiveBayes/train_mapper.py | tail -n 6\n",
    "!echo \"=========== REDUCER DOCSTRING ============\"\n",
    "!head -n 8 NaiveBayes/train_reducer.py | tail -n 6"
   ]
  },
  {
   "cell_type": "markdown",
   "metadata": {},
   "source": [
    "__`part b starts here`:__ MNB _without_ Smoothing (training on Chinese Example Corpus)."
   ]
  },
  {
   "cell_type": "code",
   "execution_count": null,
   "metadata": {},
   "outputs": [],
   "source": [
    "# part b - write a unit test for your mapper here"
   ]
  },
  {
   "cell_type": "code",
   "execution_count": null,
   "metadata": {},
   "outputs": [],
   "source": [
    "# part b - write a unit test for your reducer here"
   ]
  },
  {
   "cell_type": "code",
   "execution_count": null,
   "metadata": {},
   "outputs": [],
   "source": [
    "# part b - write a systems test for your mapper + reducer together here"
   ]
  },
  {
   "cell_type": "code",
   "execution_count": null,
   "metadata": {},
   "outputs": [],
   "source": [
    "# part b - clear (and name) an output directory in HDFS for your unsmoothed chinese NB model"
   ]
  },
  {
   "cell_type": "code",
   "execution_count": null,
   "metadata": {},
   "outputs": [],
   "source": [
    "# part b - write your hadoop streaming job"
   ]
  },
  {
   "cell_type": "code",
   "execution_count": null,
   "metadata": {},
   "outputs": [],
   "source": [
    "# part b - extract your results (i.e. model) to a local file"
   ]
  },
  {
   "cell_type": "code",
   "execution_count": null,
   "metadata": {},
   "outputs": [],
   "source": [
    "# part b - print your model so that we can confirm that it matches expected results"
   ]
  },
  {
   "cell_type": "code",
   "execution_count": 16,
   "metadata": {},
   "outputs": [
    {
     "name": "stdout",
     "output_type": "stream",
     "text": [
      "A\tchinese\t0,1\n",
      "A\tbeijing\t0,1\n",
      "A\tchinese\t0,1\n",
      "A\tchinese\t0,1\n",
      "A\tchinese\t0,1\n",
      "A\tshanghai\t0,1\n",
      "A\tchinese\t0,1\n",
      "A\tmacao\t0,1\n",
      "A\ttokyo\t1,0\n",
      "A\tjapan\t1,0\n",
      "A\tchinese\t1,0\n",
      "A\t*docTotals\t1,3\n",
      "A\t*wordTotals\t3,8\n"
     ]
    }
   ],
   "source": [
    "# <--- SOLUTION --->\n",
    "# part b - write a unit test for your mapper here\n",
    "!cat NaiveBayes/chineseTrain.txt | NaiveBayes/train_mapper.py"
   ]
  },
  {
   "cell_type": "code",
   "execution_count": 4,
   "metadata": {},
   "outputs": [
    {
     "name": "stdout",
     "output_type": "stream",
     "text": [
      "beijing      0,1,0.0,0.125\n",
      "chinese      1,5,0.3333333333333333,0.625\n",
      "japan        1,0,0.3333333333333333,0.0\n",
      "macao        0,1,0.0,0.125\n",
      "shanghai     0,1,0.0,0.125\n",
      "tokyo        1,0,0.3333333333333333,0.0\n",
      "ClassPriors  1.0,3.0,0.25,0.75\n"
     ]
    }
   ],
   "source": [
    "# <--- SOLUTION --->\n",
    "# part b - write a unit test for your reducer here\n",
    "!cat NaiveBayes/chineseTrain.txt | NaiveBayes/train_mapper.py | sort -k2,2 > mapper_test_output.txt\n",
    "# !cat mapper_test_output.txt\n",
    "!cat mapper_test_output.txt | NaiveBayes/train_reducer.py | column -t"
   ]
  },
  {
   "cell_type": "code",
   "execution_count": 19,
   "metadata": {},
   "outputs": [
    {
     "name": "stdout",
     "output_type": "stream",
     "text": [
      "D1\t1\t\tChinese Beijing Chinese\n",
      "D2\t1\t\tChinese Chinese Shanghai\n",
      "D3\t1\t\tChinese Macao\n",
      "D4\t0\t\tTokyo Japan Chinese"
     ]
    }
   ],
   "source": [
    "!cat NaiveBayes/chineseTrain.txt"
   ]
  },
  {
   "cell_type": "code",
   "execution_count": 20,
   "metadata": {},
   "outputs": [
    {
     "name": "stdout",
     "output_type": "stream",
     "text": [
      "beijing      0,1,0.0,0.125\n",
      "chinese      1,5,0.3333333333333333,0.625\n",
      "japan        1,0,0.3333333333333333,0.0\n",
      "macao        0,1,0.0,0.125\n",
      "shanghai     0,1,0.0,0.125\n",
      "tokyo        1,0,0.3333333333333333,0.0\n",
      "ClassPriors  1.0,3.0,0.25,0.75\n"
     ]
    }
   ],
   "source": [
    "# <--- SOLUTION --->\n",
    "# part b - write a systems test for your mapper + reducer together here\n",
    "!cat NaiveBayes/chineseTrain.txt | NaiveBayes/train_mapper.py | sort | NaiveBayes/train_reducer.py | column -t"
   ]
  },
  {
   "cell_type": "code",
   "execution_count": 32,
   "metadata": {},
   "outputs": [
    {
     "name": "stdout",
     "output_type": "stream",
     "text": [
      "Deleted /user/root/HW2/chinese-train-output\n"
     ]
    }
   ],
   "source": [
    "# <--- SOLUTION --->\n",
    "# part b - clear (and name) an output directory in HDFS for your unsmoothed chinese NB model\n",
    "!hdfs dfs -rm -r {HDFS_DIR}/chinese-train-output"
   ]
  },
  {
   "cell_type": "code",
   "execution_count": 33,
   "metadata": {},
   "outputs": [
    {
     "name": "stdout",
     "output_type": "stream",
     "text": [
      "packageJobJar: [] [/usr/lib/hadoop-mapreduce/hadoop-streaming-2.6.0-cdh5.15.1.jar] /tmp/streamjob2545492988533173559.jar tmpDir=null\n",
      "19/10/01 19:17:14 INFO client.RMProxy: Connecting to ResourceManager at /0.0.0.0:8032\n",
      "19/10/01 19:17:15 INFO client.RMProxy: Connecting to ResourceManager at /0.0.0.0:8032\n",
      "19/10/01 19:17:15 INFO mapred.FileInputFormat: Total input paths to process : 1\n",
      "19/10/01 19:17:16 INFO mapreduce.JobSubmitter: number of splits:2\n",
      "19/10/01 19:17:16 INFO mapreduce.JobSubmitter: Submitting tokens for job: job_1569547701949_0004\n",
      "19/10/01 19:17:16 INFO impl.YarnClientImpl: Submitted application application_1569547701949_0004\n",
      "19/10/01 19:17:16 INFO mapreduce.Job: The url to track the job: http://docker.w261:8088/proxy/application_1569547701949_0004/\n",
      "19/10/01 19:17:16 INFO mapreduce.Job: Running job: job_1569547701949_0004\n",
      "19/10/01 19:17:24 INFO mapreduce.Job: Job job_1569547701949_0004 running in uber mode : false\n",
      "19/10/01 19:17:24 INFO mapreduce.Job:  map 0% reduce 0%\n",
      "19/10/01 19:17:31 INFO mapreduce.Job:  map 50% reduce 0%\n",
      "19/10/01 19:17:32 INFO mapreduce.Job:  map 100% reduce 0%\n",
      "19/10/01 19:17:38 INFO mapreduce.Job:  map 100% reduce 50%\n",
      "19/10/01 19:17:39 INFO mapreduce.Job:  map 100% reduce 100%\n",
      "19/10/01 19:17:39 INFO mapreduce.Job: Job job_1569547701949_0004 completed successfully\n",
      "19/10/01 19:17:40 INFO mapreduce.Job: Counters: 50\n",
      "\tFile System Counters\n",
      "\t\tFILE: Number of bytes read=339\n",
      "\t\tFILE: Number of bytes written=602508\n",
      "\t\tFILE: Number of read operations=0\n",
      "\t\tFILE: Number of large read operations=0\n",
      "\t\tFILE: Number of write operations=0\n",
      "\t\tHDFS: Number of bytes read=387\n",
      "\t\tHDFS: Number of bytes written=228\n",
      "\t\tHDFS: Number of read operations=12\n",
      "\t\tHDFS: Number of large read operations=0\n",
      "\t\tHDFS: Number of write operations=4\n",
      "\tJob Counters \n",
      "\t\tKilled reduce tasks=1\n",
      "\t\tLaunched map tasks=2\n",
      "\t\tLaunched reduce tasks=2\n",
      "\t\tData-local map tasks=2\n",
      "\t\tTotal time spent by all maps in occupied slots (ms)=9693\n",
      "\t\tTotal time spent by all reduces in occupied slots (ms)=10327\n",
      "\t\tTotal time spent by all map tasks (ms)=9693\n",
      "\t\tTotal time spent by all reduce tasks (ms)=10327\n",
      "\t\tTotal vcore-milliseconds taken by all map tasks=9693\n",
      "\t\tTotal vcore-milliseconds taken by all reduce tasks=10327\n",
      "\t\tTotal megabyte-milliseconds taken by all map tasks=9925632\n",
      "\t\tTotal megabyte-milliseconds taken by all reduce tasks=10574848\n",
      "\tMap-Reduce Framework\n",
      "\t\tMap input records=4\n",
      "\t\tMap output records=19\n",
      "\t\tMap output bytes=289\n",
      "\t\tMap output materialized bytes=351\n",
      "\t\tInput split bytes=228\n",
      "\t\tCombine input records=0\n",
      "\t\tCombine output records=0\n",
      "\t\tReduce input groups=10\n",
      "\t\tReduce shuffle bytes=351\n",
      "\t\tReduce input records=19\n",
      "\t\tReduce output records=8\n",
      "\t\tSpilled Records=38\n",
      "\t\tShuffled Maps =4\n",
      "\t\tFailed Shuffles=0\n",
      "\t\tMerged Map outputs=4\n",
      "\t\tGC time elapsed (ms)=133\n",
      "\t\tCPU time spent (ms)=3890\n",
      "\t\tPhysical memory (bytes) snapshot=940199936\n",
      "\t\tVirtual memory (bytes) snapshot=5504548864\n",
      "\t\tTotal committed heap usage (bytes)=849346560\n",
      "\tShuffle Errors\n",
      "\t\tBAD_ID=0\n",
      "\t\tCONNECTION=0\n",
      "\t\tIO_ERROR=0\n",
      "\t\tWRONG_LENGTH=0\n",
      "\t\tWRONG_MAP=0\n",
      "\t\tWRONG_REDUCE=0\n",
      "\tFile Input Format Counters \n",
      "\t\tBytes Read=159\n",
      "\tFile Output Format Counters \n",
      "\t\tBytes Written=228\n",
      "19/10/01 19:17:40 INFO streaming.StreamJob: Output directory: /user/root/HW2/chinese-train-output\n"
     ]
    }
   ],
   "source": [
    "# <--- SOLUTION --->\n",
    "# part b - write your hadoop streaming job\n",
    "!hadoop jar {JAR_FILE} \\\n",
    "  -D stream.num.map.output.key.fields=2 \\\n",
    "  -D mapreduce.job.output.key.comparator.class=org.apache.hadoop.mapred.lib.KeyFieldBasedComparator \\\n",
    "  -D mapreduce.partition.keycomparator.options=\"-k2,2\" \\\n",
    "  -D mapreduce.partition.keypartitioner.options=\"-k1,1\" \\\n",
    "  -files NaiveBayes/train_mapper.py,NaiveBayes/train_reducer.py \\\n",
    "  -partitioner org.apache.hadoop.mapred.lib.KeyFieldBasedPartitioner \\\n",
    "  -mapper train_mapper.py \\\n",
    "  -reducer train_reducer.py \\\n",
    "  -input {HDFS_DIR}/chineseTrain.txt \\\n",
    "  -output {HDFS_DIR}/chinese-train-output \\\n",
    "  -cmdenv PATH={PATH} \\\n",
    "  -numReduceTasks 2 # <-- feel free to modify the number of reducers"
   ]
  },
  {
   "cell_type": "code",
   "execution_count": 34,
   "metadata": {},
   "outputs": [],
   "source": [
    "# <--- SOLUTION --->\n",
    "# part b - extract your results (i.e. model) to a local file\n",
    "!hdfs dfs -cat {HDFS_DIR}/chinese-train-output/part-0000* > NaiveBayes/chineseModelUnsmoothed.txt"
   ]
  },
  {
   "cell_type": "code",
   "execution_count": 35,
   "metadata": {},
   "outputs": [
    {
     "name": "stdout",
     "output_type": "stream",
     "text": [
      "beijing      0,1,0.0,0.125\n",
      "japan        1,0,0.3333333333333333,0.0\n",
      "tokyo        1,0,0.3333333333333333,0.0\n",
      "ClassPriors  1.0,3.0,0.25,0.75\n",
      "chinese      1,5,0.3333333333333333,0.625\n",
      "macao        0,1,0.0,0.125\n",
      "shanghai     0,1,0.0,0.125\n",
      "ClassPriors  1.0,3.0,0.25,0.75\n"
     ]
    }
   ],
   "source": [
    "# <--- SOLUTION --->\n",
    "# part b - print your model so that we can confirm that it matches expected results\n",
    "!cat NaiveBayes/chineseModelUnsmoothed.txt | column -t"
   ]
  },
  {
   "cell_type": "markdown",
   "metadata": {},
   "source": [
    "__`part e starts here`:__ MNB _with_ Smoothing (training on Chinese Example Corpus)."
   ]
  },
  {
   "cell_type": "code",
   "execution_count": null,
   "metadata": {},
   "outputs": [],
   "source": [
    "# part e - write a unit test for your NEW reducer here"
   ]
  },
  {
   "cell_type": "code",
   "execution_count": null,
   "metadata": {},
   "outputs": [],
   "source": [
    "# part e - write a systems test for your mapper + reducer together here"
   ]
  },
  {
   "cell_type": "code",
   "execution_count": null,
   "metadata": {},
   "outputs": [],
   "source": [
    "# part e - clear (and name) an output directory in HDFS for your SMOOTHED chinese NB model"
   ]
  },
  {
   "cell_type": "code",
   "execution_count": null,
   "metadata": {},
   "outputs": [],
   "source": [
    "# part e - write your hadoop streaming job"
   ]
  },
  {
   "cell_type": "code",
   "execution_count": null,
   "metadata": {},
   "outputs": [],
   "source": [
    "# part e - extract your results (i.e. model) to a local file"
   ]
  },
  {
   "cell_type": "code",
   "execution_count": 51,
   "metadata": {},
   "outputs": [
    {
     "name": "stdout",
     "output_type": "stream",
     "text": [
      "japan        1,0,0.0004386926957666155,0.00021934634788330776\n",
      "chinese      0,2,0.00021934634788330776,0.0006580390436499232\n",
      "ClassPriors  1.0,5.0,0.16666666666666666,0.8333333333333334\n"
     ]
    }
   ],
   "source": [
    "# <--- SOLUTION --->\n",
    "# part e - write a unit test for your NEW reducer here (NOTE, need to uncomment V in reducer code)\n",
    "!chmod a+x NaiveBayes/train_reducer_smooth.py\n",
    "!echo -e \"A\t*docTotals\t1,5\\nA\t*wordTotals\t4,4\\nA\tjapan\t1,0\\nA\tchinese\t0,1\\nA\tchinese\t0,1\" | NaiveBayes/train_reducer_smooth.py | column -t"
   ]
  },
  {
   "cell_type": "code",
   "execution_count": 52,
   "metadata": {},
   "outputs": [
    {
     "name": "stdout",
     "output_type": "stream",
     "text": [
      "beijing      0,1,0.00021939447125932427,0.00043830813061582295\n",
      "chinese      1,5,0.00043878894251864854,0.0013149243918474688\n",
      "japan        1,0,0.00043878894251864854,0.00021915406530791147\n",
      "macao        0,1,0.00021939447125932427,0.00043830813061582295\n",
      "shanghai     0,1,0.00021939447125932427,0.00043830813061582295\n",
      "tokyo        1,0,0.00043878894251864854,0.00021915406530791147\n",
      "ClassPriors  1.0,3.0,0.25,0.75\n"
     ]
    }
   ],
   "source": [
    "# <--- SOLUTION --->\n",
    "# part e - write a systems test for your mapper + reducer together here\n",
    "!cat NaiveBayes/chineseTrain.txt | NaiveBayes/train_mapper.py | sort | NaiveBayes/train_reducer_smooth.py | column -t"
   ]
  },
  {
   "cell_type": "code",
   "execution_count": 11,
   "metadata": {},
   "outputs": [
    {
     "name": "stdout",
     "output_type": "stream",
     "text": [
      "Deleted /user/root/HW2/chinese-train-output\n"
     ]
    }
   ],
   "source": [
    "# <--- SOLUTION --->\n",
    "# part e - clear (and name) an output directory in HDFS for your SMOOTHED chinese NB model\n",
    "!hdfs dfs -rm -r {HDFS_DIR}/chinese-train-output"
   ]
  },
  {
   "cell_type": "code",
   "execution_count": 12,
   "metadata": {},
   "outputs": [
    {
     "name": "stdout",
     "output_type": "stream",
     "text": [
      "packageJobJar: [] [/usr/lib/hadoop-mapreduce/hadoop-streaming-2.6.0-cdh5.15.1.jar] /tmp/streamjob1160014168044153544.jar tmpDir=null\n",
      "19/10/01 22:34:35 INFO client.RMProxy: Connecting to ResourceManager at /0.0.0.0:8032\n",
      "19/10/01 22:34:35 INFO client.RMProxy: Connecting to ResourceManager at /0.0.0.0:8032\n",
      "19/10/01 22:34:36 INFO mapred.FileInputFormat: Total input paths to process : 1\n",
      "19/10/01 22:34:37 INFO mapreduce.JobSubmitter: number of splits:2\n",
      "19/10/01 22:34:37 INFO mapreduce.JobSubmitter: Submitting tokens for job: job_1569547701949_0006\n",
      "19/10/01 22:34:38 INFO impl.YarnClientImpl: Submitted application application_1569547701949_0006\n",
      "19/10/01 22:34:38 INFO mapreduce.Job: The url to track the job: http://docker.w261:8088/proxy/application_1569547701949_0006/\n",
      "19/10/01 22:34:38 INFO mapreduce.Job: Running job: job_1569547701949_0006\n",
      "19/10/01 22:34:51 INFO mapreduce.Job: Job job_1569547701949_0006 running in uber mode : false\n",
      "19/10/01 22:34:51 INFO mapreduce.Job:  map 0% reduce 0%\n",
      "19/10/01 22:35:24 INFO mapreduce.Job:  map 100% reduce 0%\n",
      "19/10/01 22:35:34 INFO mapreduce.Job:  map 100% reduce 100%\n",
      "19/10/01 22:35:34 INFO mapreduce.Job: Job job_1569547701949_0006 completed successfully\n",
      "19/10/01 22:35:35 INFO mapreduce.Job: Counters: 49\n",
      "\tFile System Counters\n",
      "\t\tFILE: Number of bytes read=339\n",
      "\t\tFILE: Number of bytes written=602648\n",
      "\t\tFILE: Number of read operations=0\n",
      "\t\tFILE: Number of large read operations=0\n",
      "\t\tFILE: Number of write operations=0\n",
      "\t\tHDFS: Number of bytes read=387\n",
      "\t\tHDFS: Number of bytes written=402\n",
      "\t\tHDFS: Number of read operations=12\n",
      "\t\tHDFS: Number of large read operations=0\n",
      "\t\tHDFS: Number of write operations=4\n",
      "\tJob Counters \n",
      "\t\tLaunched map tasks=2\n",
      "\t\tLaunched reduce tasks=2\n",
      "\t\tData-local map tasks=2\n",
      "\t\tTotal time spent by all maps in occupied slots (ms)=57263\n",
      "\t\tTotal time spent by all reduces in occupied slots (ms)=13428\n",
      "\t\tTotal time spent by all map tasks (ms)=57263\n",
      "\t\tTotal time spent by all reduce tasks (ms)=13428\n",
      "\t\tTotal vcore-milliseconds taken by all map tasks=57263\n",
      "\t\tTotal vcore-milliseconds taken by all reduce tasks=13428\n",
      "\t\tTotal megabyte-milliseconds taken by all map tasks=58637312\n",
      "\t\tTotal megabyte-milliseconds taken by all reduce tasks=13750272\n",
      "\tMap-Reduce Framework\n",
      "\t\tMap input records=4\n",
      "\t\tMap output records=19\n",
      "\t\tMap output bytes=289\n",
      "\t\tMap output materialized bytes=351\n",
      "\t\tInput split bytes=228\n",
      "\t\tCombine input records=0\n",
      "\t\tCombine output records=0\n",
      "\t\tReduce input groups=10\n",
      "\t\tReduce shuffle bytes=351\n",
      "\t\tReduce input records=19\n",
      "\t\tReduce output records=8\n",
      "\t\tSpilled Records=38\n",
      "\t\tShuffled Maps =4\n",
      "\t\tFailed Shuffles=0\n",
      "\t\tMerged Map outputs=4\n",
      "\t\tGC time elapsed (ms)=232\n",
      "\t\tCPU time spent (ms)=5970\n",
      "\t\tPhysical memory (bytes) snapshot=878190592\n",
      "\t\tVirtual memory (bytes) snapshot=5481009152\n",
      "\t\tTotal committed heap usage (bytes)=800063488\n",
      "\tShuffle Errors\n",
      "\t\tBAD_ID=0\n",
      "\t\tCONNECTION=0\n",
      "\t\tIO_ERROR=0\n",
      "\t\tWRONG_LENGTH=0\n",
      "\t\tWRONG_MAP=0\n",
      "\t\tWRONG_REDUCE=0\n",
      "\tFile Input Format Counters \n",
      "\t\tBytes Read=159\n",
      "\tFile Output Format Counters \n",
      "\t\tBytes Written=402\n",
      "19/10/01 22:35:35 INFO streaming.StreamJob: Output directory: /user/root/HW2//chinese-train-output\n"
     ]
    }
   ],
   "source": [
    "# <--- SOLUTION --->\n",
    "# part e - write your hadoop streaming job\n",
    "\n",
    "# hadoop command\n",
    "!hadoop jar {JAR_FILE} \\\n",
    "  -D stream.num.map.output.key.fields=2 \\\n",
    "  -D mapreduce.job.output.key.comparator.class=org.apache.hadoop.mapred.lib.KeyFieldBasedComparator \\\n",
    "  -D mapreduce.partition.keycomparator.options=\"-k2,2\" \\\n",
    "  -D mapreduce.partition.keypartitioner.options=\"-k1,1\" \\\n",
    "  -files NaiveBayes/train_mapper.py,NaiveBayes/train_reducer_smooth.py \\\n",
    "  -mapper train_mapper.py \\\n",
    "  -reducer train_reducer_smooth.py \\\n",
    "  -input {HDFS_DIR}/chineseTrain.txt \\\n",
    "  -output {HDFS_DIR}/chinese-train-output \\\n",
    "  -partitioner org.apache.hadoop.mapred.lib.KeyFieldBasedPartitioner \\\n",
    "  -cmdenv PATH={PATH} \\\n",
    "  -numReduceTasks 2 # <-- feel free to modify the number of reducers"
   ]
  },
  {
   "cell_type": "code",
   "execution_count": 13,
   "metadata": {},
   "outputs": [],
   "source": [
    "# <--- SOLUTION --->\n",
    "# part e - extract your results (i.e. model) to a local file\n",
    "!hdfs dfs -cat {HDFS_DIR}/chinese-train-output/part-0000* > NaiveBayes/chineseModelSmoothed.txt"
   ]
  },
  {
   "cell_type": "code",
   "execution_count": 14,
   "metadata": {},
   "outputs": [
    {
     "name": "stdout",
     "output_type": "stream",
     "text": [
      "beijing      0,1,0.00021939447125932427,0.00043830813061582295\n",
      "japan        1,0,0.00043878894251864854,0.00021915406530791147\n",
      "tokyo        1,0,0.00043878894251864854,0.00021915406530791147\n",
      "ClassPriors  1.0,3.0,0.25,0.75\n",
      "chinese      1,5,0.00043878894251864854,0.0013149243918474688\n",
      "macao        0,1,0.00021939447125932427,0.00043830813061582295\n",
      "shanghai     0,1,0.00021939447125932427,0.00043830813061582295\n",
      "ClassPriors  1.0,3.0,0.25,0.75\n"
     ]
    }
   ],
   "source": [
    "# <--- SOLUTION --->\n",
    "# part e - print your model so that we can confirm that it matches expected results\n",
    "!cat NaiveBayes/chineseModelSmoothed.txt | column -t"
   ]
  },
  {
   "cell_type": "markdown",
   "metadata": {},
   "source": [
    "# Question 9: Enron Ham/Spam NB Classifier & Results.\n",
    "\n",
    "Fantastic work. We're finally ready to perform Spam Classification on the Enron Corpus. In this question you'll run the analysis you've developed, report its performance.\n",
    "\n",
    "### Q9 Tasks:\n",
    "* __a) train/test split:__ Run the provided code to split our Enron file into a training set and testing set then load them into HDFS. [`NOTE:` _Make sure you re calculate the vocab size for just the training set!_]\n",
    "\n",
    "* __b) train 2 models:__ Write Hadoop Streaming jobs to train MNB Models on the training set with and without smoothing. Save your models to local files at __`NaiveBayes/Unsmoothed/NBmodel.txt`__ and __`NaiveBayes/Smoothed/NBmodel.txt`__. [`NOTE:` _This naming is important because we wrote our classification task so that it expects a file of that name... if this inelegance frustrates you there is an alternative that would involve a few adjustments to your code [read more about it here](http://www.tnoda.com/blog/2013-11-23)._] Finally run the checks that we provide to confirm that your results are correct.\n",
    "\n",
    "\n",
    "* __c) code:__ Recall that we designed our classification job with just a mapper. An efficient way to report the performance of our models would be to simply add a reducer phase to this job and compute precision and recall right there. Complete the code in __`NaiveBayes/evaluation_reducer.py`__ and then write Hadoop jobs to evaluate your two models on the test set. Report their performance side by side. [`NOTE:` if you need a refresher on precision, recall and F1-score [Wikipedia](https://en.wikipedia.org/wiki/F1_score) is a good resource.]\n",
    "\n",
    "\n",
    "* __d) short response:__ Compare the performance of your two models. What do you notice about the unsmoothed model's predictions? Can you guess why this is happening? Which evaluation measure do you think is most relevant in our use case? [`NOTE:` _Feel free to answer using your common sense but if you want more information on evaluating the classification task checkout_ [this blogpost](https://tryolabs.com/blog/2013/03/25/why-accuracy-alone-bad-measure-classification-tasks-and-what-we-can-do-about-it/\n",
    ") or [this paper](http://www.flinders.edu.au/science_engineering/fms/School-CSEM/publications/tech_reps-research_artfcts/TRRA_2007.pdf\n",
    ")]\n",
    "\n"
   ]
  },
  {
   "cell_type": "markdown",
   "metadata": {},
   "source": [
    "### Q9 Student Answers:\n",
    "> __d)__ Type your answer here!\n",
    "\n"
   ]
  },
  {
   "cell_type": "markdown",
   "metadata": {},
   "source": [
    "### <--- SOLUTION --->\n",
    "__SOLUTIONS__\n",
    "> __d)__ The unsmoothed model seems to be always predicting the negative class so its accuracy is simply the proportion of non-spam emails in the test set (9/20). One reason this could happen is if the Class Prior for the negative class is larger than the Class Prior for the postive class and if there are a lot of words with 0 probability in one or the other class. The Smoothed model performs better and since we do have a mixture of predictions here we can look at the F1-score which reflects both precision and recall. In application, when developing a Spam filter we'd probably want to also look at precision and recall independently to understand whether our filter is more likely to accidentally allow a spam email to arrive in the inbox or more likely to wrongly sequester a real email.\n",
    "\n"
   ]
  },
  {
   "cell_type": "markdown",
   "metadata": {},
   "source": [
    "__Test/Train split__"
   ]
  },
  {
   "cell_type": "code",
   "execution_count": 12,
   "metadata": {},
   "outputs": [],
   "source": [
    "# part a - test/train split (RUN THIS CELL AS IS)\n",
    "!head -n 80 data/enronemail_1h.txt > data/enron_train.txt\n",
    "!tail -n 20 data/enronemail_1h.txt > data/enron_test.txt\n",
    "!hdfs dfs -copyFromLocal data/enron_train.txt {HDFS_DIR}\n",
    "!hdfs dfs -copyFromLocal data/enron_test.txt {HDFS_DIR}"
   ]
  },
  {
   "cell_type": "markdown",
   "metadata": {},
   "source": [
    "__Training__ (Enron MNB Model _without smoothing_ )"
   ]
  },
  {
   "cell_type": "code",
   "execution_count": null,
   "metadata": {},
   "outputs": [],
   "source": [
    "# part b -  Unsmoothed model (FILL IN THE MISSING CODE BELOW)\n",
    "\n",
    "# clear the output directory\n",
    "!hdfs dfs -rm -r {HDFS_DIR}/enron-model\n",
    "\n",
    "# hadoop command\n",
    "!hadoop jar {JAR_FILE} \\\n",
    "\n",
    "\n",
    "\n",
    "\n",
    "\n",
    "\n",
    "\n",
    "\n",
    "# save the model locally\n",
    "!mkdir NaiveBayes/Unsmoothed\n",
    "!hdfs dfs -cat {HDFS_DIR}/enron-model/part-000* > NaiveBayes/Unsmoothed/NBmodel.txt"
   ]
  },
  {
   "cell_type": "code",
   "execution_count": 68,
   "metadata": {},
   "outputs": [
    {
     "name": "stdout",
     "output_type": "stream",
     "text": [
      "Deleted /user/root/HW2/enron-model\n",
      "packageJobJar: [] [/usr/lib/hadoop-mapreduce/hadoop-streaming-2.6.0-cdh5.15.1.jar] /tmp/streamjob855034155836088964.jar tmpDir=null\n",
      "19/08/23 16:17:13 INFO client.RMProxy: Connecting to ResourceManager at /0.0.0.0:8032\n",
      "19/08/23 16:17:13 INFO client.RMProxy: Connecting to ResourceManager at /0.0.0.0:8032\n",
      "19/08/23 16:17:14 INFO mapred.FileInputFormat: Total input paths to process : 1\n",
      "19/08/23 16:17:14 INFO mapreduce.JobSubmitter: number of splits:2\n",
      "19/08/23 16:17:14 INFO mapreduce.JobSubmitter: Submitting tokens for job: job_1566574597904_0012\n",
      "19/08/23 16:17:14 INFO impl.YarnClientImpl: Submitted application application_1566574597904_0012\n",
      "19/08/23 16:17:14 INFO mapreduce.Job: The url to track the job: http://docker.w261:8088/proxy/application_1566574597904_0012/\n",
      "19/08/23 16:17:14 INFO mapreduce.Job: Running job: job_1566574597904_0012\n",
      "19/08/23 16:17:20 INFO mapreduce.Job: Job job_1566574597904_0012 running in uber mode : false\n",
      "19/08/23 16:17:20 INFO mapreduce.Job:  map 0% reduce 0%\n",
      "19/08/23 16:17:26 INFO mapreduce.Job:  map 50% reduce 0%\n",
      "19/08/23 16:17:28 INFO mapreduce.Job:  map 100% reduce 0%\n",
      "19/08/23 16:17:33 INFO mapreduce.Job:  map 100% reduce 100%\n",
      "19/08/23 16:17:33 INFO mapreduce.Job: Job job_1566574597904_0012 completed successfully\n",
      "19/08/23 16:17:33 INFO mapreduce.Job: Counters: 49\n",
      "\tFile System Counters\n",
      "\t\tFILE: Number of bytes read=343562\n",
      "\t\tFILE: Number of bytes written=1138461\n",
      "\t\tFILE: Number of read operations=0\n",
      "\t\tFILE: Number of large read operations=0\n",
      "\t\tFILE: Number of write operations=0\n",
      "\t\tHDFS: Number of bytes read=167388\n",
      "\t\tHDFS: Number of bytes written=186927\n",
      "\t\tHDFS: Number of read operations=9\n",
      "\t\tHDFS: Number of large read operations=0\n",
      "\t\tHDFS: Number of write operations=2\n",
      "\tJob Counters \n",
      "\t\tLaunched map tasks=2\n",
      "\t\tLaunched reduce tasks=1\n",
      "\t\tData-local map tasks=2\n",
      "\t\tTotal time spent by all maps in occupied slots (ms)=6848\n",
      "\t\tTotal time spent by all reduces in occupied slots (ms)=3279\n",
      "\t\tTotal time spent by all map tasks (ms)=6848\n",
      "\t\tTotal time spent by all reduce tasks (ms)=3279\n",
      "\t\tTotal vcore-milliseconds taken by all map tasks=6848\n",
      "\t\tTotal vcore-milliseconds taken by all reduce tasks=3279\n",
      "\t\tTotal megabyte-milliseconds taken by all map tasks=7012352\n",
      "\t\tTotal megabyte-milliseconds taken by all reduce tasks=3357696\n",
      "\tMap-Reduce Framework\n",
      "\t\tMap input records=80\n",
      "\t\tMap output records=25071\n",
      "\t\tMap output bytes=293414\n",
      "\t\tMap output materialized bytes=343568\n",
      "\t\tInput split bytes=226\n",
      "\t\tCombine input records=0\n",
      "\t\tCombine output records=0\n",
      "\t\tReduce input groups=4557\n",
      "\t\tReduce shuffle bytes=343568\n",
      "\t\tReduce input records=25071\n",
      "\t\tReduce output records=4556\n",
      "\t\tSpilled Records=50142\n",
      "\t\tShuffled Maps =2\n",
      "\t\tFailed Shuffles=0\n",
      "\t\tMerged Map outputs=2\n",
      "\t\tGC time elapsed (ms)=69\n",
      "\t\tCPU time spent (ms)=3730\n",
      "\t\tPhysical memory (bytes) snapshot=806146048\n",
      "\t\tVirtual memory (bytes) snapshot=4127875072\n",
      "\t\tTotal committed heap usage (bytes)=885522432\n",
      "\tShuffle Errors\n",
      "\t\tBAD_ID=0\n",
      "\t\tCONNECTION=0\n",
      "\t\tIO_ERROR=0\n",
      "\t\tWRONG_LENGTH=0\n",
      "\t\tWRONG_MAP=0\n",
      "\t\tWRONG_REDUCE=0\n",
      "\tFile Input Format Counters \n",
      "\t\tBytes Read=167162\n",
      "\tFile Output Format Counters \n",
      "\t\tBytes Written=186927\n",
      "19/08/23 16:17:33 INFO streaming.StreamJob: Output directory: /user/root/HW2/enron-model\n",
      "mkdir: cannot create directory `NaiveBayes/Unsmoothed': File exists\n"
     ]
    }
   ],
   "source": [
    "# <--- SOLUTION --->\n",
    "# part b -  Unsmoothed model (FILL IN THE MISSING CODE BELOW)\n",
    "\n",
    "# clear the output directory\n",
    "!hdfs dfs -rm -r {HDFS_DIR}/enron-model\n",
    "\n",
    "# hadoop command\n",
    "!hadoop jar {JAR_FILE} \\\n",
    "  -D stream.num.map.output.key.fields=2 \\\n",
    "  -D mapreduce.job.output.key.comparator.class=org.apache.hadoop.mapred.lib.KeyFieldBasedComparator \\\n",
    "  -D mapreduce.partition.keycomparator.options=\"-k2,2\" \\\n",
    "  -D mapreduce.partition.keypartitioner.options=\"-k1,1\" \\\n",
    "  -files NaiveBayes/train_mapper.py,NaiveBayes/train_reducer.py \\\n",
    "  -mapper train_mapper.py \\\n",
    "  -reducer train_reducer.py \\\n",
    "  -input {HDFS_DIR}/enron_train.txt \\\n",
    "  -output {HDFS_DIR}/enron-model \\\n",
    "  -partitioner org.apache.hadoop.mapred.lib.KeyFieldBasedPartitioner \\\n",
    "  -cmdenv PATH={PATH}\n",
    "    \n",
    "# save the model locally\n",
    "!mkdir NaiveBayes/Unsmoothed\n",
    "!hdfs dfs -cat {HDFS_DIR}/enron-model/part-000* > NaiveBayes/Unsmoothed/NBmodel.txt"
   ]
  },
  {
   "cell_type": "code",
   "execution_count": 69,
   "metadata": {},
   "outputs": [
    {
     "name": "stdout",
     "output_type": "stream",
     "text": [
      "assistance\t2,4,0.0001725476662928134,0.00029682398337785694\n"
     ]
    }
   ],
   "source": [
    "# part b - check your UNSMOOTHED model results (RUN THIS CELL AS IS)\n",
    "!grep assistance NaiveBayes/Unsmoothed/NBmodel.txt\n",
    "# EXPECTED OUTPUT: assistance\t2,4,0.000172547666293,0.000296823983378"
   ]
  },
  {
   "cell_type": "code",
   "execution_count": 70,
   "metadata": {},
   "outputs": [
    {
     "name": "stdout",
     "output_type": "stream",
     "text": [
      "money\t1,22,8.62738331464067e-05,0.001632531908578213\n"
     ]
    }
   ],
   "source": [
    "# part b - check your UNSMOOTHED model results (RUN THIS CELL AS IS)\n",
    "!grep money NaiveBayes/Unsmoothed/NBmodel.txt\n",
    "# EXPECTED OUTPUT: money\t1,22,8.62738331464e-05,0.00163253190858"
   ]
  },
  {
   "cell_type": "markdown",
   "metadata": {},
   "source": [
    "__Training__ (Enron MNB Model _with Laplace +1 smoothing_ )"
   ]
  },
  {
   "cell_type": "code",
   "execution_count": null,
   "metadata": {},
   "outputs": [],
   "source": [
    "# part b -  Smoothed model (FILL IN THE MISSING CODE BELOW)\n",
    "\n",
    "# clear the output directory\n",
    "!hdfs dfs -rm -r {HDFS_DIR}/smooth-model\n",
    "\n",
    "# hadoop command\n",
    "!hadoop jar {JAR_FILE} \\\n",
    "\n",
    "\n",
    "\n",
    "\n",
    "\n",
    "\n",
    "\n",
    "# save the model locally\n",
    "!mkdir NaiveBayes/Unsmoothed\n",
    "!hdfs dfs -cat {HDFS_DIR}/smooth-model/part-000* > NaiveBayes/Smoothed/NBmodel.txt"
   ]
  },
  {
   "cell_type": "code",
   "execution_count": 13,
   "metadata": {},
   "outputs": [
    {
     "name": "stdout",
     "output_type": "stream",
     "text": [
      "rm: `/user/root/HW2//smooth-model': No such file or directory\n",
      "packageJobJar: [] [/usr/lib/hadoop-mapreduce/hadoop-streaming-2.6.0-cdh5.16.2.jar] /tmp/streamjob380362034030580326.jar tmpDir=null\n",
      "20/01/02 16:11:43 INFO client.RMProxy: Connecting to ResourceManager at /0.0.0.0:8032\n",
      "20/01/02 16:11:43 INFO client.RMProxy: Connecting to ResourceManager at /0.0.0.0:8032\n",
      "20/01/02 16:11:44 INFO mapred.FileInputFormat: Total input paths to process : 1\n",
      "20/01/02 16:11:44 INFO mapreduce.JobSubmitter: number of splits:2\n",
      "20/01/02 16:11:44 INFO mapreduce.JobSubmitter: Submitting tokens for job: job_1577981089921_0001\n",
      "20/01/02 16:11:45 INFO impl.YarnClientImpl: Submitted application application_1577981089921_0001\n",
      "20/01/02 16:11:45 INFO mapreduce.Job: The url to track the job: http://docker.w261:8088/proxy/application_1577981089921_0001/\n",
      "20/01/02 16:11:45 INFO mapreduce.Job: Running job: job_1577981089921_0001\n",
      "20/01/02 16:11:56 INFO mapreduce.Job: Job job_1577981089921_0001 running in uber mode : false\n",
      "20/01/02 16:11:56 INFO mapreduce.Job:  map 0% reduce 0%\n",
      "20/01/02 16:12:05 INFO mapreduce.Job:  map 50% reduce 0%\n",
      "20/01/02 16:12:06 INFO mapreduce.Job:  map 100% reduce 0%\n",
      "20/01/02 16:12:14 INFO mapreduce.Job:  map 100% reduce 100%\n",
      "20/01/02 16:12:15 INFO mapreduce.Job: Job job_1577981089921_0001 completed successfully\n",
      "20/01/02 16:12:15 INFO mapreduce.Job: Counters: 49\n",
      "\tFile System Counters\n",
      "\t\tFILE: Number of bytes read=343662\n",
      "\t\tFILE: Number of bytes written=1289182\n",
      "\t\tFILE: Number of read operations=0\n",
      "\t\tFILE: Number of large read operations=0\n",
      "\t\tFILE: Number of write operations=0\n",
      "\t\tHDFS: Number of bytes read=167388\n",
      "\t\tHDFS: Number of bytes written=254212\n",
      "\t\tHDFS: Number of read operations=12\n",
      "\t\tHDFS: Number of large read operations=0\n",
      "\t\tHDFS: Number of write operations=4\n",
      "\tJob Counters \n",
      "\t\tLaunched map tasks=2\n",
      "\t\tLaunched reduce tasks=2\n",
      "\t\tData-local map tasks=2\n",
      "\t\tTotal time spent by all maps in occupied slots (ms)=12036\n",
      "\t\tTotal time spent by all reduces in occupied slots (ms)=11737\n",
      "\t\tTotal time spent by all map tasks (ms)=12036\n",
      "\t\tTotal time spent by all reduce tasks (ms)=11737\n",
      "\t\tTotal vcore-milliseconds taken by all map tasks=12036\n",
      "\t\tTotal vcore-milliseconds taken by all reduce tasks=11737\n",
      "\t\tTotal megabyte-milliseconds taken by all map tasks=12324864\n",
      "\t\tTotal megabyte-milliseconds taken by all reduce tasks=12018688\n",
      "\tMap-Reduce Framework\n",
      "\t\tMap input records=80\n",
      "\t\tMap output records=25075\n",
      "\t\tMap output bytes=293500\n",
      "\t\tMap output materialized bytes=343674\n",
      "\t\tInput split bytes=226\n",
      "\t\tCombine input records=0\n",
      "\t\tCombine output records=0\n",
      "\t\tReduce input groups=4559\n",
      "\t\tReduce shuffle bytes=343674\n",
      "\t\tReduce input records=25075\n",
      "\t\tReduce output records=4557\n",
      "\t\tSpilled Records=50150\n",
      "\t\tShuffled Maps =4\n",
      "\t\tFailed Shuffles=0\n",
      "\t\tMerged Map outputs=4\n",
      "\t\tGC time elapsed (ms)=231\n",
      "\t\tCPU time spent (ms)=7490\n",
      "\t\tPhysical memory (bytes) snapshot=982851584\n",
      "\t\tVirtual memory (bytes) snapshot=5550657536\n",
      "\t\tTotal committed heap usage (bytes)=1042284544\n",
      "\tShuffle Errors\n",
      "\t\tBAD_ID=0\n",
      "\t\tCONNECTION=0\n",
      "\t\tIO_ERROR=0\n",
      "\t\tWRONG_LENGTH=0\n",
      "\t\tWRONG_MAP=0\n",
      "\t\tWRONG_REDUCE=0\n",
      "\tFile Input Format Counters \n",
      "\t\tBytes Read=167162\n",
      "\tFile Output Format Counters \n",
      "\t\tBytes Written=254212\n",
      "20/01/02 16:12:15 INFO streaming.StreamJob: Output directory: /user/root/HW2//smooth-model\n",
      "mkdir: cannot create directory `NaiveBayes/Smoothed': File exists\n"
     ]
    }
   ],
   "source": [
    "# <--- SOLUTION --->\n",
    "# part b -  Smoothed model (FILL IN THE MISSING CODE BELOW)\n",
    "\n",
    "# clear the output directory\n",
    "!hdfs dfs -rm -r {HDFS_DIR}/smooth-model\n",
    "\n",
    "# hadoop command\n",
    "!hadoop jar {JAR_FILE} \\\n",
    "  -D stream.num.map.output.key.fields=2 \\\n",
    "  -D mapreduce.job.output.key.comparator.class=org.apache.hadoop.mapred.lib.KeyFieldBasedComparator \\\n",
    "  -D mapreduce.partition.keycomparator.options=\"-k2,2\" \\\n",
    "  -D mapreduce.partition.keypartitioner.options=\"-k1,1\" \\\n",
    "  -files NaiveBayes/train_mapper.py,NaiveBayes/train_reducer_smooth.py \\\n",
    "  -mapper train_mapper.py \\\n",
    "  -reducer train_reducer_smooth.py \\\n",
    "  -input {HDFS_DIR}/enron_train.txt \\\n",
    "  -output {HDFS_DIR}/smooth-model \\\n",
    "  -partitioner org.apache.hadoop.mapred.lib.KeyFieldBasedPartitioner \\\n",
    "  -cmdenv PATH={PATH} \\\n",
    "  -numReduceTasks 2 # <-- feel free to modify the number of reducers\n",
    "\n",
    "# save the model locally\n",
    "!mkdir NaiveBayes/Smoothed\n",
    "!hdfs dfs -cat {HDFS_DIR}/smooth-model/part-000* > NaiveBayes/Smoothed/NBmodel.txt"
   ]
  },
  {
   "cell_type": "code",
   "execution_count": 14,
   "metadata": {},
   "outputs": [
    {
     "name": "stdout",
     "output_type": "stream",
     "text": [
      "assistance\t2,4,0.0001858045336306206,0.00027730020520215184\n"
     ]
    }
   ],
   "source": [
    "# part b - check your SMOOTHED model results (RUN THIS CELL AS IS)\n",
    "!grep assistance NaiveBayes/Smoothed/NBmodel.txt\n",
    "# EXPECTED OUTPUT: assistance\t2,4,0.000185804533631,0.000277300205202"
   ]
  },
  {
   "cell_type": "code",
   "execution_count": 15,
   "metadata": {},
   "outputs": [
    {
     "name": "stdout",
     "output_type": "stream",
     "text": [
      "money\t1,22,0.0001238696890870804,0.0012755809439298986\n"
     ]
    }
   ],
   "source": [
    "# part b - check your SMOOTHED model results (RUN THIS CELL AS IS)\n",
    "!grep money NaiveBayes/Smoothed/NBmodel.txt\n",
    "# EXPECTED OUTPUT: money\t1,22,0.000123869689087,0.00127558094393"
   ]
  },
  {
   "cell_type": "markdown",
   "metadata": {},
   "source": [
    "__Evaluation__"
   ]
  },
  {
   "cell_type": "code",
   "execution_count": 16,
   "metadata": {},
   "outputs": [],
   "source": [
    "# part c - write your code in NaiveBayes/evaluation_reducer.py then RUN THIS\n",
    "!chmod a+x NaiveBayes/evaluation_reducer.py"
   ]
  },
  {
   "cell_type": "code",
   "execution_count": 17,
   "metadata": {},
   "outputs": [
    {
     "name": "stdout",
     "output_type": "stream",
     "text": [
      "d5\t1\t-8.90668134500626\t-8.10769031284611\t1\n",
      "d6\t1\t-5.780743515794329\t-4.179502370564408\t1\n",
      "d7\t0\t-6.591673732011658\t-7.511706880737811\t0\n",
      "d8\t0\t-4.394449154674438\t-5.565796731681498\t0\n",
      "d5\t1\t-8.90668134500626\t-8.10769031284611\t True\n",
      "d6\t1\t-5.780743515794329\t-4.179502370564408\t True\n",
      "d7\t0\t-6.591673732011658\t-7.511706880737811\t True\n",
      "d8\t0\t-4.394449154674438\t-5.565796731681498\t True\n",
      "Total # Documents:\t4.0\n",
      "True Positives:\t2.0\n",
      "True Negatives:\t2.0\n",
      "False Positives:\t0.0\n",
      "False Negatives:\t0.0\n",
      "Accuracy\t1.0\n",
      "Precision\t1.0\n",
      "Recall\t1.0\n",
      "F-Score\t1.0\n"
     ]
    }
   ],
   "source": [
    "# part c - unit test your evaluation job on the chinese model (RUN THIS CELL AS IS)\n",
    "!cat NaiveBayes/chineseTest.txt | NaiveBayes/classify_mapper.py \n",
    "!cat NaiveBayes/chineseTest.txt | NaiveBayes/classify_mapper.py | NaiveBayes/evaluation_reducer.py"
   ]
  },
  {
   "cell_type": "code",
   "execution_count": null,
   "metadata": {},
   "outputs": [],
   "source": [
    "# part c - Evaluate the UNSMOOTHED Model Here (FILL IN THE MISSING CODE)\n",
    "\n",
    "# clear output directory\n",
    "\n",
    "# hadoop job\n",
    "\n",
    "\n",
    "\n",
    "\n",
    "\n",
    "# retrieve results locally"
   ]
  },
  {
   "cell_type": "code",
   "execution_count": 18,
   "metadata": {},
   "outputs": [
    {
     "name": "stdout",
     "output_type": "stream",
     "text": [
      "rm: `/user/root/HW2//nb-results': No such file or directory\n",
      "packageJobJar: [] [/usr/lib/hadoop-mapreduce/hadoop-streaming-2.6.0-cdh5.16.2.jar] /tmp/streamjob3409203252728144752.jar tmpDir=null\n",
      "20/01/02 16:16:18 INFO client.RMProxy: Connecting to ResourceManager at /0.0.0.0:8032\n",
      "20/01/02 16:16:18 INFO client.RMProxy: Connecting to ResourceManager at /0.0.0.0:8032\n",
      "20/01/02 16:16:19 INFO mapred.FileInputFormat: Total input paths to process : 1\n",
      "20/01/02 16:16:19 INFO mapreduce.JobSubmitter: number of splits:2\n",
      "20/01/02 16:16:20 INFO mapreduce.JobSubmitter: Submitting tokens for job: job_1577981089921_0002\n",
      "20/01/02 16:16:20 INFO impl.YarnClientImpl: Submitted application application_1577981089921_0002\n",
      "20/01/02 16:16:20 INFO mapreduce.Job: The url to track the job: http://docker.w261:8088/proxy/application_1577981089921_0002/\n",
      "20/01/02 16:16:20 INFO mapreduce.Job: Running job: job_1577981089921_0002\n",
      "20/01/02 16:16:28 INFO mapreduce.Job: Job job_1577981089921_0002 running in uber mode : false\n",
      "20/01/02 16:16:28 INFO mapreduce.Job:  map 0% reduce 0%\n",
      "20/01/02 16:16:35 INFO mapreduce.Job:  map 50% reduce 0%\n",
      "20/01/02 16:16:36 INFO mapreduce.Job:  map 100% reduce 0%\n",
      "20/01/02 16:16:43 INFO mapreduce.Job:  map 100% reduce 100%\n",
      "20/01/02 16:16:43 INFO mapreduce.Job: Job job_1577981089921_0002 completed successfully\n",
      "20/01/02 16:16:44 INFO mapreduce.Job: Counters: 49\n",
      "\tFile System Counters\n",
      "\t\tFILE: Number of bytes read=818\n",
      "\t\tFILE: Number of bytes written=451269\n",
      "\t\tFILE: Number of read operations=0\n",
      "\t\tFILE: Number of large read operations=0\n",
      "\t\tFILE: Number of write operations=0\n",
      "\t\tHDFS: Number of bytes read=49909\n",
      "\t\tHDFS: Number of bytes written=1051\n",
      "\t\tHDFS: Number of read operations=9\n",
      "\t\tHDFS: Number of large read operations=0\n",
      "\t\tHDFS: Number of write operations=2\n",
      "\tJob Counters \n",
      "\t\tLaunched map tasks=2\n",
      "\t\tLaunched reduce tasks=1\n",
      "\t\tData-local map tasks=2\n",
      "\t\tTotal time spent by all maps in occupied slots (ms)=9896\n",
      "\t\tTotal time spent by all reduces in occupied slots (ms)=4902\n",
      "\t\tTotal time spent by all map tasks (ms)=9896\n",
      "\t\tTotal time spent by all reduce tasks (ms)=4902\n",
      "\t\tTotal vcore-milliseconds taken by all map tasks=9896\n",
      "\t\tTotal vcore-milliseconds taken by all reduce tasks=4902\n",
      "\t\tTotal megabyte-milliseconds taken by all map tasks=10133504\n",
      "\t\tTotal megabyte-milliseconds taken by all reduce tasks=5019648\n",
      "\tMap-Reduce Framework\n",
      "\t\tMap input records=20\n",
      "\t\tMap output records=20\n",
      "\t\tMap output bytes=772\n",
      "\t\tMap output materialized bytes=824\n",
      "\t\tInput split bytes=224\n",
      "\t\tCombine input records=0\n",
      "\t\tCombine output records=0\n",
      "\t\tReduce input groups=20\n",
      "\t\tReduce shuffle bytes=824\n",
      "\t\tReduce input records=20\n",
      "\t\tReduce output records=29\n",
      "\t\tSpilled Records=40\n",
      "\t\tShuffled Maps =2\n",
      "\t\tFailed Shuffles=0\n",
      "\t\tMerged Map outputs=2\n",
      "\t\tGC time elapsed (ms)=88\n",
      "\t\tCPU time spent (ms)=2550\n",
      "\t\tPhysical memory (bytes) snapshot=772972544\n",
      "\t\tVirtual memory (bytes) snapshot=4135653376\n",
      "\t\tTotal committed heap usage (bytes)=820510720\n",
      "\tShuffle Errors\n",
      "\t\tBAD_ID=0\n",
      "\t\tCONNECTION=0\n",
      "\t\tIO_ERROR=0\n",
      "\t\tWRONG_LENGTH=0\n",
      "\t\tWRONG_MAP=0\n",
      "\t\tWRONG_REDUCE=0\n",
      "\tFile Input Format Counters \n",
      "\t\tBytes Read=49685\n",
      "\tFile Output Format Counters \n",
      "\t\tBytes Written=1051\n",
      "20/01/02 16:16:44 INFO streaming.StreamJob: Output directory: /user/root/HW2//nb-results\n"
     ]
    }
   ],
   "source": [
    "# <--- SOLUTION --->\n",
    "# part c - Evaluate the UNSMOOTHED Model Here (FILL IN THE MISSING CODE)\n",
    "\n",
    "# clear output directory\n",
    "!hdfs dfs -rm -r {HDFS_DIR}/nb-results\n",
    "\n",
    "# hadoop job\n",
    "!hadoop jar {JAR_FILE} \\\n",
    "  -files NaiveBayes/classify_mapper.py,NaiveBayes/evaluation_reducer.py,NaiveBayes/Unsmoothed/NBmodel.txt \\\n",
    "  -mapper classify_mapper.py \\\n",
    "  -reducer evaluation_reducer.py \\\n",
    "  -input {HDFS_DIR}/enron_test.txt \\\n",
    "  -output {HDFS_DIR}/nb-results \\\n",
    "  -cmdenv PATH={PATH}\n",
    "\n",
    "# retrieve results locally\n",
    "!hdfs dfs -cat {HDFS_DIR}/nb-results/part-000* > NaiveBayes/Unsmoothed/results.txt"
   ]
  },
  {
   "cell_type": "code",
   "execution_count": null,
   "metadata": {},
   "outputs": [],
   "source": [
    "# part c - Evaluate the SMOOTHED Model Here (FILL IN THE MISSING CODE)\n",
    "\n",
    "# clear output directory\n",
    "\n",
    "# hadoop job\n",
    "\n",
    "\n",
    "\n",
    "\n",
    "\n",
    "# retrieve results locally"
   ]
  },
  {
   "cell_type": "code",
   "execution_count": 77,
   "metadata": {},
   "outputs": [
    {
     "name": "stdout",
     "output_type": "stream",
     "text": [
      "rm: `/user/root/HW2/nb-smoothed-results': No such file or directory\n",
      "packageJobJar: [] [/usr/lib/hadoop-mapreduce/hadoop-streaming-2.6.0-cdh5.15.1.jar] /tmp/streamjob671218802565378736.jar tmpDir=null\n",
      "19/08/23 16:20:01 INFO client.RMProxy: Connecting to ResourceManager at /0.0.0.0:8032\n",
      "19/08/23 16:20:01 INFO client.RMProxy: Connecting to ResourceManager at /0.0.0.0:8032\n",
      "19/08/23 16:20:02 INFO mapred.FileInputFormat: Total input paths to process : 1\n",
      "19/08/23 16:20:02 INFO mapreduce.JobSubmitter: number of splits:2\n",
      "19/08/23 16:20:02 INFO mapreduce.JobSubmitter: Submitting tokens for job: job_1566574597904_0015\n",
      "19/08/23 16:20:02 INFO impl.YarnClientImpl: Submitted application application_1566574597904_0015\n",
      "19/08/23 16:20:02 INFO mapreduce.Job: The url to track the job: http://docker.w261:8088/proxy/application_1566574597904_0015/\n",
      "19/08/23 16:20:02 INFO mapreduce.Job: Running job: job_1566574597904_0015\n",
      "19/08/23 16:20:08 INFO mapreduce.Job: Job job_1566574597904_0015 running in uber mode : false\n",
      "19/08/23 16:20:08 INFO mapreduce.Job:  map 0% reduce 0%\n",
      "19/08/23 16:20:13 INFO mapreduce.Job:  map 50% reduce 0%\n",
      "19/08/23 16:20:14 INFO mapreduce.Job:  map 100% reduce 0%\n",
      "19/08/23 16:20:19 INFO mapreduce.Job:  map 100% reduce 100%\n",
      "19/08/23 16:20:19 INFO mapreduce.Job: Job job_1566574597904_0015 completed successfully\n",
      "19/08/23 16:20:19 INFO mapreduce.Job: Counters: 49\n",
      "\tFile System Counters\n",
      "\t\tFILE: Number of bytes read=1345\n",
      "\t\tFILE: Number of bytes written=452395\n",
      "\t\tFILE: Number of read operations=0\n",
      "\t\tFILE: Number of large read operations=0\n",
      "\t\tFILE: Number of write operations=0\n",
      "\t\tHDFS: Number of bytes read=49909\n",
      "\t\tHDFS: Number of bytes written=1556\n",
      "\t\tHDFS: Number of read operations=9\n",
      "\t\tHDFS: Number of large read operations=0\n",
      "\t\tHDFS: Number of write operations=2\n",
      "\tJob Counters \n",
      "\t\tLaunched map tasks=2\n",
      "\t\tLaunched reduce tasks=1\n",
      "\t\tData-local map tasks=2\n",
      "\t\tTotal time spent by all maps in occupied slots (ms)=6289\n",
      "\t\tTotal time spent by all reduces in occupied slots (ms)=2706\n",
      "\t\tTotal time spent by all map tasks (ms)=6289\n",
      "\t\tTotal time spent by all reduce tasks (ms)=2706\n",
      "\t\tTotal vcore-milliseconds taken by all map tasks=6289\n",
      "\t\tTotal vcore-milliseconds taken by all reduce tasks=2706\n",
      "\t\tTotal megabyte-milliseconds taken by all map tasks=6439936\n",
      "\t\tTotal megabyte-milliseconds taken by all reduce tasks=2770944\n",
      "\tMap-Reduce Framework\n",
      "\t\tMap input records=20\n",
      "\t\tMap output records=20\n",
      "\t\tMap output bytes=1299\n",
      "\t\tMap output materialized bytes=1351\n",
      "\t\tInput split bytes=224\n",
      "\t\tCombine input records=0\n",
      "\t\tCombine output records=0\n",
      "\t\tReduce input groups=20\n",
      "\t\tReduce shuffle bytes=1351\n",
      "\t\tReduce input records=20\n",
      "\t\tReduce output records=29\n",
      "\t\tSpilled Records=40\n",
      "\t\tShuffled Maps =2\n",
      "\t\tFailed Shuffles=0\n",
      "\t\tMerged Map outputs=2\n",
      "\t\tGC time elapsed (ms)=78\n",
      "\t\tCPU time spent (ms)=1660\n",
      "\t\tPhysical memory (bytes) snapshot=796667904\n",
      "\t\tVirtual memory (bytes) snapshot=4157792256\n",
      "\t\tTotal committed heap usage (bytes)=819462144\n",
      "\tShuffle Errors\n",
      "\t\tBAD_ID=0\n",
      "\t\tCONNECTION=0\n",
      "\t\tIO_ERROR=0\n",
      "\t\tWRONG_LENGTH=0\n",
      "\t\tWRONG_MAP=0\n",
      "\t\tWRONG_REDUCE=0\n",
      "\tFile Input Format Counters \n",
      "\t\tBytes Read=49685\n",
      "\tFile Output Format Counters \n",
      "\t\tBytes Written=1556\n",
      "19/08/23 16:20:19 INFO streaming.StreamJob: Output directory: /user/root/HW2/nb-smoothed-results\n"
     ]
    }
   ],
   "source": [
    "# <--- SOLUTION --->\n",
    "# part c - Evaluate the SMOOTHED Model Here (FILL IN THE MISSING CODE)\n",
    "\n",
    "# clear output directory\n",
    "!hdfs dfs -rm -r {HDFS_DIR}/nb-smoothed-results\n",
    "\n",
    "# hadoop job\n",
    "!hadoop jar {JAR_FILE} \\\n",
    "  -files NaiveBayes/classify_mapper.py,NaiveBayes/evaluation_reducer.py,NaiveBayes/Smoothed/NBmodel.txt \\\n",
    "  -mapper classify_mapper.py \\\n",
    "  -reducer evaluation_reducer.py \\\n",
    "  -input {HDFS_DIR}/enron_test.txt \\\n",
    "  -output {HDFS_DIR}/nb-smoothed-results \\\n",
    "  -cmdenv PATH={PATH}\n",
    "\n",
    "# retrieve results locally\n",
    "!hdfs dfs -cat {HDFS_DIR}/nb-smoothed-results/part-000* > NaiveBayes/Smoothed/results.txt"
   ]
  },
  {
   "cell_type": "code",
   "execution_count": 78,
   "metadata": {},
   "outputs": [
    {
     "name": "stdout",
     "output_type": "stream",
     "text": [
      "=========== UNSMOOTHED MODEL ============\n",
      "Total # Documents:\t20.0\n",
      "True Positives:\t1.0\n",
      "True Negatives:\t9.0\n",
      "False Positives:\t0.0\n",
      "False Negatives:\t10.0\n",
      "Accuracy\t0.5\n",
      "Precision\t1.0\n",
      "Recall\t0.09090909090909091\n",
      "F-Score\t0.16666666666666669\n",
      "=========== SMOOTHED MODEL ============\n",
      "Total # Documents:\t20.0\n",
      "True Positives:\t11.0\n",
      "True Negatives:\t6.0\n",
      "False Positives:\t3.0\n",
      "False Negatives:\t0.0\n",
      "Accuracy\t0.85\n",
      "Precision\t0.7857142857142857\n",
      "Recall\t1.0\n",
      "F-Score\t0.88\n"
     ]
    }
   ],
   "source": [
    "# part c - display results \n",
    "# NOTE: feel free to modify the tail commands to match the format of your results file\n",
    "print('=========== UNSMOOTHED MODEL ============')\n",
    "!tail -n 9 NaiveBayes/Unsmoothed/results.txt\n",
    "print('=========== SMOOTHED MODEL ============')\n",
    "!tail -n 9 NaiveBayes/Smoothed/results.txt"
   ]
  },
  {
   "cell_type": "markdown",
   "metadata": {},
   "source": [
    "__`EXPECTED RESULTS:`__ \n",
    "<table>\n",
    "<th>Unsmoothed Model</th>\n",
    "<th>Smoothed Model</th>\n",
    "<tr>\n",
    "<td><pre>\n",
    "# Documents:\t20\n",
    "True Positives:\t1\n",
    "True Negatives:\t9\n",
    "False Positives:\t0\n",
    "False Negatives:\t10\n",
    "Accuracy\t0.5\n",
    "Precision\t1.0\n",
    "Recall\t0.0909\n",
    "F-Score\t0.1666\n",
    "</pre></td>\n",
    "<td><pre>\n",
    "# Documents:\t20\n",
    "True Positives:\t11\n",
    "True Negatives:\t6\n",
    "False Positives:\t3\n",
    "False Negatives:\t0\n",
    "Accuracy\t0.85\n",
    "Precision\t0.7857\n",
    "Recall\t1.0\n",
    "F-Score\t0.88\n",
    "</pre></td>\n",
    "</tr>\n",
    "</table>\n",
    "\n",
    "__`NOTE:`__ _Don't be too disappointed if these seem low to you. We've trained and tested on a very very small corpus... bigger datasets coming soon!_"
   ]
  },
  {
   "cell_type": "markdown",
   "metadata": {},
   "source": [
    "# Question 10: Custom Partitioning and Secondary Sort\n",
    "\n",
    "Now that we have our model, we can analyse the results and think about future improvements.\n",
    "\n",
    "### Q10 Tasks:\n",
    "\n",
    "* __a) code + short response:__ Let's look at the top ten words with the highest conditional probability in `Spam` and in `Ham`. We'll do this by writing a Hadoop job that sorts the model file (`NaiveBayes/Smoothed/NBmodel.py`). Normally we'd have to run two jobs -- one that sorts on $P(word|ham)$ and another that sorts on $P(word|spam)$. However if we slighly modify the data format in the model file then we can get the top words in each class with just one job. We've written a mapper that will do just this for you. Read through __`NaiveBayes/model_sort_mapper.py`__ and then briefly explain how this mapper will allow us to partition and sort our model file. Write a Hadoop job that uses our mapper and `/bin/cat` for a reducer to partition and sort. Print out the top 10 words in each class (where 'top' == highest conditional probability).[`HINT:` _this should remind you a lot of what we did in Question 6._]\n",
    "\n",
    "\n",
    "* __b) short response:__ What do you notice about the 'top words' we printed in `a`? How would increasing the smoothing parameter 'k' affect the probabilities for the top words that you identified for 'a'. How would they affect the probabilities of words that occur much more in one class than another? In summary, how does the smoothing parameter 'k' affect the bias and the variance of our model. [`NOTE:` _you do not need to code anything for this task, but if you are struggling with it you could try changing 'k' and see what happens to the test set. We don't recommend doing this exploration with the Enron data because it will be harder to see the impact with such a big vocabulary_]"
   ]
  },
  {
   "cell_type": "markdown",
   "metadata": {},
   "source": [
    "### Q10 Student Answers:\n",
    "> __a)__ Type your answer here!\n",
    "\n",
    "> __b)__ Type your answer here!"
   ]
  },
  {
   "cell_type": "markdown",
   "metadata": {},
   "source": [
    "# <--- SOLUTION --->\n",
    "__SOLUTIONS__\n",
    "> __a)__ This mapper adds two new fields to our model file: the first is the name of the class with the higher conditional probability. We can use this field to partition our file. The second field is the conditional probability of the max class... although this information was already part of the payload by putting it in one field we can now sort on both classes simultaneously and trust that our top 10 get sorted on the appropriate value.\n",
    "\n",
    "> __b)__ Increasing the smoothing parameter k will generally cause the conditional probabilities in each class to be closer to each other. This will have little affect on words whose probabilities were already very similar in each class but a larger effect on words that occcured much more in one class than the other. In other words increasing k reduces the variance of our model. Assuming that some of that variance we've learned is idiosynchratic to our training set, this should make our model more generalizable. However there is  risk that doing so we will increase the bias of our model because as k increases our predictions are more likely to reflect the Class Priors."
   ]
  },
  {
   "cell_type": "code",
   "execution_count": null,
   "metadata": {},
   "outputs": [],
   "source": [
    "# part a - write your Hadoop job here (sort smoothed model on P(word|class))\n",
    "\n",
    "# clear output directory\n",
    "\n",
    "# hadoop job"
   ]
  },
  {
   "cell_type": "code",
   "execution_count": 23,
   "metadata": {},
   "outputs": [
    {
     "name": "stdout",
     "output_type": "stream",
     "text": [
      "Deleted /user/root/HW2/model-sort-output\n",
      "packageJobJar: [] [/usr/lib/hadoop-mapreduce/hadoop-streaming-2.6.0-cdh5.16.2.jar] /tmp/streamjob4373669017327849285.jar tmpDir=null\n",
      "20/01/02 16:23:31 INFO client.RMProxy: Connecting to ResourceManager at /0.0.0.0:8032\n",
      "20/01/02 16:23:31 INFO client.RMProxy: Connecting to ResourceManager at /0.0.0.0:8032\n",
      "20/01/02 16:23:32 INFO mapred.FileInputFormat: Total input paths to process : 2\n",
      "20/01/02 16:23:32 INFO mapreduce.JobSubmitter: number of splits:2\n",
      "20/01/02 16:23:32 INFO mapreduce.JobSubmitter: Submitting tokens for job: job_1577981089921_0005\n",
      "20/01/02 16:23:33 INFO impl.YarnClientImpl: Submitted application application_1577981089921_0005\n",
      "20/01/02 16:23:33 INFO mapreduce.Job: The url to track the job: http://docker.w261:8088/proxy/application_1577981089921_0005/\n",
      "20/01/02 16:23:33 INFO mapreduce.Job: Running job: job_1577981089921_0005\n",
      "20/01/02 16:23:41 INFO mapreduce.Job: Job job_1577981089921_0005 running in uber mode : false\n",
      "20/01/02 16:23:41 INFO mapreduce.Job:  map 0% reduce 0%\n",
      "20/01/02 16:23:49 INFO mapreduce.Job:  map 50% reduce 0%\n",
      "20/01/02 16:23:50 INFO mapreduce.Job:  map 100% reduce 0%\n",
      "20/01/02 16:23:57 INFO mapreduce.Job:  map 100% reduce 50%\n",
      "20/01/02 16:23:58 INFO mapreduce.Job:  map 100% reduce 100%\n",
      "20/01/02 16:23:58 INFO mapreduce.Job: Job job_1577981089921_0005 completed successfully\n",
      "20/01/02 16:23:58 INFO mapreduce.Job: Counters: 50\n",
      "\tFile System Counters\n",
      "\t\tFILE: Number of bytes read=391014\n",
      "\t\tFILE: Number of bytes written=1379526\n",
      "\t\tFILE: Number of read operations=0\n",
      "\t\tFILE: Number of large read operations=0\n",
      "\t\tFILE: Number of write operations=0\n",
      "\t\tHDFS: Number of bytes read=254454\n",
      "\t\tHDFS: Number of bytes written=381892\n",
      "\t\tHDFS: Number of read operations=12\n",
      "\t\tHDFS: Number of large read operations=0\n",
      "\t\tHDFS: Number of write operations=4\n",
      "\tJob Counters \n",
      "\t\tKilled reduce tasks=1\n",
      "\t\tLaunched map tasks=2\n",
      "\t\tLaunched reduce tasks=2\n",
      "\t\tData-local map tasks=2\n",
      "\t\tTotal time spent by all maps in occupied slots (ms)=9771\n",
      "\t\tTotal time spent by all reduces in occupied slots (ms)=10341\n",
      "\t\tTotal time spent by all map tasks (ms)=9771\n",
      "\t\tTotal time spent by all reduce tasks (ms)=10341\n",
      "\t\tTotal vcore-milliseconds taken by all map tasks=9771\n",
      "\t\tTotal vcore-milliseconds taken by all reduce tasks=10341\n",
      "\t\tTotal megabyte-milliseconds taken by all map tasks=10005504\n",
      "\t\tTotal megabyte-milliseconds taken by all reduce tasks=10589184\n",
      "\tMap-Reduce Framework\n",
      "\t\tMap input records=4557\n",
      "\t\tMap output records=4555\n",
      "\t\tMap output bytes=381892\n",
      "\t\tMap output materialized bytes=391026\n",
      "\t\tInput split bytes=242\n",
      "\t\tCombine input records=0\n",
      "\t\tCombine output records=0\n",
      "\t\tReduce input groups=4555\n",
      "\t\tReduce shuffle bytes=391026\n",
      "\t\tReduce input records=4555\n",
      "\t\tReduce output records=4555\n",
      "\t\tSpilled Records=9110\n",
      "\t\tShuffled Maps =4\n",
      "\t\tFailed Shuffles=0\n",
      "\t\tMerged Map outputs=4\n",
      "\t\tGC time elapsed (ms)=115\n",
      "\t\tCPU time spent (ms)=4770\n",
      "\t\tPhysical memory (bytes) snapshot=969666560\n",
      "\t\tVirtual memory (bytes) snapshot=5511430144\n",
      "\t\tTotal committed heap usage (bytes)=912785408\n",
      "\tShuffle Errors\n",
      "\t\tBAD_ID=0\n",
      "\t\tCONNECTION=0\n",
      "\t\tIO_ERROR=0\n",
      "\t\tWRONG_LENGTH=0\n",
      "\t\tWRONG_MAP=0\n",
      "\t\tWRONG_REDUCE=0\n",
      "\tFile Input Format Counters \n",
      "\t\tBytes Read=254212\n",
      "\tFile Output Format Counters \n",
      "\t\tBytes Written=381892\n",
      "20/01/02 16:23:58 INFO streaming.StreamJob: Output directory: /user/root/HW2//model-sort-output\n"
     ]
    }
   ],
   "source": [
    "# <--- SOLUTION --->\n",
    "# part a - write your Hadoop job here (sort smoothed model on P(word|class))\n",
    "\n",
    "# clear output directory\n",
    "!hdfs dfs -rm -r {HDFS_DIR}/model-sort-output\n",
    "# hadoop job\n",
    "!hadoop jar {JAR_FILE} \\\n",
    "  -D stream.num.map.output.key.fields=4 \\\n",
    "  -D mapreduce.job.output.key.comparator.class=org.apache.hadoop.mapred.lib.KeyFieldBasedComparator \\\n",
    "  -D mapreduce.partition.keycomparator.options=\"-k4,4nr\" \\\n",
    "  -D mapreduce.partition.keypartitioner.options=\"-k3,3\" \\\n",
    "  -files NaiveBayes/model_sort_mapper.py \\\n",
    "  -mapper model_sort_mapper.py \\\n",
    "  -input {HDFS_DIR}/smooth-model \\\n",
    "  -output {HDFS_DIR}/model-sort-output \\\n",
    "  -partitioner org.apache.hadoop.mapred.lib.KeyFieldBasedPartitioner \\\n",
    "  -cmdenv PATH={PATH} \\\n",
    "  -numReduceTasks 2"
   ]
  },
  {
   "cell_type": "code",
   "execution_count": null,
   "metadata": {},
   "outputs": [],
   "source": [
    "# part b - print top words in each class\n"
   ]
  },
  {
   "cell_type": "code",
   "execution_count": 24,
   "metadata": {},
   "outputs": [
    {
     "name": "stdout",
     "output_type": "stream",
     "text": [
      "============== PART-00000===============\n",
      "ect\t378,0,0.023473306082001735,5.546004104043037e-05\tham\t0.023473306082001735\t\n",
      "and\t258,277,0.01604112473677691,0.015417891409239643\tham\t0.01604112473677691\t\n",
      "hou\t203,0,0.0126347082868822,5.546004104043037e-05\tham\t0.0126347082868822\t\n",
      "in\t160,157,0.009971509971509971,0.008762686484387999\tham\t0.009971509971509971\t\n",
      "for\t148,153,0.00922829183698749,0.008540846320226277\tham\t0.00922829183698749\t\n",
      "on\t122,95,0.007617985878855444,0.005324163939881316\tham\t0.007617985878855444\t\n",
      "enron\t116,0,0.007246376811594203,5.546004104043037e-05\tham\t0.007246376811594203\t\n",
      "will\t113,69,0.007060572277963582,0.003882202872830126\tham\t0.007060572277963582\t\n",
      "i\t113,106,0.007060572277963582,0.00593422439132605\tham\t0.007060572277963582\t\n",
      "this\t99,90,0.00619348445435402,0.005046863734679163\tham\t0.00619348445435402\t\n",
      "cat: Unable to write to output stream.\n",
      "============== PART-00001===============\n",
      "the\t453,535,0.02811841942276725,0.029726581997670677\tspam\t0.029726581997670677\t\n",
      "to\t350,420,0.021739130434782608,0.023348677278021184\tspam\t0.023348677278021184\t\n",
      "a\t168,274,0.010466988727858293,0.015251511286118352\tspam\t0.015251511286118352\t\n",
      "your\t35,271,0.002229654403567447,0.01508513116299706\tspam\t0.01508513116299706\t\n",
      "of\t188,252,0.011705685618729096,0.014031390383228884\tspam\t0.014031390383228884\t\n",
      "you\t80,252,0.005016722408026756,0.014031390383228884\tspam\t0.014031390383228884\t\n",
      "it\t30,119,0.0019199801808497462,0.0066552049248516446\tspam\t0.0066552049248516446\t\n",
      "com\t74,108,0.004645113340765515,0.006045144473406911\tspam\t0.006045144473406911\t\n",
      "that\t71,100,0.004459308807134894,0.005601464145083467\tspam\t0.005601464145083467\t\n",
      "or\t41,88,0.002601263470828688,0.004935943652598303\tspam\t0.004935943652598303\t\n",
      "cat: Unable to write to output stream.\n"
     ]
    }
   ],
   "source": [
    "# <--- SOLUTION --->\n",
    "# part b - print top words in each class\n",
    "for idx in range(2):\n",
    "    print(f\"============== PART-0000{idx}===============\")\n",
    "    !hdfs dfs -cat {HDFS_DIR}/model-sort-output/part-0000{idx} | head"
   ]
  },
  {
   "cell_type": "raw",
   "metadata": {},
   "source": [
    "Expected results:\n",
    "============== PART-00000===============\n",
    "ect\t378,0,0.023473306082001735,5.546004104043037e-05\tham\t0.023473306082001735\t\n",
    "and\t258,277,0.01604112473677691,0.015417891409239643\tham\t0.01604112473677691\t\n",
    "hou\t203,0,0.0126347082868822,5.546004104043037e-05\tham\t0.0126347082868822\t\n",
    "in\t160,157,0.009971509971509971,0.008762686484387999\tham\t0.009971509971509971\t\n",
    "for\t148,153,0.00922829183698749,0.008540846320226277\tham\t0.00922829183698749\t\n",
    "on\t122,95,0.007617985878855444,0.005324163939881316\tham\t0.007617985878855444\t\n",
    "enron\t116,0,0.007246376811594203,5.546004104043037e-05\tham\t0.007246376811594203\t\n",
    "will\t113,69,0.007060572277963582,0.003882202872830126\tham\t0.007060572277963582\t\n",
    "i\t113,106,0.007060572277963582,0.00593422439132605\tham\t0.007060572277963582\t\n",
    "this\t99,90,0.00619348445435402,0.005046863734679163\tham\t0.00619348445435402\t\n",
    "cat: Unable to write to output stream.\n",
    "============== PART-00001===============\n",
    "the\t453,535,0.02811841942276725,0.029726581997670677\tspam\t0.029726581997670677\t\n",
    "to\t350,420,0.021739130434782608,0.023348677278021184\tspam\t0.023348677278021184\t\n",
    "a\t168,274,0.010466988727858293,0.015251511286118352\tspam\t0.015251511286118352\t\n",
    "your\t35,271,0.002229654403567447,0.01508513116299706\tspam\t0.01508513116299706\t\n",
    "of\t188,252,0.011705685618729096,0.014031390383228884\tspam\t0.014031390383228884\t\n",
    "you\t80,252,0.005016722408026756,0.014031390383228884\tspam\t0.014031390383228884\t\n",
    "it\t30,119,0.0019199801808497462,0.0066552049248516446\tspam\t0.0066552049248516446\t\n",
    "com\t74,108,0.004645113340765515,0.006045144473406911\tspam\t0.006045144473406911\t\n",
    "that\t71,100,0.004459308807134894,0.005601464145083467\tspam\t0.005601464145083467\t\n",
    "or\t41,88,0.002601263470828688,0.004935943652598303\tspam\t0.004935943652598303\t\n",
    "cat: Unable to write to output stream.\n"
   ]
  },
  {
   "cell_type": "markdown",
   "metadata": {},
   "source": [
    "### Congratulations, you have completed HW2! Please refer to the readme for submission instructions.\n",
    "\n",
    "If you would like to provide feedback regarding this homework, please use the survey at: https://docs.google.com/forms/d/e/1FAIpQLSce9feiQeSkdP43A0ZYui1tMGIBfLfzb0rmgToQeZD9bXXX8Q/viewform"
   ]
  },
  {
   "cell_type": "code",
   "execution_count": null,
   "metadata": {},
   "outputs": [],
   "source": []
  }
 ],
 "metadata": {
  "kernelspec": {
   "display_name": "Python 3",
   "language": "python",
   "name": "python3"
  },
  "language_info": {
   "codemirror_mode": {
    "name": "ipython",
    "version": 3
   },
   "file_extension": ".py",
   "mimetype": "text/x-python",
   "name": "python",
   "nbconvert_exporter": "python",
   "pygments_lexer": "ipython3",
   "version": "3.7.5"
  }
 },
 "nbformat": 4,
 "nbformat_minor": 4
}
