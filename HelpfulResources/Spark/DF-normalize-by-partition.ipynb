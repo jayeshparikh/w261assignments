{
 "cells": [
  {
   "cell_type": "code",
   "execution_count": 3,
   "metadata": {},
   "outputs": [],
   "source": [
    "from pyspark.sql import SparkSession\n",
    "app_name = \"normalize_example\"\n",
    "master = \"local[*]\"\n",
    "spark = SparkSession\\\n",
    "        .builder\\\n",
    "        .appName(app_name)\\\n",
    "        .master(master)\\\n",
    "        .getOrCreate()\n",
    "sc = spark.sparkContext"
   ]
  },
  {
   "cell_type": "code",
   "execution_count": 4,
   "metadata": {},
   "outputs": [],
   "source": [
    "from pyspark.sql import SQLContext\n",
    "sqlContext = SQLContext(sc)"
   ]
  },
  {
   "cell_type": "code",
   "execution_count": 29,
   "metadata": {},
   "outputs": [],
   "source": [
    "df = spark.createDataFrame([['A',1],['A',2],['A',3],['B',2],['B',4]])"
   ]
  },
  {
   "cell_type": "code",
   "execution_count": 9,
   "metadata": {},
   "outputs": [
    {
     "name": "stdout",
     "output_type": "stream",
     "text": [
      "+---+---+\n",
      "| _1| _2|\n",
      "+---+---+\n",
      "|  A|  1|\n",
      "|  A|  2|\n",
      "|  A|  3|\n",
      "|  B|  2|\n",
      "|  B|  4|\n",
      "+---+---+\n",
      "\n"
     ]
    }
   ],
   "source": [
    "df.show()"
   ]
  },
  {
   "cell_type": "code",
   "execution_count": null,
   "metadata": {},
   "outputs": [],
   "source": []
  },
  {
   "cell_type": "code",
   "execution_count": 32,
   "metadata": {},
   "outputs": [
    {
     "name": "stdout",
     "output_type": "stream",
     "text": [
      "+---+-------------------+--------------+\n",
      "| _1|  degree_normalized|degree_min_max|\n",
      "+---+-------------------+--------------+\n",
      "|  B|-0.7071067811865475|           0.0|\n",
      "|  B| 0.7071067811865475|           1.0|\n",
      "|  A|               -1.0|           0.0|\n",
      "|  A|                0.0|           0.5|\n",
      "|  A|                1.0|           1.0|\n",
      "+---+-------------------+--------------+\n",
      "\n"
     ]
    }
   ],
   "source": [
    "import pyspark.sql.functions as F\n",
    "from pyspark.sql.window import Window\n",
    "\n",
    "def z_score(c, w):\n",
    "    return (F.col(c) - F.mean(c).over(w)) / F.stddev(c).over(w)\n",
    "\n",
    "def min_max(c, w):\n",
    "    return (F.col(c) - F.min(c).over(w)) / (F.max(c).over(w) - F.min(c).over(w))\n",
    "\n",
    "\n",
    "w = Window.partitionBy(\"_1\")\n",
    "\n",
    "df.select(\"_1\", z_score(\"_2\",w).alias(\"degree_normalized\"), min_max(\"_2\",w).alias(\"degree_min_max\")).show()\n",
    "\n",
    "\n",
    "'''\n",
    "categories = ['station','s']\n",
    "w = Window.partitionBy(*categories)\n",
    "\n",
    "df.select(z_score(\"degree\",w).alias(\"degree_normalized\"), min_max(\"degree\",w).alias(\"degree_min_max\"),*categories).show()\n",
    "'''"
   ]
  },
  {
   "cell_type": "code",
   "execution_count": null,
   "metadata": {},
   "outputs": [],
   "source": []
  }
 ],
 "metadata": {
  "kernelspec": {
   "display_name": "Python 3",
   "language": "python",
   "name": "python3"
  },
  "language_info": {
   "codemirror_mode": {
    "name": "ipython",
    "version": 3
   },
   "file_extension": ".py",
   "mimetype": "text/x-python",
   "name": "python",
   "nbconvert_exporter": "python",
   "pygments_lexer": "ipython3",
   "version": "3.6.6"
  }
 },
 "nbformat": 4,
 "nbformat_minor": 2
}
