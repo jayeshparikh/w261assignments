{
 "cells": [
  {
   "cell_type": "markdown",
   "metadata": {
    "toc": "true"
   },
   "source": [
    "# Table of Contents\n",
    " <p><div class=\"lev1 toc-item\"><a href=\"#Merge-Sort\" data-toc-modified-id=\"Merge-Sort-1\"><span class=\"toc-item-num\">1&nbsp;&nbsp;</span>Merge Sort</a></div><div class=\"lev2 toc-item\"><a href=\"#Merge-Sort-Illustrated\" data-toc-modified-id=\"Merge-Sort-Illustrated-11\"><span class=\"toc-item-num\">1.1&nbsp;&nbsp;</span>Merge Sort Illustrated</a></div><div class=\"lev2 toc-item\"><a href=\"#python-implementation\" data-toc-modified-id=\"python-implementation-12\"><span class=\"toc-item-num\">1.2&nbsp;&nbsp;</span>python implementation</a></div>"
   ]
  },
  {
   "cell_type": "code",
   "execution_count": 7,
   "metadata": {
    "collapsed": true
   },
   "outputs": [],
   "source": [
    "# general imports\n",
    "import os\n",
    "import re\n",
    "import sys\n",
    "import time\n",
    "import random\n",
    "import numpy as np\n",
    "import pandas as pd\n",
    "import matplotlib.pyplot as plt\n",
    "\n",
    "# tell matplotlib not to open a new window\n",
    "%matplotlib inline\n",
    "\n",
    "# automatically reload modules \n",
    "%reload_ext autoreload\n",
    "%autoreload 2"
   ]
  },
  {
   "cell_type": "markdown",
   "metadata": {},
   "source": [
    "# Merge Sort"
   ]
  },
  {
   "cell_type": "markdown",
   "metadata": {},
   "source": [
    "Merge sort is a recursive algorithm that continually splits a list in half. If the list is empty or has one item, it is sorted by definition (the base case). If the list has more than one item, we split the list and recursively invoke a merge sort on both halves. Once the two halves are sorted, the fundamental operation, called a merge, is performed. Merging is the process of taking two smaller sorted lists and combining them together into a single, sorted, new list.\n",
    "\n",
    "__base case__: If the subarray size is 0 or 1, it is already sorted.   \n",
    "__recursive step__: Otherwise, compute m = lo + (hi - lo)/2, sort (recursively) the two subarrays a[lo, m) and a[m, hi), and merge them to produce a sorted result.     \n",
    "Source: http://interactivepython.org/runestone/static/pythonds/SortSearch/TheMergeSort.html\n",
    "\n",
    "Animated illustration: https://en.wikipedia.org/wiki/Merge_sort  "
   ]
  },
  {
   "cell_type": "markdown",
   "metadata": {},
   "source": [
    "## Merge Sort Illustrated \n",
    "\n",
    "<img src=\"http://interactivepython.org/runestone/static/pythonds/_images/mergesortA.png\"/>\n",
    "<img src=\"http://interactivepython.org/runestone/static/pythonds/_images/mergesortB.png\"/>"
   ]
  },
  {
   "cell_type": "markdown",
   "metadata": {},
   "source": [
    "MapReduce does a merge-sort-join of intermediate key-value pairs during the shuffle and sort phase.   \n",
    "*See cell below for simple implementation*   \n",
    "\n",
    "\n",
    "A __combiner__ is an optimization function which aggregates local data before sending it to the reducer. Hadoop makes no guarantees about utilizing this function, thus the correctness of the algorithm must not rely on it. One could use a combiner for doing a word count, where local word counts are calculated before being sent to the reducer. This improves perfomance by reducing network traffic, since there are fewer intermediate key/value pairs that need to be sent to the reducer. Ex) instead of two pairs (word,1) and (word,1), we can send one pair (word,2)\n",
    "\n",
    "The process of moving data from the mappers to the reducers is called __shuffling__. In this phase, Hadoop performs a groupBy operation using a hash function on the keys, placing Key/Value pairs with the same hash into the same reducer. Alternatively, the programer can specify a custom \"partition\" function which ensures that key/value parirs are sent to the same reducers based on some business logic."
   ]
  },
  {
   "cell_type": "markdown",
   "metadata": {},
   "source": [
    "## python implementation"
   ]
  },
  {
   "cell_type": "code",
   "execution_count": 142,
   "metadata": {},
   "outputs": [
    {
     "name": "stdout",
     "output_type": "stream",
     "text": [
      "\n",
      "--------Merge-sort----------\n",
      "\n",
      "[17, 20, 26, 31, 44, 54, 55, 77, 93]\n",
      "\n",
      "--------Merge-join----------\n",
      "\n",
      "[1, 2, 3, 5, 5, 6, 7, 8]\n"
     ]
    }
   ],
   "source": [
    "def mergeSortJoin(alist):\n",
    "    if len(alist)>1:\n",
    "        mid = len(alist)//2\n",
    "        lefthalf = alist[:mid]\n",
    "        righthalf = alist[mid:]\n",
    "\n",
    "        mergeSort(lefthalf)\n",
    "        mergeSort(righthalf)\n",
    "\n",
    "        i=0\n",
    "        j=0\n",
    "        k=0\n",
    "        while i < len(lefthalf) and j < len(righthalf):\n",
    "            if lefthalf[i] < righthalf[j]:\n",
    "                alist[k]=lefthalf[i]\n",
    "                i=i+1\n",
    "            else:\n",
    "                alist[k]=righthalf[j]\n",
    "                j=j+1\n",
    "            k=k+1\n",
    "\n",
    "        while i < len(lefthalf):\n",
    "            alist[k]=lefthalf[i]\n",
    "            i=i+1\n",
    "            k=k+1\n",
    "\n",
    "        while j < len(righthalf):\n",
    "            alist[k]=righthalf[j]\n",
    "            j=j+1\n",
    "            k=k+1\n",
    "    return alist\n",
    "\n",
    "\n",
    "\n",
    "# just the merge of two sorted lists\n",
    "def mergeJoin(lefthalf,righthalf):\n",
    "    \n",
    "    alist = [0 for i in range(len(lefthalf)+len(righthalf))]\n",
    "    i=0\n",
    "    j=0\n",
    "    k=0\n",
    "    while i < len(lefthalf) and j < len(righthalf):\n",
    "        if lefthalf[i] < righthalf[j]:\n",
    "            alist[k]=lefthalf[i]\n",
    "            i=i+1\n",
    "        else:\n",
    "            alist[k]=righthalf[j]\n",
    "            j=j+1\n",
    "        k=k+1\n",
    "\n",
    "    while i < len(lefthalf):\n",
    "        alist[k]=lefthalf[i]\n",
    "        i=i+1\n",
    "        k=k+1\n",
    "\n",
    "    while j < len(righthalf):\n",
    "        alist[k]=righthalf[j]\n",
    "        j=j+1\n",
    "        k=k+1\n",
    "    return alist\n",
    "\n",
    "print \"\\n--------Merge-sort----------\\n\"\n",
    "alist = [54,26,93,17,77,31,44,55,20]\n",
    "print mergeSortJoin(alist)\n",
    "\n",
    "print \"\\n--------Merge-join----------\\n\"\n",
    "A = [1, 3, 5, 5, 7]\n",
    "B = [2, 6, 8]\n",
    "print mergeJoin(A,B)    "
   ]
  }
 ],
 "metadata": {
  "kernelspec": {
   "display_name": "Python 3",
   "language": "python",
   "name": "python3"
  },
  "language_info": {
   "codemirror_mode": {
    "name": "ipython",
    "version": 3
   },
   "file_extension": ".py",
   "mimetype": "text/x-python",
   "name": "python",
   "nbconvert_exporter": "python",
   "pygments_lexer": "ipython3",
   "version": "3.6.6"
  },
  "toc": {
   "colors": {
    "hover_highlight": "#DAA520",
    "running_highlight": "#FF0000",
    "selected_highlight": "#FFD700"
   },
   "moveMenuLeft": true,
   "nav_menu": {
    "height": "512px",
    "width": "252px"
   },
   "navigate_menu": true,
   "number_sections": false,
   "sideBar": true,
   "threshold": 4,
   "toc_cell": true,
   "toc_position": {
    "height": "864px",
    "left": "0px",
    "right": "20px",
    "top": "107px",
    "width": "437px"
   },
   "toc_section_display": "block",
   "toc_window_display": true,
   "widenNotebook": false
  }
 },
 "nbformat": 4,
 "nbformat_minor": 2
}
