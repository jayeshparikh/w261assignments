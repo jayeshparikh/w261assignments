{
 "cells": [
  {
   "cell_type": "markdown",
   "metadata": {},
   "source": [
    "# Unit 10 - Graphs Part 2 - Page Rank\n",
    "__`MIDS w261: Machine Learning at Scale | UC Berkeley School of Information | Summer 2019`__"
   ]
  },
  {
   "cell_type": "markdown",
   "metadata": {},
   "source": [
    "Last week we introduced graphs and their applications. We looked at the specific challenges with parallelizing graph traversal and in particular the Single Source Shortest Path algorithm. In class today we'll look at another famous algorithm called PageRank which is an implementation of the Markov Chain, and which established Google as one of the world's most popular search engines.\n",
    "\n",
    "By the end of this session, you will be able to:  \n",
    "\n",
    "* ... __interpret__ the meaning of graph centrality metrics in the context of a specific problem or datset. (e.g. _the connection between eigenvector centrality and PageRank; bipartite graphs & recommender systems_.)\n",
    "* ... __identify__ the properties of a \"well behaved\" graph.\n",
    "* ... __explain__ how the \"random jump\" adjustment makes the web graph both irreducible and aperiodic.\n",
    "* ... __describe__ a transition matrix and stationary vector in the context of markov chains.\n",
    "* ... __implement__ the power method to find the stationary vector.\n",
    "* ... __identify__ what chages need to be made to PR to implement Topic Specific PageRank\n",
    "* ... __formulate__ the steps needed to implement TextRank (e.g. _how to convert unstructured text into a graph datastructure which can be fed to  the PageRank algorithm_. )\n",
    "* ... __describe__ the relationship of *PageRank* to *PCA (Principal Components Analysis)* and *SVD (Singular Value Decomposition)*\n"
   ]
  },
  {
   "cell_type": "markdown",
   "metadata": {},
   "source": [
    "## Notebook setup"
   ]
  },
  {
   "cell_type": "code",
   "execution_count": null,
   "metadata": {},
   "outputs": [],
   "source": [
    "# imports\n",
    "from IPython.display import Image\n",
    "import re\n",
    "import heapq\n",
    "import itertools\n",
    "import numpy as np\n",
    "import networkx as nx\n",
    "from collections import defaultdict, deque\n",
    "import matplotlib.pyplot as plt\n",
    "%matplotlib inline"
   ]
  },
  {
   "cell_type": "code",
   "execution_count": null,
   "metadata": {},
   "outputs": [],
   "source": [
    "# store path to notebook\n",
    "PWD = !pwd\n",
    "PWD = PWD[0]"
   ]
  },
  {
   "cell_type": "code",
   "execution_count": null,
   "metadata": {},
   "outputs": [],
   "source": [
    "# make data directory if it doesn't already exist\n",
    "!mkdir data"
   ]
  },
  {
   "cell_type": "markdown",
   "metadata": {},
   "source": [
    "# Graph Centrality"
   ]
  },
  {
   "cell_type": "markdown",
   "metadata": {},
   "source": [
    "__Identifying Special Nodes__ (Centrality): There are many ways to define what 'special' means, including metrics based on node in-degree, average distance to other nodes, and relationship to cluster structure. These special nodes are important to investigators attempting to break up terrorist cells, epidemiologists modeling the spread of diseases, advertisers trying to promote products, and many others. In particular, eigenvector centrality is used to find popular webpages using the PageRank algorithm, which in turn has been extended to Text summarization, Keyword extraction/Concept extraction using TextRank.\n",
    "\n",
    "### A few examples of graph centrality measures\n",
    "\n",
    "__Notation:__\n",
    "The neighborhood of a vertex $v$ in graph $G$ is defined as a set of neighbors of a vertex $v$ and is denoted by $N(v)$. The neighborhood size is the number of immediate neighbors to a vertex. \n",
    "\n",
    "The number of edges between all neighbors of a vertex is denoted by $E(v)$. In the directed graph, the set of $N_{in}(v)$ is the set of vertices that point to a vertex $v$ (predecessors) and set of $N_{out}(v)$ is the set of vertices that vertex $v$ points to (successors).\n",
    "\n",
    "\n",
    "\n",
    "#### Clustering coefficient\n",
    "The clustering coefficient of a vertex measures the density of edges among the immediate neighbors of a vertex. It determines the probability of the presence of an edge between any two neighbors of a vertex. It is calculated as a ratio between the number of edges $E_i$ that actually exist among these and the total possible number of edges among neighbors: \n",
    "\n",
    "$$\n",
    "c(v) = \\frac{2E(v)}{|N(v)|(|N(v)|-1)}\n",
    "$$\n",
    "\n",
    "\n",
    "#### Degree Centrality\n",
    "The degree $d(v)$ of a vertex 𝑣 is the number of edges at $v$; it is equal to the number of neighbors of $v$. The degree centrality $C_d(v)$ of a vertex $v$ is defined as the degree of the vertex. It can be normalized by dividing it by the maximum possible degree $N - 1$:\n",
    "\n",
    "$$\n",
    "C_d(v) = \\frac{d(v)}{N-1}\n",
    "$$\n",
    "\n",
    "#### Betweenness centrality \n",
    "The betweenness centrality $C_b(v)$ of a vertex $v$ quantifies the number of times a vertex acts as a bridge along the shortest path between two other vertices. Let $\\sigma_{out}$ be the number of the shortest paths from vertex $u$ to vertex $t$ and let $\\sigma_{out}(v)$ be the number of those paths that pass through the vertex $v$. The normalized betweenness centrality of a vertex $v$ should be divided by the number of all possible edges in the graph and is given by:\n",
    "\n",
    "$$\n",
    "C_b(v) = \\frac{2\\sum_{v\\ne u\\ne t}\\frac{\\sigma_{ut}(v)}{\\sigma_{ut}}}{(N-1)(N-2)}\n",
    "$$\n",
    "\n",
    "#### Closeness centrality \n",
    "In a connected graph, closeness centrality (or closeness) of a node is a measure of centrality in a network, calculated as the reciprocal of the sum of the length of the shortest paths between the node and all other nodes in the graph. Thus, the more central a node is, the closer it is to all other nodes. When speaking of closeness centrality, people usually refer to its normalized form which represents the average length of the shortest paths instead of their sum. It is generally given by:\n",
    "\n",
    "$$\n",
    "C_{closeness}(v) = \\frac{|V|}{\\sum_u d(u,v)}\n",
    "$$\n",
    "\n",
    "where where $|V|$ is the number of vertices in the graph, and $d(u,v)$ is the distance between vertices $v$ and $u$. \n",
    "\n",
    "\n",
    "#### Eigenvector centrality   \n",
    "The eigenvector centrality $C_{EV}(v)$ measures the centrality of a vertex $v$ as a function of the centralities of its neighbors. For the vertex $v$ and constant $\\lambda$ it is defined:\n",
    "\n",
    "$$\n",
    "C_{EV}(v) = \\frac{1}{\\lambda} \\sum_{u\\in N(v)} C_{EV}(u)\n",
    "$$\n",
    "\n",
    "In the case of weighted networks, the equation can be generalized. Let $w_{uv}$ be the weight of edge between vertices $u$ and $v$ and $\\lambda$ a constant. The eigenvector centrality of a vertex $v$ is given by:\n",
    "\n",
    "$$\n",
    "C_{EV}(v) = \\frac{1}{\\lambda} \\sum_{u\\in N(v)} w_{uv} \\times C_E(u)\n",
    "$$\n",
    "\n",
    "The PageRank centrality is based on the eigenvector centrality measure and implements the concept of \"voting\". The PageRank score of a vertex $v$ is initialized to a default value and computed iteratively until convergence using the following equation:\n",
    "\n",
    "$$\n",
    "C_{pagerank}(v) = (1-d) + d \\sum_{u \\in N_{in}(v)} \\frac {C_{PageRank}(u)}{|N_{out}(u)|}\n",
    "$$\n",
    "where $d$ is the damping factor set between 0 and 1 (usually set to 0.85).\n",
    "\n",
    " \n",
    "__Sources__:   \n",
    "https://www.researchgate.net/publication/280092953_An_Overview_of_Graph-Based_Keyword_Extraction_Methods_and_Approaches   \n",
    "https://en.wikipedia.org/wiki/Centrality\n"
   ]
  },
  {
   "cell_type": "markdown",
   "metadata": {},
   "source": [
    "# 1. Background - From Random Walks to Markov Chains to PageRank\n",
    "\n",
    "## The World Wide Web"
   ]
  },
  {
   "cell_type": "markdown",
   "metadata": {},
   "source": [
    "\n",
    "There are over 4 billion internet users in 2019, and nearly 2 billion websites. Each of those websites can have multiple pages, and Google only crawls a fraction of them.\n",
    "\n",
    "Wikipedia alone consists of almost 6 million articles, and nearly 50 million wiki pages.\n",
    "\n",
    "Source of above stats: [https://www.websitehostingrating.com/internet-statistics-facts/](https://www.websitehostingrating.com/internet-statistics-facts/)\n"
   ]
  },
  {
   "cell_type": "markdown",
   "metadata": {},
   "source": [
    "<img src=\"google-index.png\">"
   ]
  },
  {
   "cell_type": "markdown",
   "metadata": {},
   "source": [
    "Source of above chart: [https://www.worldwidewebsize.com/](https://www.worldwidewebsize.com/)"
   ]
  },
  {
   "cell_type": "markdown",
   "metadata": {},
   "source": [
    "### So how does Google decide which pages are \"relevant\"?\n",
    "https://stanford.edu/~rezab/classes/cme323/S15/notes/lec7.pdf\n",
    "\n",
    "The goal is to find a good metric for measuring the importance of each node (page) in the graph (corresponding to a ranking over the websites). A website’s importance will be measured by the number of sites that link to it. Ideally, we would like the amount of importance conferred on a website by receiving a link to be proportional to the importance of the website giving the link. (*the centrality of a vertex $v$ as a function of the centralities of its neighbors - see eignvector centrality definition above*)"
   ]
  },
  {
   "cell_type": "markdown",
   "metadata": {},
   "source": [
    "\n",
    "<img src=\"beach.png\" width=\"50%\">"
   ]
  },
  {
   "cell_type": "markdown",
   "metadata": {},
   "source": [
    "We can formalize this intuition via the process of a random walk. We would like to model a __random surfer__ who is traversing the web with uniform probability of following any link outgoing from the page the surfer is currently on. We are intersted in the behavior of this random surfer in the limit as she takes an infinite number of jumps.\n"
   ]
  },
  {
   "cell_type": "markdown",
   "metadata": {},
   "source": [
    "To express this in linear algebra, we will make use of the adjacency matrix, $A$, and a out-degree matrix $D$, where:"
   ]
  },
  {
   "cell_type": "markdown",
   "metadata": {},
   "source": [
    "<img src=\"rezab-01.png\">"
   ]
  },
  {
   "cell_type": "markdown",
   "metadata": {},
   "source": [
    "Let $Q = D ^{-1} A$. This forms the transition matrix of the random-walker. Given the current state\n",
    "of the walker each row of the matrix gives the probability the walker will transition to each new\n",
    "state."
   ]
  },
  {
   "cell_type": "markdown",
   "metadata": {},
   "source": [
    "<img src=\"rezab-02.png\">"
   ]
  },
  {
   "cell_type": "markdown",
   "metadata": {},
   "source": [
    "It’s interesting to note that $Q^k_{ij}$ is equal to the probability of going from node $i$ to node $j$ in exactly $k$ steps, in a random walk over graph $G$. (The $k$ steps are the time-steps, not to be confused with hops (*paths*))\n",
    "\n",
    "The __stationary distribution (or steady state)__ of the __Markov Chain__ with the transition probabilities defined by $Q$ is the solution to our PageRank problem as defined above. The stationary distribution can be interpreted as the proportion of time on average is spent at a specific node (page) during an infinitely long random walk.\n"
   ]
  },
  {
   "cell_type": "markdown",
   "metadata": {},
   "source": [
    "# WAIT, WAT?\n",
    "## A historical digression:"
   ]
  },
  {
   "cell_type": "markdown",
   "metadata": {},
   "source": [
    "<table>\n",
    "    <tr>\n",
    "        <td><p  style=\"text-align:left;\"><img src=\"220px-Jakob_Bernoulli.jpg\"></p></td>\n",
    "        <td><img src=\"NekrasovPA.jpg\" style=\"text-align:left;\"></td>\n",
    "        <td><img src=\"markov-coffee.png\" style=\"text-align:left;\"></td>\n",
    "    </tr>\n",
    "    <tr>\n",
    "        <td style=\"text-align:left;width:33%;\"><h3>Jacob Bernoulli</h3></td>\n",
    "        <td style=\"text-align:left;width:33%;\"><h3>Pavel Alekseevich Nekrasov</h3></td>\n",
    "        <td style=\"text-align:left;width:33%;\"><h3>Andrey Andreyevich Markov</h3></td>\n",
    "    </tr>\n",
    "    <tr>\n",
    "        <td style=\"text-align:left;vertical-align:top;\"><p>Jacob Bernoulli (also known as James or Jacques; 6 January 1655 – 16 August 1705) was one of the many prominent mathematicians in the Bernoulli family. Following his father's wish, he studied theology and entered the ministry. But contrary to the desires of his parents, he also studied mathematics and astronomy. </p>\n",
    "            <ul>\n",
    "                <li>Weak law of large numbers </li>\n",
    "                <li>Central Limit theorem</li>\n",
    "            </ul>\n",
    "</td>\n",
    "        <td style=\"text-align:left;vertical-align:top;\"><p>Pavel Alekseevich Nekrasov (1853–1924) was a Russian mathematician and a Rector of the Imperial University of Moscow.</p></td>\n",
    "        <td style=\"text-align:left;vertical-align:top;\"><p>Andrey Andreyevich Markov (1856 – 1922) was a Russian mathematician best known for his work on stochastic processes. A primary subject of his research later became known as Markov chains and Markov processes. He was seen as a rebellious student by a select few teachers. In his academics he performed poorly in most subjects other than mathematics. Markov was an atheist. In 1912 he protested Leo Tolstoy's excommunication from the Russian Orthodox Church by requesting his own excommunication. The Church complied with his request.</p></td>\n",
    "    </tr>\n",
    "    <tr><td colspan=\"3\">Source: <a href=\"https://en.wikipedia.org/wiki/Main_Page\">Wikipedia</a></td></tr>\n",
    "</table>"
   ]
  },
  {
   "cell_type": "markdown",
   "metadata": {},
   "source": [
    "## The origin of the Markov Chain by Britt Cruise\n",
    "https://www.khanacademy.org/computing/computer-science/informationtheory/moderninfotheory/v/markov_chains"
   ]
  },
  {
   "cell_type": "markdown",
   "metadata": {},
   "source": [
    "Plato speculated that after an uncountable number of years, the universe will reach an ideal state, returning to its perfect form. But it wasn't until the 16th century that Bernoulli came along and refined the idea of expectation. He was focused on a method of accurately estimating the unknown probability of some event based on the number of times the event occurs in independent trials.\n",
    "(pebbles in cups example). He went on to conclude \"If observations of all events be continued for the entire infinity, it will be noticed that everything in the world is governed by precise ratios and a constant law of change.\" This became known as the weak __law of large numbers__.  This idea was quickly extended as it was noticed that not only did things converge on an expected average, but the probability of variation away from averages also follow a familiar, underlying shape, or distribution. This overall curvature, known as the binomial distribution, appears to be an ideal form as it kept appearing everywhere any time you looked at the variation of a large number of random trials (coin toss example). It seems the average fate of these events is somehow predetermined, known today as the __central limit theorem__.\n",
    "\n",
    "This was a dangerous philosophical idea to some!\n",
    "\n",
    "Nekrasov didn't like the idea of a predetermined statistical fate, and claimed that __Independence__ is a neccessary condition for the law of large numbers. Since independence just describes these toy examples using beans or dice, where the outcome of previous events doesn't change the probability of the current or future events. However, as we all can relate, most things in the physical world are clearly dependent on prior outcomes, such as the chance of fire or sun or even our life expectancy. When the probability of some event depends, or is conditional, on previous events, we say they are dependent events, or dependent variables.\n",
    "\n",
    "This claim angered another Russian mathematician, Andrey Markov, who maintained a very public animosity towards Nekrasov. He goes on to say in a letter that \"this circumstance prompts me to explain in a series of articles that the law of large numbers can apply to dependent variables\", using a construction which he brags Nekrasov cannot even dream about! \n",
    "\n",
    "Markov extends Bernoulli's results to dependent variables using an ingenious construction. (*putting pebbles back into buckets depending on state*), and thus coining the __Markov property__. Let's explore what that looks like: "
   ]
  },
  {
   "cell_type": "markdown",
   "metadata": {},
   "source": [
    "### Discussion Question:\n",
    "* What becomes steady? Do the states become steady? Does it mean that you will always be guaranteed to go from page i to page j?\n",
    "* No - the state of the chain keeps jumping forever! What besomes steady, are the probailities.   \n",
    "https://www.youtube.com/watch?v=IkbkEtOOC1Y marker 38:30"
   ]
  },
  {
   "cell_type": "markdown",
   "metadata": {},
   "source": [
    "# 2. Markov Chain via Power Iteration"
   ]
  },
  {
   "cell_type": "markdown",
   "metadata": {},
   "source": [
    "## Recap:\n",
    "\n",
    "* A __Markov chain__, named after Andrey Markov, is a  mathematical system that undergoes transitions  from one state to another, between a finite or  countable number of possible states.\n",
    "* It is a __random process__ usually characterized as  __memoryless__: the next state depends only on the  current state and not on the sequence of events that preceded it.\n",
    "* This specific kind of \"memorylessness\" is called  the __Markov property__. Markov chains have many  applications as statistical models of real-world  processes.\n",
    "* A Markov chain consists of __state vector__ of dimension $n$ and an $n \\times n$ transition __probability matrix__ $P$.\n",
    "* At each time step $k$, we are in exactly one of the states.\n",
    "* For 1 ≤ i,j ≤ n, the matrix entry $P_{ij}$ tells us the  probability of j being the next state, given we are  currently in state i.\n",
    "\n"
   ]
  },
  {
   "cell_type": "markdown",
   "metadata": {},
   "source": [
    "### Let's look at an example \"web graph\" with nodes representing pages, and edges representing links:\n",
    "<img src=\"web-graph01.png\" width=\"30%\">\n",
    "We can represent this graph as a transition matrix $A$, and an out-degree matrix $D$, from which we can construct our transition matrix $Q$."
   ]
  },
  {
   "cell_type": "markdown",
   "metadata": {},
   "source": [
    "\n",
    "<img src=\"graph02.png\" width=\"80%\">"
   ]
  },
  {
   "cell_type": "markdown",
   "metadata": {},
   "source": [
    "<img src=\"graph03.png\" width=90%>"
   ]
  },
  {
   "cell_type": "markdown",
   "metadata": {},
   "source": [
    "TODO: Add graphic of convergence to steady state"
   ]
  },
  {
   "cell_type": "markdown",
   "metadata": {},
   "source": [
    "# Will this always work?"
   ]
  },
  {
   "cell_type": "code",
   "execution_count": null,
   "metadata": {},
   "outputs": [],
   "source": [
    "# Warm up (RUN THIS CELL AS IS)\n",
    "from IPython.display import Image \n",
    "Image(filename=\"will-it-work.gif\")\n"
   ]
  },
  {
   "cell_type": "markdown",
   "metadata": {},
   "source": [
    "# Exercise 1\n",
    "In the following examples, we're going to make some modifications to our graph structure, and attempt to perform Power Iteration using the provided function. Notice if/how each converges and comment on the behavior you obeserve. Let's start with a baseline and use the networkx library to establish some expected results. Run the next 3 cells as is."
   ]
  },
  {
   "cell_type": "code",
   "execution_count": 2,
   "metadata": {},
   "outputs": [],
   "source": [
    "# RUN THIS CELL AS IS\n",
    "import networkx as nx\n",
    "import matplotlib.pyplot as plt\n",
    "%matplotlib inline"
   ]
  },
  {
   "cell_type": "code",
   "execution_count": 3,
   "metadata": {},
   "outputs": [
    {
     "data": {
      "image/png": "[encoded data removed]",
      "text/plain": [
       "<Figure size 432x288 with 1 Axes>"
      ]
     },
     "metadata": {
      "needs_background": "light"
     },
     "output_type": "display_data"
    }
   ],
   "source": [
    "# Let's make a graph - RUN THIS CELL AS IS\n",
    "G=nx.DiGraph()\n",
    "\n",
    "G.add_edge(\"1\",\"2\",weight=1)\n",
    "G.add_edge(\"1\",\"4\",weight=1)\n",
    "G.add_edge(\"2\",\"1\",weight=1)\n",
    "G.add_edge(\"2\",\"3\",weight=1)\n",
    "G.add_edge(\"2\",\"4\",weight=1)\n",
    "G.add_edge(\"3\",\"1\",weight=1)\n",
    "G.add_edge(\"4\",\"1\",weight=1)\n",
    "G.add_edge(\"4\",\"3\",weight=1)\n",
    "\n",
    "esmall=[(u,v) for (u,v,d) in G.edges(data=True)]\n",
    "\n",
    "pos=nx.spring_layout(G)\n",
    "\n",
    "# nodes\n",
    "nx.draw_networkx_nodes(G,pos,node_size=1200,node_color=\"#cccccc\")\n",
    "nx.draw_networkx_edges(G,pos,edgelist=esmall,width=1,alpha=0.5,edge_color='b',arrows=True)\n",
    "\n",
    "# labels\n",
    "nx.draw_networkx_labels(G,pos,font_size=12,font_family='sans-serif')\n",
    "\n",
    "plt.axis('off')\n",
    "plt.show() # display"
   ]
  },
  {
   "cell_type": "code",
   "execution_count": 4,
   "metadata": {},
   "outputs": [
    {
     "data": {
      "text/plain": [
       "{'1': 0.36415439786702514,\n",
       " '2': 0.1922653332531849,\n",
       " '4': 0.24674042750855565,\n",
       " '3': 0.19683984137123417}"
      ]
     },
     "execution_count": 4,
     "metadata": {},
     "output_type": "execute_result"
    }
   ],
   "source": [
    "# Sanity check using networkx - RUN THIS CELL AS IS\n",
    "nx.pagerank(G, alpha=0.85)"
   ]
  },
  {
   "cell_type": "markdown",
   "metadata": {},
   "source": [
    "### The Power Iteration method produces the steady state vector, which should match the PageRank result above. Or does it?"
   ]
  },
  {
   "cell_type": "code",
   "execution_count": 14,
   "metadata": {},
   "outputs": [],
   "source": [
    "# Power Iteration helper function - RUN THIS CELL AS IS\n",
    "import numpy as np\n",
    "def power_iteration(xInit, tMatrix, nIter, verbose = True):\n",
    "    state_vector = xInit\n",
    "    for ix in range(nIter):    \n",
    "        \n",
    "        new_state_vector = tMatrix.T@state_vector\n",
    "        state_vector = new_state_vector\n",
    "        \n",
    "        if verbose:\n",
    "            print(f'Step {ix}: {state_vector}')\n",
    "            \n",
    "    return state_vector\n",
    "\n",
    "xInit = np.array([1,0,0,0]) "
   ]
  },
  {
   "cell_type": "markdown",
   "metadata": {},
   "source": [
    " > __DISCUSSION QUESTIONS:__     \n",
    "For each of the graphs below, answer the following questions:\n",
    "* Does this matrix converge? On What?\n",
    "* What could explain this behavior?"
   ]
  },
  {
   "cell_type": "markdown",
   "metadata": {},
   "source": [
    "### Example 1\n",
    "\n",
    "<img src=\"web-graph01.png\" width=\"30%\">\n"
   ]
  },
  {
   "cell_type": "code",
   "execution_count": 7,
   "metadata": {},
   "outputs": [
    {
     "data": {
      "text/plain": [
       "array([0.37505804, 0.12502789, 0.37481465, 0.24999279])"
      ]
     },
     "execution_count": 7,
     "metadata": {},
     "output_type": "execute_result"
    }
   ],
   "source": [
    "# Example 1\n",
    "A = np.array([[0, 1, 0, 1], [1, 0, 1, 1], [1, 0, 0, 0], [1, 0, 1, 0]])\n",
    "D_1 = np.array([[1/2, 0, 0, 0], [0, 1/3, 0, 0], [0, 0, 1, 0], [0, 0, 0, 1/2]])\n",
    "Q = A@D_1\n",
    "\n",
    "# Change the number of iterations. \n",
    "# Set VERBOSE to true to see the output at each iteration\n",
    "n_iterations = 20\n",
    "VERBOSE = False\n",
    "\n",
    "power_iteration(xInit, Q, n_iterations, verbose=VERBOSE)\n"
   ]
  },
  {
   "cell_type": "markdown",
   "metadata": {},
   "source": [
    "### Example 2\n",
    "<img src=\"web-graph02.png\" width=\"30%\">"
   ]
  },
  {
   "cell_type": "code",
   "execution_count": 12,
   "metadata": {},
   "outputs": [
    {
     "data": {
      "text/plain": [
       "array([2.09411655e-05, 1.14871101e-05, 0.00000000e+00, 2.66844337e-05])"
      ]
     },
     "execution_count": 12,
     "metadata": {},
     "output_type": "execute_result"
    }
   ],
   "source": [
    "# Example 2\n",
    "A = np.array([[0, 1, 1, 1], [1, 0, 1, 1], [0, 0, 0, 0], [1, 0, 1, 0]])\n",
    "D_1 = np.array([[1/3, 0, 0, 0], [0, 1/3, 0, 0], [0, 0, 0, 0], [0, 0, 0, 1/2]])\n",
    "Q = A@D_1\n",
    "\n",
    "# Change the number of iterations. \n",
    "# Set VERBOSE to true to see the output at each iteration\n",
    "n_iterations = 20\n",
    "VERBOSE = False\n",
    "\n",
    "power_iteration(xInit, Q, n_iterations, verbose=VERBOSE)\n"
   ]
  },
  {
   "cell_type": "markdown",
   "metadata": {},
   "source": [
    "### Example 3:\n",
    "<img src=\"web-graph03.png\" width=\"30%\">"
   ]
  },
  {
   "cell_type": "code",
   "execution_count": 13,
   "metadata": {},
   "outputs": [
    {
     "data": {
      "text/plain": [
       "array([0.5, 0. , 0.5, 0. ])"
      ]
     },
     "execution_count": 13,
     "metadata": {},
     "output_type": "execute_result"
    }
   ],
   "source": [
    "# Example 3\n",
    "A = np.array([[0, 1, 0, 1], [1, 0, 1, 0], [0, 1, 0, 1], [1, 0, 1, 0]])\n",
    "D_1 = np.array([[1/2, 0, 0, 0], [0, 1/2, 0, 0], [0, 0, 1/2, 0], [0, 0, 0, 1/2]])\n",
    "Q = A@D_1\n",
    "\n",
    "# Change the number of iterations. \n",
    "# Set VERBOSE to true to see the output at each iteration\n",
    "n_iterations = 20\n",
    "VERBOSE = False\n",
    "\n",
    "power_iteration(xInit, Q, n_iterations, verbose=VERBOSE)\n"
   ]
  },
  {
   "cell_type": "markdown",
   "metadata": {},
   "source": [
    "### <--- SOLUTION --->\n",
    "__INSTRUCTOR NOTE:__ Students should notice that the state oscillates and never converges."
   ]
  },
  {
   "cell_type": "markdown",
   "metadata": {},
   "source": [
    "# 3. Well behaved graphs \n",
    "#### MIT 6.041 Probabilistic Systems Analysis and Applied Probability   \n",
    "These lectures go into more detail about Markov Chains, and are a great resource if you want to dig deeper. The examples below were taken from these lectures.\n",
    "\n",
    "Lecture 16 - Markov Chains Part 1  \n",
    "https://www.youtube.com/watch?v=IkbkEtOOC1Y\n",
    "\n",
    "Lecture 17 - Markov Chains Part 2  \n",
    "https://www.youtube.com/watch?v=ZulMqrvP-Pk"
   ]
  },
  {
   "cell_type": "markdown",
   "metadata": {},
   "source": [
    "## Primitivity - a graph is primitive if it is irreducible and aperiodic"
   ]
  },
  {
   "cell_type": "markdown",
   "metadata": {},
   "source": [
    "### Irreducibility\n",
    "A Markov chain is said to be irreducible if its state space is a single communicating class; in other words, if it is possible to get to any state from any state."
   ]
  },
  {
   "cell_type": "markdown",
   "metadata": {},
   "source": [
    "### Periodicity\n"
   ]
  },
  {
   "cell_type": "markdown",
   "metadata": {},
   "source": [
    "__Is this graph aperiodic?__"
   ]
  },
  {
   "cell_type": "markdown",
   "metadata": {},
   "source": [
    "<img src=\"peridicity-fun-example.png\">"
   ]
  },
  {
   "cell_type": "markdown",
   "metadata": {},
   "source": [
    "__NO!__\n",
    "If you are in a purple state, you can only go to a white state, and vs. Again, as N (number of transitions) goes to infinity, the probability of being in the purple or white state does not converge to anything. It keeps alternating between 0 and 1.\n",
    "\n",
    "<img src=\"peridicity-fun-example-02.png\">\n",
    "\n",
    "If you are at a purple state, then the probability of going into a white state is 1. But if you are in a white state, then the probability of going to a white state is 0. No matter how many times you walk this graph (ie, ad infinitum), these probabilities will continue to oscillate, and will never settle on a steady state probability. Here the initial condition has an influence on the probabilities of being in each state.\n"
   ]
  },
  {
   "cell_type": "markdown",
   "metadata": {},
   "source": [
    "### The steady state convergence theorem - Intuition\n",
    "\n",
    "Think of two copies of the chain that start at different initial states. \n",
    "\n",
    "The state moves randomly, and as the state moves around randomly starting from the two initial states, on a random trajectory… as long as you have a single recurrent class, and you don’t have periodicity, at some point those two states (those trajectories) are going to collide. Just because there’s enough randomness there. After the state becomes the same, the future of those trajectories, probabilistically, is the same, because they both started in the same state.\n",
    "\n",
    "So this means that the initial conditions stopped having any influence.\n"
   ]
  },
  {
   "cell_type": "markdown",
   "metadata": {},
   "source": [
    "# Stochasticity - a graph is stochastic if all rows sum to 1"
   ]
  },
  {
   "cell_type": "markdown",
   "metadata": {},
   "source": [
    "# 3. Connecting the dots: \n",
    "## Random Surfer -> Markov  Process -> PageRank\n",
    "\n",
    "Let's go back to our web graph example from earlier.\n",
    "\n",
    "<img src=\"reza-web-graph.png\">\n",
    "Adapting the machinery of the Markov processes gives us a principled approach to calculate the pagerank of each webpage. \n",
    "\n",
    "It is nothing more than  the steady state probability distribution of the  markov process underlying the random surfer model of web navigation.\n",
    "\n",
    "__PageRank__ is a link analysis algorithm that  \"measures” relative importance of each page within  the webgraph.\n",
    "$v_0P = v_0$\n",
    "\n",
    "## But... is the web-graph well behaved?"
   ]
  },
  {
   "cell_type": "markdown",
   "metadata": {},
   "source": [
    "## Adjustments for PageRank\n",
    "\n",
    "* Random Jump factor adds a small amount of probability to each node to teleport to any other node.\n",
    "\n",
    "# TODO: show graph of all connected nodes and show how graphically this relates to adding links from all nodes to all other nodes including self links. Discuss how this fixes both issues."
   ]
  },
  {
   "cell_type": "markdown",
   "metadata": {},
   "source": [
    "<img src=\"formula-matrices.png\" width=70%>"
   ]
  },
  {
   "cell_type": "markdown",
   "metadata": {},
   "source": [
    "$$\n",
    "P^T = (1-\\alpha)\\big(\\frac{m}{|G|} + P'\\big) + \\alpha \\frac{1}{|G|} \n",
    "$$\n"
   ]
  },
  {
   "cell_type": "markdown",
   "metadata": {},
   "source": [
    "<img src=\"formula-graphs.png\" width=60%>"
   ]
  },
  {
   "cell_type": "markdown",
   "metadata": {},
   "source": []
  },
  {
   "cell_type": "markdown",
   "metadata": {},
   "source": [
    "# 3. PageRank at Scale"
   ]
  },
  {
   "cell_type": "markdown",
   "metadata": {},
   "source": [
    "<img src=\"PR-illustration.png\">"
   ]
  },
  {
   "cell_type": "markdown",
   "metadata": {},
   "source": [
    "Just like Single Source Shortest Path, this is an iterative algorithm that requires that we maintain the entire graph structure at each iteration. \n",
    "\n"
   ]
  },
  {
   "cell_type": "markdown",
   "metadata": {},
   "source": [
    "### Optimization\n",
    "Custom partitioning - how can we leverage custom partitioning to speed up PageRank? http://stanford.edu/~rezab/dao/notes/Partitioning_PageRank.pdf"
   ]
  },
  {
   "cell_type": "code",
   "execution_count": null,
   "metadata": {},
   "outputs": [],
   "source": []
  },
  {
   "cell_type": "markdown",
   "metadata": {},
   "source": []
  },
  {
   "cell_type": "markdown",
   "metadata": {},
   "source": []
  },
  {
   "cell_type": "markdown",
   "metadata": {},
   "source": [
    "------------------------------------------------------------"
   ]
  },
  {
   "cell_type": "markdown",
   "metadata": {},
   "source": [
    "# Extensions\n",
    "\n",
    "### Personalized PageRank\n",
    "Markov models have also been used to analyze web navigation behavior of users. A user's web link transition on a particular website can be modeled using first- or second-order Markov models and can be used to make predictions regarding future navigation and to personalize the web page for an individual user.\n",
    "\n",
    "### Topic Specific PageRank\n",
    "### TextRank\n",
    "### PCA/SVD"
   ]
  },
  {
   "cell_type": "markdown",
   "metadata": {},
   "source": [
    "# Going Further"
   ]
  },
  {
   "cell_type": "markdown",
   "metadata": {},
   "source": [
    "### Google Knowledge Graph\n",
    "https://en.wikipedia.org/wiki/Knowledge_Graph"
   ]
  },
  {
   "cell_type": "markdown",
   "metadata": {},
   "source": [
    "### Scalable Graph Processing Frameworks: A Taxonomy and Open Challenges\n",
    "http://www.buyya.com/papers/GraphProcessing-ACMCS.pdf"
   ]
  },
  {
   "cell_type": "code",
   "execution_count": null,
   "metadata": {},
   "outputs": [],
   "source": []
  }
 ],
 "metadata": {
  "kernelspec": {
   "display_name": "Python 3",
   "language": "python",
   "name": "python3"
  },
  "language_info": {
   "codemirror_mode": {
    "name": "ipython",
    "version": 3
   },
   "file_extension": ".py",
   "mimetype": "text/x-python",
   "name": "python",
   "nbconvert_exporter": "python",
   "pygments_lexer": "ipython3",
   "version": "3.6.6"
  }
 },
 "nbformat": 4,
 "nbformat_minor": 2
}
